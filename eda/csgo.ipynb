{
 "cells": [
  {
   "cell_type": "markdown",
   "metadata": {},
   "source": [
    "**Index Construction Methodology Explained**\n",
    "\n",
    "The process of constructing the index in the provided code revolves around aggregating item-specific data (price and quantity), and applying 'caps' to this aggregated data. Here's a breakdown of the steps involved:\n",
    "\n",
    "1. **Item-specific Index Calculation:** \n",
    "   For each item, identified by `market_hash_name`, an 'index' value is computed. This index for an item is derived as the product of its price and quantity:\n",
    "   index = price * quantity\n",
    "\n",
    "2. **Computing Index Share:** \n",
    "   To understand the relative importance or weight of an item's index in the entire dataset, an 'index share' for each item is calculated. It is the ratio of an item's index to the sum of indices for all items.\n",
    "   index_share = item's index / sum of all indices\n",
    "\n",
    "3. **Applying Caps to Index Share:** \n",
    "   Every item has an upper and a lower limit defined for its index share. These are termed as 'caps'. If an item's index share falls outside of these caps, it is considered to be invalid for direct summing in the next step.\n",
    "\n",
    "4. **Summing the Valid Indices:** \n",
    "   All the items whose index share falls within their specified caps are considered 'valid'. The index values for all such valid items are summed together.\n",
    "\n",
    "5. **Adjusting for Invalid Items:** \n",
    "   Items that don't fall within their index share caps are considered 'invalid'. For these items, instead of their actual index values, their respective upper or lower cap values are summed. For instance:\n",
    "   - If an item's index share is less than its lower cap, the lower cap is considered.\n",
    "   - If an item's index share is more than its upper cap, the upper cap is considered.\n",
    "\n",
    "6. **Deriving the Total Index Value:** \n",
    "   The final index value, representing the whole data pull, is obtained by dividing the summed index of valid items by (1 minus the summed caps of invalid items):\n",
    "   Total index = Sum of valid indices / (1 - Sum of invalid caps)\n",
    "\n",
    "This methodology ensures that while every item influences the final index value, those items that have disproportionately large or small index shares, as defined by their caps, don't unduly skew the overall index. Instead, their influence is confined within predefined limits, ensuring that the final index is representative and robust."
   ]
  },
  {
   "cell_type": "markdown",
   "metadata": {},
   "source": [
    "**Example:**\n",
    "\n",
    "**Setup:**\n",
    "\n",
    "Suppose we have 4 items (skins) in the market:\n",
    "\n",
    "| market_hash_name | price (USD) | quantity | index | index_share |\n",
    "|------------------|-------------|----------|-------|-------------|\n",
    "| Skin A           | 10          | 5        | 50    | ?           |\n",
    "| Skin B           | 20          | 2        | 40    | ?           |\n",
    "| Skin C           | 5           | 10       | 50    | ?           |\n",
    "| Skin D           | 15          | 1        | 15    | ?           |\n",
    "| **Total**            |             |          | **155**   | 1           |\n",
    "\n",
    "Firstly, let's calculate the `index_share` for each item:\n",
    "\n",
    "Total index = 50 (A) + 40 (B) + 50 (C) + 15 (D) = 155\n",
    "\n",
    "- Skin A's index_share = 50/155 ≈ 0.32\n",
    "- Skin B's index_share = 40/155 ≈ 0.26\n",
    "- Skin C's index_share = 50/155 ≈ 0.32\n",
    "- Skin D's index_share = 15/155 ≈ 0.10\n",
    "\n",
    "**Caps:**\n",
    "\n",
    "Now, assume we've predetermined caps (upper and lower) for each skin:\n",
    "\n",
    "| market_hash_name | lower_cap_index_share | upper_cap_index_share |\n",
    "|------------------|-----------------------|-----------------------|\n",
    "| Skin A           | 0.20                  | 0.35                  |\n",
    "| Skin B           | 0.10                  | 0.30                  |\n",
    "| Skin C           | 0.25                  | 0.40                  |\n",
    "| Skin D           | 0.05                  | 0.15                  |\n",
    "\n",
    "**Checking Against Caps:**\n",
    "\n",
    "1. **Skin A**: 0.32 is between 0.20 and 0.35 → **Valid**\n",
    "2. **Skin B**: 0.26 is between 0.10 and 0.30 → **Valid**\n",
    "3. **Skin C**: 0.32 is between 0.25 and 0.40 → **Valid**\n",
    "4. **Skin D**: 0.10 is between 0.05 and 0.15 → **Valid**\n",
    "\n",
    "All skins are within their respective caps, so there are no invalid entries. The summed index of all valid skins is 155.\n",
    "\n",
    "Now, for the sake of the example, let’s imagine if Skin A had an index_share of 0.37 (outside its cap). In such a case:\n",
    "\n",
    "- Invalid upper cap of Skin A = 0.35 (as 0.37 > 0.35)\n",
    "- Valid summed index (without Skin A) = 105\n",
    "- Total invalid cap = 0.35 (only Skin A is invalid)\n",
    "\n",
    "Finally:\n",
    "Total index = 105 / (1 - 0.35) = 161.54\n",
    "\n",
    "The adjusted index incorporates the influence of Skin A but ensures its effect is limited to the predefined cap, providing a balanced representation of the overall market."
   ]
  },
  {
   "cell_type": "code",
   "execution_count": 418,
   "metadata": {},
   "outputs": [],
   "source": [
    "import numpy as np\n",
    "import gc\n",
    "import pandas as pd\n",
    "import plotly.express as px\n",
    "import plotly.graph_objects as go\n",
    "from getpass import getpass\n",
    "import warnings\n",
    "warnings.filterwarnings('ignore')"
   ]
  },
  {
   "cell_type": "markdown",
   "metadata": {},
   "source": [
    "# Data pre-prep; Don't run again"
   ]
  },
  {
   "cell_type": "code",
   "execution_count": 419,
   "metadata": {},
   "outputs": [],
   "source": [
    "df1 = pd.read_csv('data/csgo_price_hist.csv')\n",
    "df2 = pd.read_csv('data/csgo_price_hist2.csv')"
   ]
  },
  {
   "cell_type": "code",
   "execution_count": 421,
   "metadata": {},
   "outputs": [],
   "source": [
    "duplicate_check = df1.merge(df2, on=list(df1.columns), how=\"inner\")\n",
    "if duplicate_check.shape[0] == 0:\n",
    "  print('No duplicates across df1 and df2')"
   ]
  },
  {
   "cell_type": "code",
   "execution_count": null,
   "metadata": {},
   "outputs": [
    {
     "name": "stdout",
     "output_type": "stream",
     "text": [
      "(192366, 4)\n",
      "(7132894, 4)\n"
     ]
    }
   ],
   "source": [
    "def agg_hist_data(df: pd.DataFrame) -> pd.DataFrame:\n",
    "    \"\"\"\n",
    "    Group the dataframe by 'market', 'market_hash_name', and 'dates.date'.\n",
    "    Sums the 'quantity' and takes the minimum of 'price'.\n",
    "\n",
    "    Parameters:\n",
    "        df (pd.DataFrame): The input DataFrame.\n",
    "\n",
    "    Returns:\n",
    "        pd.DataFrame: The aggregated DataFrame.\n",
    "    \"\"\"\n",
    "    return df.groupby(['market_hash_name', 'dates.date']).agg({\n",
    "        'quantity': 'sum',\n",
    "        'price': 'min'\n",
    "    }).reset_index()\n",
    "\n",
    "\n",
    "agg_df1 = agg_hist_data(df1)\n",
    "agg_df2 = agg_hist_data(df2)\n",
    "\n",
    "print(agg_df1.shape)\n",
    "print(agg_df2.shape)"
   ]
  },
  {
   "cell_type": "code",
   "execution_count": null,
   "metadata": {},
   "outputs": [],
   "source": [
    "del df1\n",
    "del df2\n",
    "gc.collect()"
   ]
  },
  {
   "cell_type": "code",
   "execution_count": null,
   "metadata": {},
   "outputs": [
    {
     "data": {
      "text/plain": [
       "(7325260, 4)"
      ]
     },
     "execution_count": 10,
     "metadata": {},
     "output_type": "execute_result"
    }
   ],
   "source": [
    "agg_df_hist = pd.concat([agg_df1, agg_df2])\n",
    "agg_df_hist.to_csv('data/csgo_agg_df_hist.csv')\n",
    "agg_df_hist.shape"
   ]
  },
  {
   "cell_type": "code",
   "execution_count": null,
   "metadata": {},
   "outputs": [
    {
     "data": {
      "text/html": [
       "<div>\n",
       "<style scoped>\n",
       "    .dataframe tbody tr th:only-of-type {\n",
       "        vertical-align: middle;\n",
       "    }\n",
       "\n",
       "    .dataframe tbody tr th {\n",
       "        vertical-align: top;\n",
       "    }\n",
       "\n",
       "    .dataframe thead th {\n",
       "        text-align: right;\n",
       "    }\n",
       "</style>\n",
       "<table border=\"1\" class=\"dataframe\">\n",
       "  <thead>\n",
       "    <tr style=\"text-align: right;\">\n",
       "      <th></th>\n",
       "      <th>market_hash_name</th>\n",
       "      <th>dates.date</th>\n",
       "      <th>quantity</th>\n",
       "      <th>price</th>\n",
       "    </tr>\n",
       "  </thead>\n",
       "  <tbody>\n",
       "    <tr>\n",
       "      <th>7132893</th>\n",
       "      <td>★ Ursus Knife | Urban Masked (Well-Worn)</td>\n",
       "      <td>2023-09-19</td>\n",
       "      <td>50</td>\n",
       "      <td>12593</td>\n",
       "    </tr>\n",
       "    <tr>\n",
       "      <th>1343707</th>\n",
       "      <td>Pinups Capsule</td>\n",
       "      <td>2023-09-19</td>\n",
       "      <td>2359</td>\n",
       "      <td>81</td>\n",
       "    </tr>\n",
       "    <tr>\n",
       "      <th>2747607</th>\n",
       "      <td>StatTrak™ AK-47 | Rat Rod (Battle-Scarred)</td>\n",
       "      <td>2023-09-19</td>\n",
       "      <td>247</td>\n",
       "      <td>762</td>\n",
       "    </tr>\n",
       "    <tr>\n",
       "      <th>5936742</th>\n",
       "      <td>USP-S | Guardian (Minimal Wear)</td>\n",
       "      <td>2023-09-19</td>\n",
       "      <td>1833</td>\n",
       "      <td>339</td>\n",
       "    </tr>\n",
       "    <tr>\n",
       "      <th>1344071</th>\n",
       "      <td>Poorly Drawn Capsule</td>\n",
       "      <td>2023-09-19</td>\n",
       "      <td>722</td>\n",
       "      <td>80</td>\n",
       "    </tr>\n",
       "  </tbody>\n",
       "</table>\n",
       "</div>"
      ],
      "text/plain": [
       "                                   market_hash_name  dates.date  quantity  \\\n",
       "7132893    ★ Ursus Knife | Urban Masked (Well-Worn)  2023-09-19        50   \n",
       "1343707                              Pinups Capsule  2023-09-19      2359   \n",
       "2747607  StatTrak™ AK-47 | Rat Rod (Battle-Scarred)  2023-09-19       247   \n",
       "5936742             USP-S | Guardian (Minimal Wear)  2023-09-19      1833   \n",
       "1344071                        Poorly Drawn Capsule  2023-09-19       722   \n",
       "\n",
       "         price  \n",
       "7132893  12593  \n",
       "1343707     81  \n",
       "2747607    762  \n",
       "5936742    339  \n",
       "1344071     80  "
      ]
     },
     "execution_count": 12,
     "metadata": {},
     "output_type": "execute_result"
    }
   ],
   "source": [
    "agg_df_hist.sort_values('dates.date', ascending=False).head()"
   ]
  },
  {
   "cell_type": "code",
   "execution_count": null,
   "metadata": {},
   "outputs": [],
   "source": [
    "agg_df_hist = pd.read_csv('data/csgo_agg_df_hist.csv', index_col=0)\n",
    "agg_df_hist.price = agg_df_hist.price/100  # Get data in USD (isntead of USD cents)\n",
    "agg_df_hist = agg_df_hist.loc[(agg_df_hist['dates.date'] > '2022-09-20') & \n",
    "                              (agg_df_hist['dates.date'] < '2023-09-19'), :]"
   ]
  },
  {
   "cell_type": "code",
   "execution_count": null,
   "metadata": {},
   "outputs": [
    {
     "data": {
      "text/html": [
       "<div>\n",
       "<style scoped>\n",
       "    .dataframe tbody tr th:only-of-type {\n",
       "        vertical-align: middle;\n",
       "    }\n",
       "\n",
       "    .dataframe tbody tr th {\n",
       "        vertical-align: top;\n",
       "    }\n",
       "\n",
       "    .dataframe thead th {\n",
       "        text-align: right;\n",
       "    }\n",
       "</style>\n",
       "<table border=\"1\" class=\"dataframe\">\n",
       "  <thead>\n",
       "    <tr style=\"text-align: right;\">\n",
       "      <th></th>\n",
       "      <th>market_hash_name</th>\n",
       "      <th>std_quantity</th>\n",
       "      <th>mean_quantity</th>\n",
       "      <th>min_quantity</th>\n",
       "      <th>max_quantity</th>\n",
       "      <th>10th_percentile_quantity</th>\n",
       "      <th>25th_percentile_quantity</th>\n",
       "      <th>median</th>\n",
       "      <th>75th_percentile_quantity</th>\n",
       "      <th>90th_percentile_quantity</th>\n",
       "      <th>mean_price</th>\n",
       "      <th>coef_of_variation</th>\n",
       "    </tr>\n",
       "  </thead>\n",
       "  <tbody>\n",
       "    <tr>\n",
       "      <th>0</th>\n",
       "      <td>'Medium Rare' Crasswater | Guerrilla Warfare</td>\n",
       "      <td>306.448272</td>\n",
       "      <td>1000.168044</td>\n",
       "      <td>236</td>\n",
       "      <td>1589</td>\n",
       "      <td>674.0</td>\n",
       "      <td>771.0</td>\n",
       "      <td>908.0</td>\n",
       "      <td>1313.5</td>\n",
       "      <td>1428.8</td>\n",
       "      <td>8.491983</td>\n",
       "      <td>0.306397</td>\n",
       "    </tr>\n",
       "    <tr>\n",
       "      <th>1</th>\n",
       "      <td>'The Doctor' Romanov | Sabre</td>\n",
       "      <td>301.795136</td>\n",
       "      <td>3281.994490</td>\n",
       "      <td>2025</td>\n",
       "      <td>3901</td>\n",
       "      <td>2889.8</td>\n",
       "      <td>3077.0</td>\n",
       "      <td>3268.0</td>\n",
       "      <td>3503.5</td>\n",
       "      <td>3711.0</td>\n",
       "      <td>3.829394</td>\n",
       "      <td>0.091955</td>\n",
       "    </tr>\n",
       "    <tr>\n",
       "      <th>2</th>\n",
       "      <td>'Two Times' McCoy | TACP Cavalry</td>\n",
       "      <td>448.358181</td>\n",
       "      <td>1454.044077</td>\n",
       "      <td>711</td>\n",
       "      <td>2445</td>\n",
       "      <td>904.0</td>\n",
       "      <td>1095.5</td>\n",
       "      <td>1340.0</td>\n",
       "      <td>1831.5</td>\n",
       "      <td>2111.8</td>\n",
       "      <td>1.686722</td>\n",
       "      <td>0.308353</td>\n",
       "    </tr>\n",
       "    <tr>\n",
       "      <th>3</th>\n",
       "      <td>'Two Times' McCoy | USAF TACP</td>\n",
       "      <td>574.310914</td>\n",
       "      <td>1993.162534</td>\n",
       "      <td>698</td>\n",
       "      <td>3231</td>\n",
       "      <td>1267.4</td>\n",
       "      <td>1546.5</td>\n",
       "      <td>1866.0</td>\n",
       "      <td>2465.0</td>\n",
       "      <td>2799.0</td>\n",
       "      <td>1.639339</td>\n",
       "      <td>0.288141</td>\n",
       "    </tr>\n",
       "    <tr>\n",
       "      <th>4</th>\n",
       "      <td>10 Year Birthday Sticker Capsule</td>\n",
       "      <td>2651.694205</td>\n",
       "      <td>5343.300275</td>\n",
       "      <td>1260</td>\n",
       "      <td>12531</td>\n",
       "      <td>2089.4</td>\n",
       "      <td>3294.0</td>\n",
       "      <td>4782.0</td>\n",
       "      <td>7224.5</td>\n",
       "      <td>9408.6</td>\n",
       "      <td>0.768457</td>\n",
       "      <td>0.496265</td>\n",
       "    </tr>\n",
       "  </tbody>\n",
       "</table>\n",
       "</div>"
      ],
      "text/plain": [
       "                               market_hash_name  std_quantity  mean_quantity  \\\n",
       "0  'Medium Rare' Crasswater | Guerrilla Warfare    306.448272    1000.168044   \n",
       "1                  'The Doctor' Romanov | Sabre    301.795136    3281.994490   \n",
       "2              'Two Times' McCoy | TACP Cavalry    448.358181    1454.044077   \n",
       "3                 'Two Times' McCoy | USAF TACP    574.310914    1993.162534   \n",
       "4              10 Year Birthday Sticker Capsule   2651.694205    5343.300275   \n",
       "\n",
       "   min_quantity  max_quantity  10th_percentile_quantity  \\\n",
       "0           236          1589                     674.0   \n",
       "1          2025          3901                    2889.8   \n",
       "2           711          2445                     904.0   \n",
       "3           698          3231                    1267.4   \n",
       "4          1260         12531                    2089.4   \n",
       "\n",
       "   25th_percentile_quantity  median  75th_percentile_quantity  \\\n",
       "0                     771.0   908.0                    1313.5   \n",
       "1                    3077.0  3268.0                    3503.5   \n",
       "2                    1095.5  1340.0                    1831.5   \n",
       "3                    1546.5  1866.0                    2465.0   \n",
       "4                    3294.0  4782.0                    7224.5   \n",
       "\n",
       "   90th_percentile_quantity  mean_price  coef_of_variation  \n",
       "0                    1428.8    8.491983           0.306397  \n",
       "1                    3711.0    3.829394           0.091955  \n",
       "2                    2111.8    1.686722           0.308353  \n",
       "3                    2799.0    1.639339           0.288141  \n",
       "4                    9408.6    0.768457           0.496265  "
      ]
     },
     "execution_count": 14,
     "metadata": {},
     "output_type": "execute_result"
    }
   ],
   "source": [
    "fluctuation = agg_df_hist.groupby('market_hash_name').agg({\n",
    "    'quantity': ['std', 'mean', 'min', 'max',\n",
    "                 lambda x: x.quantile(0.10),\n",
    "                 lambda x: x.quantile(0.25),\n",
    "                 lambda x: x.quantile(0.50),\n",
    "                 lambda x: x.quantile(0.75),\n",
    "                 lambda x: x.quantile(0.90)],\n",
    "    'price': ['mean']\n",
    "}).reset_index()\n",
    "\n",
    "fluctuation.columns = [\n",
    "    'market_hash_name',\n",
    "    'std_quantity',\n",
    "    'mean_quantity',\n",
    "    'min_quantity',\n",
    "    'max_quantity',\n",
    "    '10th_percentile_quantity',\n",
    "    '25th_percentile_quantity',\n",
    "    'median',\n",
    "    '75th_percentile_quantity',\n",
    "    '90th_percentile_quantity',\n",
    "    'mean_price'\n",
    "]\n",
    "\n",
    "fluctuation['coef_of_variation'] = fluctuation['std_quantity'] / fluctuation['mean_quantity']\n",
    "fluctuation.head()\n"
   ]
  },
  {
   "cell_type": "code",
   "execution_count": null,
   "metadata": {},
   "outputs": [],
   "source": [
    "agg_df_hist = agg_df_hist.merge(fluctuation, on='market_hash_name', how='inner')\n",
    "agg_df_hist.to_csv('data/csgo_agg_df_hist_fluct.csv')"
   ]
  },
  {
   "cell_type": "markdown",
   "metadata": {},
   "source": [
    "# Start here"
   ]
  },
  {
   "cell_type": "code",
   "execution_count": null,
   "metadata": {},
   "outputs": [
    {
     "name": "stdout",
     "output_type": "stream",
     "text": [
      "shape:  (7304522, 15)\n"
     ]
    },
    {
     "data": {
      "text/html": [
       "<div>\n",
       "<style scoped>\n",
       "    .dataframe tbody tr th:only-of-type {\n",
       "        vertical-align: middle;\n",
       "    }\n",
       "\n",
       "    .dataframe tbody tr th {\n",
       "        vertical-align: top;\n",
       "    }\n",
       "\n",
       "    .dataframe thead th {\n",
       "        text-align: right;\n",
       "    }\n",
       "</style>\n",
       "<table border=\"1\" class=\"dataframe\">\n",
       "  <thead>\n",
       "    <tr style=\"text-align: right;\">\n",
       "      <th></th>\n",
       "      <th>market_hash_name</th>\n",
       "      <th>dates.date</th>\n",
       "      <th>quantity</th>\n",
       "      <th>price</th>\n",
       "      <th>std_quantity</th>\n",
       "      <th>mean_quantity</th>\n",
       "      <th>min_quantity</th>\n",
       "      <th>max_quantity</th>\n",
       "      <th>10th_percentile_quantity</th>\n",
       "      <th>25th_percentile_quantity</th>\n",
       "      <th>median</th>\n",
       "      <th>75th_percentile_quantity</th>\n",
       "      <th>90th_percentile_quantity</th>\n",
       "      <th>mean_price</th>\n",
       "      <th>coef_of_variation</th>\n",
       "    </tr>\n",
       "  </thead>\n",
       "  <tbody>\n",
       "    <tr>\n",
       "      <th>0</th>\n",
       "      <td>10 Year Birthday Sticker Capsule</td>\n",
       "      <td>2022-09-21</td>\n",
       "      <td>3620</td>\n",
       "      <td>0.74</td>\n",
       "      <td>2651.694205</td>\n",
       "      <td>5343.300275</td>\n",
       "      <td>1260</td>\n",
       "      <td>12531</td>\n",
       "      <td>2089.4</td>\n",
       "      <td>3294.0</td>\n",
       "      <td>4782.0</td>\n",
       "      <td>7224.5</td>\n",
       "      <td>9408.6</td>\n",
       "      <td>0.768457</td>\n",
       "      <td>0.496265</td>\n",
       "    </tr>\n",
       "    <tr>\n",
       "      <th>1</th>\n",
       "      <td>10 Year Birthday Sticker Capsule</td>\n",
       "      <td>2022-09-22</td>\n",
       "      <td>3465</td>\n",
       "      <td>0.73</td>\n",
       "      <td>2651.694205</td>\n",
       "      <td>5343.300275</td>\n",
       "      <td>1260</td>\n",
       "      <td>12531</td>\n",
       "      <td>2089.4</td>\n",
       "      <td>3294.0</td>\n",
       "      <td>4782.0</td>\n",
       "      <td>7224.5</td>\n",
       "      <td>9408.6</td>\n",
       "      <td>0.768457</td>\n",
       "      <td>0.496265</td>\n",
       "    </tr>\n",
       "    <tr>\n",
       "      <th>2</th>\n",
       "      <td>10 Year Birthday Sticker Capsule</td>\n",
       "      <td>2022-09-23</td>\n",
       "      <td>3364</td>\n",
       "      <td>0.73</td>\n",
       "      <td>2651.694205</td>\n",
       "      <td>5343.300275</td>\n",
       "      <td>1260</td>\n",
       "      <td>12531</td>\n",
       "      <td>2089.4</td>\n",
       "      <td>3294.0</td>\n",
       "      <td>4782.0</td>\n",
       "      <td>7224.5</td>\n",
       "      <td>9408.6</td>\n",
       "      <td>0.768457</td>\n",
       "      <td>0.496265</td>\n",
       "    </tr>\n",
       "    <tr>\n",
       "      <th>3</th>\n",
       "      <td>10 Year Birthday Sticker Capsule</td>\n",
       "      <td>2022-09-24</td>\n",
       "      <td>2906</td>\n",
       "      <td>0.73</td>\n",
       "      <td>2651.694205</td>\n",
       "      <td>5343.300275</td>\n",
       "      <td>1260</td>\n",
       "      <td>12531</td>\n",
       "      <td>2089.4</td>\n",
       "      <td>3294.0</td>\n",
       "      <td>4782.0</td>\n",
       "      <td>7224.5</td>\n",
       "      <td>9408.6</td>\n",
       "      <td>0.768457</td>\n",
       "      <td>0.496265</td>\n",
       "    </tr>\n",
       "    <tr>\n",
       "      <th>4</th>\n",
       "      <td>10 Year Birthday Sticker Capsule</td>\n",
       "      <td>2022-09-25</td>\n",
       "      <td>2460</td>\n",
       "      <td>0.74</td>\n",
       "      <td>2651.694205</td>\n",
       "      <td>5343.300275</td>\n",
       "      <td>1260</td>\n",
       "      <td>12531</td>\n",
       "      <td>2089.4</td>\n",
       "      <td>3294.0</td>\n",
       "      <td>4782.0</td>\n",
       "      <td>7224.5</td>\n",
       "      <td>9408.6</td>\n",
       "      <td>0.768457</td>\n",
       "      <td>0.496265</td>\n",
       "    </tr>\n",
       "  </tbody>\n",
       "</table>\n",
       "</div>"
      ],
      "text/plain": [
       "                   market_hash_name  dates.date  quantity  price  \\\n",
       "0  10 Year Birthday Sticker Capsule  2022-09-21      3620   0.74   \n",
       "1  10 Year Birthday Sticker Capsule  2022-09-22      3465   0.73   \n",
       "2  10 Year Birthday Sticker Capsule  2022-09-23      3364   0.73   \n",
       "3  10 Year Birthday Sticker Capsule  2022-09-24      2906   0.73   \n",
       "4  10 Year Birthday Sticker Capsule  2022-09-25      2460   0.74   \n",
       "\n",
       "   std_quantity  mean_quantity  min_quantity  max_quantity  \\\n",
       "0   2651.694205    5343.300275          1260         12531   \n",
       "1   2651.694205    5343.300275          1260         12531   \n",
       "2   2651.694205    5343.300275          1260         12531   \n",
       "3   2651.694205    5343.300275          1260         12531   \n",
       "4   2651.694205    5343.300275          1260         12531   \n",
       "\n",
       "   10th_percentile_quantity  25th_percentile_quantity  median  \\\n",
       "0                    2089.4                    3294.0  4782.0   \n",
       "1                    2089.4                    3294.0  4782.0   \n",
       "2                    2089.4                    3294.0  4782.0   \n",
       "3                    2089.4                    3294.0  4782.0   \n",
       "4                    2089.4                    3294.0  4782.0   \n",
       "\n",
       "   75th_percentile_quantity  90th_percentile_quantity  mean_price  \\\n",
       "0                    7224.5                    9408.6    0.768457   \n",
       "1                    7224.5                    9408.6    0.768457   \n",
       "2                    7224.5                    9408.6    0.768457   \n",
       "3                    7224.5                    9408.6    0.768457   \n",
       "4                    7224.5                    9408.6    0.768457   \n",
       "\n",
       "   coef_of_variation  \n",
       "0           0.496265  \n",
       "1           0.496265  \n",
       "2           0.496265  \n",
       "3           0.496265  \n",
       "4           0.496265  "
      ]
     },
     "execution_count": 16,
     "metadata": {},
     "output_type": "execute_result"
    }
   ],
   "source": [
    "agg_df_hist = pd.read_csv('data/csgo_agg_df_hist_fluct.csv', index_col=0)\n",
    "print('shape: ', agg_df_hist.shape)\n",
    "agg_df_hist.head()"
   ]
  },
  {
   "cell_type": "markdown",
   "metadata": {},
   "source": [
    "# Useful functions"
   ]
  },
  {
   "cell_type": "code",
   "execution_count": null,
   "metadata": {},
   "outputs": [],
   "source": [
    "def construct_index(df):\n",
    "    # Convert the 'dates.date' column to datetime\n",
    "    df['dates.date'] = pd.to_datetime(df['dates.date'])\n",
    "\n",
    "    # Calculate the index for each day\n",
    "    df['index'] = df['quantity'] * df['price']\n",
    "\n",
    "    # Group by date and sum the indices\n",
    "    index_data = df.groupby('dates.date')['index'].sum().reset_index()\n",
    "\n",
    "    return index_data\n"
   ]
  },
  {
   "cell_type": "code",
   "execution_count": null,
   "metadata": {},
   "outputs": [],
   "source": [
    "def plot_indexes(index1, index2, title):\n",
    "    fig = go.Figure()\n",
    "\n",
    "    fig.add_trace(go.Scatter(x=index1['dates.date'], y=index1['index'], name='Index 1', mode='lines'))\n",
    "\n",
    "    fig.add_trace(go.Scatter(x=index2['dates.date'], y=index2['index'], name='Index 2', mode='lines'))\n",
    "\n",
    "    fig.update_layout(\n",
    "        title=title,\n",
    "        xaxis_title='dates',\n",
    "        yaxis_title='index'\n",
    "    )\n",
    "\n",
    "    fig.show()"
   ]
  },
  {
   "cell_type": "code",
   "execution_count": null,
   "metadata": {},
   "outputs": [
    {
     "data": {
      "application/vnd.plotly.v1+json": {
       "config": {
        "plotlyServerURL": "https://plot.ly"
       },
       "data": [
        {
         "hovertemplate": "dates.date=%{x}<br>index=%{y}<extra></extra>",
         "legendgroup": "",
         "line": {
          "color": "#636efa",
          "dash": "solid"
         },
         "marker": {
          "symbol": "circle"
         },
         "mode": "lines",
         "name": "",
         "orientation": "v",
         "showlegend": false,
         "type": "scatter",
         "x": [
          "2022-09-21T00:00:00",
          "2022-09-22T00:00:00",
          "2022-09-23T00:00:00",
          "2022-09-24T00:00:00",
          "2022-09-25T00:00:00",
          "2022-09-26T00:00:00",
          "2022-09-27T00:00:00",
          "2022-09-28T00:00:00",
          "2022-09-29T00:00:00",
          "2022-09-30T00:00:00",
          "2022-10-01T00:00:00",
          "2022-10-02T00:00:00",
          "2022-10-03T00:00:00",
          "2022-10-04T00:00:00",
          "2022-10-05T00:00:00",
          "2022-10-06T00:00:00",
          "2022-10-07T00:00:00",
          "2022-10-08T00:00:00",
          "2022-10-09T00:00:00",
          "2022-10-10T00:00:00",
          "2022-10-11T00:00:00",
          "2022-10-12T00:00:00",
          "2022-10-13T00:00:00",
          "2022-10-14T00:00:00",
          "2022-10-15T00:00:00",
          "2022-10-16T00:00:00",
          "2022-10-17T00:00:00",
          "2022-10-18T00:00:00",
          "2022-10-19T00:00:00",
          "2022-10-20T00:00:00",
          "2022-10-21T00:00:00",
          "2022-10-22T00:00:00",
          "2022-10-23T00:00:00",
          "2022-10-24T00:00:00",
          "2022-10-25T00:00:00",
          "2022-10-26T00:00:00",
          "2022-10-27T00:00:00",
          "2022-10-28T00:00:00",
          "2022-10-29T00:00:00",
          "2022-10-30T00:00:00",
          "2022-10-31T00:00:00",
          "2022-11-01T00:00:00",
          "2022-11-02T00:00:00",
          "2022-11-03T00:00:00",
          "2022-11-04T00:00:00",
          "2022-11-05T00:00:00",
          "2022-11-06T00:00:00",
          "2022-11-07T00:00:00",
          "2022-11-08T00:00:00",
          "2022-11-09T00:00:00",
          "2022-11-10T00:00:00",
          "2022-11-11T00:00:00",
          "2022-11-12T00:00:00",
          "2022-11-13T00:00:00",
          "2022-11-14T00:00:00",
          "2022-11-15T00:00:00",
          "2022-11-16T00:00:00",
          "2022-11-17T00:00:00",
          "2022-11-18T00:00:00",
          "2022-11-19T00:00:00",
          "2022-11-20T00:00:00",
          "2022-11-21T00:00:00",
          "2022-11-22T00:00:00",
          "2022-11-23T00:00:00",
          "2022-11-24T00:00:00",
          "2022-11-25T00:00:00",
          "2022-11-26T00:00:00",
          "2022-11-27T00:00:00",
          "2022-11-28T00:00:00",
          "2022-11-29T00:00:00",
          "2022-11-30T00:00:00",
          "2022-12-01T00:00:00",
          "2022-12-02T00:00:00",
          "2022-12-03T00:00:00",
          "2022-12-04T00:00:00",
          "2022-12-05T00:00:00",
          "2022-12-06T00:00:00",
          "2022-12-07T00:00:00",
          "2022-12-08T00:00:00",
          "2022-12-09T00:00:00",
          "2022-12-10T00:00:00",
          "2022-12-11T00:00:00",
          "2022-12-12T00:00:00",
          "2022-12-13T00:00:00",
          "2022-12-14T00:00:00",
          "2022-12-15T00:00:00",
          "2022-12-16T00:00:00",
          "2022-12-17T00:00:00",
          "2022-12-18T00:00:00",
          "2022-12-19T00:00:00",
          "2022-12-20T00:00:00",
          "2022-12-21T00:00:00",
          "2022-12-22T00:00:00",
          "2022-12-23T00:00:00",
          "2022-12-24T00:00:00",
          "2022-12-25T00:00:00",
          "2022-12-26T00:00:00",
          "2022-12-27T00:00:00",
          "2022-12-28T00:00:00",
          "2022-12-29T00:00:00",
          "2022-12-30T00:00:00",
          "2022-12-31T00:00:00",
          "2023-01-01T00:00:00",
          "2023-01-02T00:00:00",
          "2023-01-03T00:00:00",
          "2023-01-04T00:00:00",
          "2023-01-05T00:00:00",
          "2023-01-06T00:00:00",
          "2023-01-07T00:00:00",
          "2023-01-08T00:00:00",
          "2023-01-09T00:00:00",
          "2023-01-10T00:00:00",
          "2023-01-11T00:00:00",
          "2023-01-12T00:00:00",
          "2023-01-13T00:00:00",
          "2023-01-14T00:00:00",
          "2023-01-15T00:00:00",
          "2023-01-16T00:00:00",
          "2023-01-17T00:00:00",
          "2023-01-18T00:00:00",
          "2023-01-19T00:00:00",
          "2023-01-20T00:00:00",
          "2023-01-21T00:00:00",
          "2023-01-22T00:00:00",
          "2023-01-23T00:00:00",
          "2023-01-24T00:00:00",
          "2023-01-25T00:00:00",
          "2023-01-26T00:00:00",
          "2023-01-27T00:00:00",
          "2023-01-28T00:00:00",
          "2023-01-29T00:00:00",
          "2023-01-30T00:00:00",
          "2023-01-31T00:00:00",
          "2023-02-01T00:00:00",
          "2023-02-02T00:00:00",
          "2023-02-03T00:00:00",
          "2023-02-04T00:00:00",
          "2023-02-05T00:00:00",
          "2023-02-06T00:00:00",
          "2023-02-07T00:00:00",
          "2023-02-08T00:00:00",
          "2023-02-09T00:00:00",
          "2023-02-10T00:00:00",
          "2023-02-11T00:00:00",
          "2023-02-12T00:00:00",
          "2023-02-13T00:00:00",
          "2023-02-14T00:00:00",
          "2023-02-15T00:00:00",
          "2023-02-16T00:00:00",
          "2023-02-17T00:00:00",
          "2023-02-18T00:00:00",
          "2023-02-19T00:00:00",
          "2023-02-20T00:00:00",
          "2023-02-21T00:00:00",
          "2023-02-22T00:00:00",
          "2023-02-23T00:00:00",
          "2023-02-24T00:00:00",
          "2023-02-25T00:00:00",
          "2023-02-26T00:00:00",
          "2023-02-27T00:00:00",
          "2023-02-28T00:00:00",
          "2023-03-01T00:00:00",
          "2023-03-02T00:00:00",
          "2023-03-03T00:00:00",
          "2023-03-04T00:00:00",
          "2023-03-05T00:00:00",
          "2023-03-06T00:00:00",
          "2023-03-07T00:00:00",
          "2023-03-08T00:00:00",
          "2023-03-09T00:00:00",
          "2023-03-10T00:00:00",
          "2023-03-11T00:00:00",
          "2023-03-12T00:00:00",
          "2023-03-13T00:00:00",
          "2023-03-14T00:00:00",
          "2023-03-15T00:00:00",
          "2023-03-16T00:00:00",
          "2023-03-17T00:00:00",
          "2023-03-18T00:00:00",
          "2023-03-19T00:00:00",
          "2023-03-20T00:00:00",
          "2023-03-21T00:00:00",
          "2023-03-22T00:00:00",
          "2023-03-23T00:00:00",
          "2023-03-24T00:00:00",
          "2023-03-25T00:00:00",
          "2023-03-26T00:00:00",
          "2023-03-27T00:00:00",
          "2023-03-28T00:00:00",
          "2023-03-29T00:00:00",
          "2023-03-30T00:00:00",
          "2023-03-31T00:00:00",
          "2023-04-01T00:00:00",
          "2023-04-02T00:00:00",
          "2023-04-03T00:00:00",
          "2023-04-04T00:00:00",
          "2023-04-05T00:00:00",
          "2023-04-06T00:00:00",
          "2023-04-07T00:00:00",
          "2023-04-08T00:00:00",
          "2023-04-09T00:00:00",
          "2023-04-10T00:00:00",
          "2023-04-11T00:00:00",
          "2023-04-12T00:00:00",
          "2023-04-13T00:00:00",
          "2023-04-14T00:00:00",
          "2023-04-15T00:00:00",
          "2023-04-16T00:00:00",
          "2023-04-17T00:00:00",
          "2023-04-18T00:00:00",
          "2023-04-19T00:00:00",
          "2023-04-20T00:00:00",
          "2023-04-21T00:00:00",
          "2023-04-22T00:00:00",
          "2023-04-23T00:00:00",
          "2023-04-24T00:00:00",
          "2023-04-25T00:00:00",
          "2023-04-26T00:00:00",
          "2023-04-27T00:00:00",
          "2023-04-28T00:00:00",
          "2023-04-29T00:00:00",
          "2023-04-30T00:00:00",
          "2023-05-01T00:00:00",
          "2023-05-02T00:00:00",
          "2023-05-03T00:00:00",
          "2023-05-04T00:00:00",
          "2023-05-05T00:00:00",
          "2023-05-06T00:00:00",
          "2023-05-07T00:00:00",
          "2023-05-08T00:00:00",
          "2023-05-09T00:00:00",
          "2023-05-10T00:00:00",
          "2023-05-11T00:00:00",
          "2023-05-12T00:00:00",
          "2023-05-13T00:00:00",
          "2023-05-14T00:00:00",
          "2023-05-15T00:00:00",
          "2023-05-16T00:00:00",
          "2023-05-17T00:00:00",
          "2023-05-18T00:00:00",
          "2023-05-19T00:00:00",
          "2023-05-20T00:00:00",
          "2023-05-21T00:00:00",
          "2023-05-22T00:00:00",
          "2023-05-23T00:00:00",
          "2023-05-24T00:00:00",
          "2023-05-25T00:00:00",
          "2023-05-26T00:00:00",
          "2023-05-27T00:00:00",
          "2023-05-28T00:00:00",
          "2023-05-29T00:00:00",
          "2023-05-30T00:00:00",
          "2023-05-31T00:00:00",
          "2023-06-01T00:00:00",
          "2023-06-02T00:00:00",
          "2023-06-03T00:00:00",
          "2023-06-04T00:00:00",
          "2023-06-05T00:00:00",
          "2023-06-06T00:00:00",
          "2023-06-07T00:00:00",
          "2023-06-08T00:00:00",
          "2023-06-09T00:00:00",
          "2023-06-10T00:00:00",
          "2023-06-11T00:00:00",
          "2023-06-12T00:00:00",
          "2023-06-13T00:00:00",
          "2023-06-14T00:00:00",
          "2023-06-15T00:00:00",
          "2023-06-16T00:00:00",
          "2023-06-17T00:00:00",
          "2023-06-18T00:00:00",
          "2023-06-19T00:00:00",
          "2023-06-20T00:00:00",
          "2023-06-21T00:00:00",
          "2023-06-22T00:00:00",
          "2023-06-23T00:00:00",
          "2023-06-24T00:00:00",
          "2023-06-25T00:00:00",
          "2023-06-26T00:00:00",
          "2023-06-27T00:00:00",
          "2023-06-28T00:00:00",
          "2023-06-29T00:00:00",
          "2023-06-30T00:00:00",
          "2023-07-01T00:00:00",
          "2023-07-02T00:00:00",
          "2023-07-03T00:00:00",
          "2023-07-04T00:00:00",
          "2023-07-05T00:00:00",
          "2023-07-06T00:00:00",
          "2023-07-07T00:00:00",
          "2023-07-08T00:00:00",
          "2023-07-09T00:00:00",
          "2023-07-10T00:00:00",
          "2023-07-11T00:00:00",
          "2023-07-12T00:00:00",
          "2023-07-13T00:00:00",
          "2023-07-14T00:00:00",
          "2023-07-15T00:00:00",
          "2023-07-16T00:00:00",
          "2023-07-17T00:00:00",
          "2023-07-18T00:00:00",
          "2023-07-19T00:00:00",
          "2023-07-20T00:00:00",
          "2023-07-21T00:00:00",
          "2023-07-22T00:00:00",
          "2023-07-23T00:00:00",
          "2023-07-24T00:00:00",
          "2023-07-25T00:00:00",
          "2023-07-26T00:00:00",
          "2023-07-27T00:00:00",
          "2023-07-28T00:00:00",
          "2023-07-29T00:00:00",
          "2023-07-30T00:00:00",
          "2023-07-31T00:00:00",
          "2023-08-01T00:00:00",
          "2023-08-02T00:00:00",
          "2023-08-03T00:00:00",
          "2023-08-04T00:00:00",
          "2023-08-05T00:00:00",
          "2023-08-06T00:00:00",
          "2023-08-07T00:00:00",
          "2023-08-08T00:00:00",
          "2023-08-09T00:00:00",
          "2023-08-10T00:00:00",
          "2023-08-11T00:00:00",
          "2023-08-12T00:00:00",
          "2023-08-13T00:00:00",
          "2023-08-14T00:00:00",
          "2023-08-15T00:00:00",
          "2023-08-16T00:00:00",
          "2023-08-17T00:00:00",
          "2023-08-18T00:00:00",
          "2023-08-19T00:00:00",
          "2023-08-20T00:00:00",
          "2023-08-21T00:00:00",
          "2023-08-22T00:00:00",
          "2023-08-23T00:00:00",
          "2023-08-24T00:00:00",
          "2023-08-25T00:00:00",
          "2023-08-26T00:00:00",
          "2023-08-27T00:00:00",
          "2023-08-28T00:00:00",
          "2023-08-29T00:00:00",
          "2023-08-30T00:00:00",
          "2023-08-31T00:00:00",
          "2023-09-01T00:00:00",
          "2023-09-02T00:00:00",
          "2023-09-03T00:00:00",
          "2023-09-04T00:00:00",
          "2023-09-05T00:00:00",
          "2023-09-06T00:00:00",
          "2023-09-07T00:00:00",
          "2023-09-08T00:00:00",
          "2023-09-09T00:00:00",
          "2023-09-10T00:00:00",
          "2023-09-11T00:00:00",
          "2023-09-12T00:00:00",
          "2023-09-13T00:00:00",
          "2023-09-14T00:00:00",
          "2023-09-15T00:00:00",
          "2023-09-16T00:00:00",
          "2023-09-17T00:00:00",
          "2023-09-18T00:00:00"
         ],
         "xaxis": "x",
         "y": [
          115479747.14,
          115161032.83,
          114119265.4,
          113303896.85,
          112243348.22,
          112212485.11,
          111706642.06,
          111725474.64,
          108195532.29,
          110842262.34,
          109799997.8,
          109935786.2,
          108768719.6,
          108966042.76,
          109328975.17,
          109713150.4,
          109481721.33,
          110766858.28,
          112297731.56,
          113421967.27,
          114207220.41,
          113672130.42,
          117147774.47,
          117117256.81,
          115861369.24,
          115845436.4,
          116497432.72,
          118115772.35,
          117677881.39,
          116101363.19,
          113827237.24,
          114045260.69,
          114431062.11,
          116023983.83,
          116653197.3,
          116812227.63,
          120076708.54,
          120526810.5,
          122936770.9,
          124442660.65,
          125259711.69,
          125328434.24,
          126316237.19,
          126004765.77,
          126315360.68,
          127794783.15,
          127192816.05,
          127871126.42,
          127499227.94,
          126870374.18,
          127666336.92,
          127349690.23,
          128061024.04,
          128662940.72,
          130630889.95,
          130940675.66,
          131013332.07000001,
          129892437.84,
          127764957.93,
          123407387.01,
          120060068.03,
          117645192.39,
          116652875.35,
          118183867.78,
          121179391.24,
          121998938.83,
          124858570.76,
          127815294.96,
          129853256.37,
          130888429.31,
          133084402.31,
          133197140.78,
          133657303.11,
          131839744.93,
          131349551.47,
          130882231.86,
          131353161.76,
          130534676.93,
          126743485.94,
          124316372.92,
          129005627.86,
          133734256.43,
          134127330.15,
          133656624.93,
          134900790.31,
          133955908.3,
          136715003.75,
          143571086.4,
          144326883.61,
          146028548.67,
          140955269.85,
          138034547.95,
          147214936.96,
          148333355.73,
          148673927.67,
          147544671.46,
          150271811.68,
          144239522.2,
          150944991.36,
          150169514.8,
          146178398.12,
          148555504.52,
          147785434.03,
          145011154.91,
          147412529.82,
          147614348.76,
          147866445.60999998,
          146596154.71,
          150978342.02,
          151759746.06,
          153220951.71,
          151999752.59,
          152370949.13,
          152581166.57,
          152161241.03,
          151318430.26,
          151937813.39,
          150526801.82,
          151436246.83,
          148421672.79,
          153654546.62,
          153899790.86,
          153413944.45,
          148622385.05,
          145650558.32,
          151101547.56,
          149199609.37,
          149952453.02,
          147237143.95,
          147061876.11,
          148260625.2,
          147172406.29,
          151739668.7,
          151004531,
          151413704.37,
          150384917.25,
          150812636.89,
          147804177.94,
          149194292.66,
          149065734.31,
          147871518.33,
          146955773.28,
          148149936.5,
          145641578.11,
          144184355.57,
          142495752.89,
          140400250.96,
          140282316.45,
          139703805.36,
          137753405.36,
          138033072.06,
          139685862.5,
          140119424.22,
          136684414.49,
          142332959.03,
          142575380.73,
          142755981.78,
          141291142.98,
          140837349.18,
          144472890.67,
          144280596.25,
          144497326.95,
          144578136.3,
          143383562.07,
          142798939.17,
          141638396.27,
          142131644.62,
          136586857.61,
          135198973.83,
          136184594.43,
          137958244.87,
          139429254.41,
          141453603.95,
          144741883.88,
          146628435.14000002,
          147304376.02,
          148103454.79,
          145052734.1,
          147353398.99,
          144280737.84,
          144234636.78,
          142312664.16,
          127840681.4,
          118914477.52,
          125209072.71,
          125283960.94,
          127804132.29,
          136430443.39,
          141703560.89,
          144424305.75,
          148130292.11,
          146380336.99,
          146742335.26,
          147847890.43,
          146718829.56,
          144407920.93,
          143825623.99,
          138830947.43,
          145698303.24,
          148900925.91,
          152065076.27,
          153857883.86,
          157077140.14,
          158894186.32,
          157282654.82,
          167834675.68,
          174635242.63,
          177402453.78,
          179399641.71,
          175446746.3,
          178282194.92,
          186799615.39,
          192343790.07,
          206272155.54,
          206317083.13,
          209388726.31,
          213230161.98,
          217982385.22,
          220908023.05,
          219883769.15,
          225730803.11,
          226013631.1,
          225179136.2,
          229251048.53,
          234254773.17,
          237433024.29,
          239068066.73,
          237990143.78,
          239767807.48,
          240351205.44,
          239728755.14,
          239157198.4,
          237132203.89,
          235567742.83,
          226350209.38,
          223863450.21,
          227523461.03,
          228012049.79,
          221758361.14,
          222425950.55,
          224150747.64000002,
          228961551.56,
          229107209.02,
          229801232.61,
          229816875.26,
          227434695.94,
          225972586.07,
          225249129.88,
          217046095.3,
          221688533.19,
          226298659.37,
          227041531.66,
          223684762.76,
          226615357.83,
          227464077.65,
          226314010.34,
          228565381.56,
          227730660.36,
          224912026.89000002,
          227222810.82,
          225422693.71,
          219273303.71,
          224013566.13,
          223234376.05,
          225143968.04,
          222971115.48,
          224354179.10999998,
          225321846.01,
          226863588.15,
          227971054.37,
          230433388.41,
          230079463.4,
          227824123.18,
          225629578.89,
          228818446.94,
          228637146.01,
          228088066.01,
          230096189.4,
          231042683.38,
          232533630.14,
          224597421.3,
          228739456.64,
          222407955.23,
          220542958.35,
          219550178.29,
          222709640.98,
          222859961.72,
          224314867.51,
          217940815.61,
          221467273.41,
          222409553.67,
          222019641.38,
          220700123.78,
          224074661.6,
          227900562.38,
          224829072.27,
          224146359.62,
          223572672.18,
          223745848.77,
          213447598.43,
          220742120.89,
          220681075.31,
          217408186.72,
          216071679.9,
          218096491.57,
          217580999.24,
          216534159.97,
          217911504.51,
          217232897.35,
          217486332.51,
          218177076.93,
          213785770.75,
          211797835.05,
          212837577.66,
          211535982.87,
          211763046.64,
          214060781.16,
          216363665.68,
          216255882.64,
          217709475.95,
          218011344.34,
          219149528.27,
          218710209.17,
          219320530.36,
          216373653.07,
          214591489.3,
          215154346.84,
          217810177.93,
          217010483.13,
          216810264.63,
          216461742.39000002,
          217237158.19,
          215000720.6,
          215598426.18,
          216991235.05,
          216546961.17,
          217848334.29,
          213417658.88,
          218691372.84,
          216931344.11,
          217678380.17,
          221050425.31,
          213387205,
          220154695.19,
          222324457.57,
          210727266.27,
          213206530.66,
          212703855.97,
          216272497.19,
          217352053.58,
          219541862.6,
          234395960.13,
          237025909.5,
          238793734.82,
          241238303.75,
          243139042.63,
          245009349.41,
          248258175.17,
          248932900.85,
          239550094.12,
          240416061.67,
          241249795.4,
          249871652.05
         ],
         "yaxis": "y"
        }
       ],
       "layout": {
        "legend": {
         "tracegroupgap": 0
        },
        "template": {
         "data": {
          "bar": [
           {
            "error_x": {
             "color": "#2a3f5f"
            },
            "error_y": {
             "color": "#2a3f5f"
            },
            "marker": {
             "line": {
              "color": "#E5ECF6",
              "width": 0.5
             },
             "pattern": {
              "fillmode": "overlay",
              "size": 10,
              "solidity": 0.2
             }
            },
            "type": "bar"
           }
          ],
          "barpolar": [
           {
            "marker": {
             "line": {
              "color": "#E5ECF6",
              "width": 0.5
             },
             "pattern": {
              "fillmode": "overlay",
              "size": 10,
              "solidity": 0.2
             }
            },
            "type": "barpolar"
           }
          ],
          "carpet": [
           {
            "aaxis": {
             "endlinecolor": "#2a3f5f",
             "gridcolor": "white",
             "linecolor": "white",
             "minorgridcolor": "white",
             "startlinecolor": "#2a3f5f"
            },
            "baxis": {
             "endlinecolor": "#2a3f5f",
             "gridcolor": "white",
             "linecolor": "white",
             "minorgridcolor": "white",
             "startlinecolor": "#2a3f5f"
            },
            "type": "carpet"
           }
          ],
          "choropleth": [
           {
            "colorbar": {
             "outlinewidth": 0,
             "ticks": ""
            },
            "type": "choropleth"
           }
          ],
          "contour": [
           {
            "colorbar": {
             "outlinewidth": 0,
             "ticks": ""
            },
            "colorscale": [
             [
              0,
              "#0d0887"
             ],
             [
              0.1111111111111111,
              "#46039f"
             ],
             [
              0.2222222222222222,
              "#7201a8"
             ],
             [
              0.3333333333333333,
              "#9c179e"
             ],
             [
              0.4444444444444444,
              "#bd3786"
             ],
             [
              0.5555555555555556,
              "#d8576b"
             ],
             [
              0.6666666666666666,
              "#ed7953"
             ],
             [
              0.7777777777777778,
              "#fb9f3a"
             ],
             [
              0.8888888888888888,
              "#fdca26"
             ],
             [
              1,
              "#f0f921"
             ]
            ],
            "type": "contour"
           }
          ],
          "contourcarpet": [
           {
            "colorbar": {
             "outlinewidth": 0,
             "ticks": ""
            },
            "type": "contourcarpet"
           }
          ],
          "heatmap": [
           {
            "colorbar": {
             "outlinewidth": 0,
             "ticks": ""
            },
            "colorscale": [
             [
              0,
              "#0d0887"
             ],
             [
              0.1111111111111111,
              "#46039f"
             ],
             [
              0.2222222222222222,
              "#7201a8"
             ],
             [
              0.3333333333333333,
              "#9c179e"
             ],
             [
              0.4444444444444444,
              "#bd3786"
             ],
             [
              0.5555555555555556,
              "#d8576b"
             ],
             [
              0.6666666666666666,
              "#ed7953"
             ],
             [
              0.7777777777777778,
              "#fb9f3a"
             ],
             [
              0.8888888888888888,
              "#fdca26"
             ],
             [
              1,
              "#f0f921"
             ]
            ],
            "type": "heatmap"
           }
          ],
          "heatmapgl": [
           {
            "colorbar": {
             "outlinewidth": 0,
             "ticks": ""
            },
            "colorscale": [
             [
              0,
              "#0d0887"
             ],
             [
              0.1111111111111111,
              "#46039f"
             ],
             [
              0.2222222222222222,
              "#7201a8"
             ],
             [
              0.3333333333333333,
              "#9c179e"
             ],
             [
              0.4444444444444444,
              "#bd3786"
             ],
             [
              0.5555555555555556,
              "#d8576b"
             ],
             [
              0.6666666666666666,
              "#ed7953"
             ],
             [
              0.7777777777777778,
              "#fb9f3a"
             ],
             [
              0.8888888888888888,
              "#fdca26"
             ],
             [
              1,
              "#f0f921"
             ]
            ],
            "type": "heatmapgl"
           }
          ],
          "histogram": [
           {
            "marker": {
             "pattern": {
              "fillmode": "overlay",
              "size": 10,
              "solidity": 0.2
             }
            },
            "type": "histogram"
           }
          ],
          "histogram2d": [
           {
            "colorbar": {
             "outlinewidth": 0,
             "ticks": ""
            },
            "colorscale": [
             [
              0,
              "#0d0887"
             ],
             [
              0.1111111111111111,
              "#46039f"
             ],
             [
              0.2222222222222222,
              "#7201a8"
             ],
             [
              0.3333333333333333,
              "#9c179e"
             ],
             [
              0.4444444444444444,
              "#bd3786"
             ],
             [
              0.5555555555555556,
              "#d8576b"
             ],
             [
              0.6666666666666666,
              "#ed7953"
             ],
             [
              0.7777777777777778,
              "#fb9f3a"
             ],
             [
              0.8888888888888888,
              "#fdca26"
             ],
             [
              1,
              "#f0f921"
             ]
            ],
            "type": "histogram2d"
           }
          ],
          "histogram2dcontour": [
           {
            "colorbar": {
             "outlinewidth": 0,
             "ticks": ""
            },
            "colorscale": [
             [
              0,
              "#0d0887"
             ],
             [
              0.1111111111111111,
              "#46039f"
             ],
             [
              0.2222222222222222,
              "#7201a8"
             ],
             [
              0.3333333333333333,
              "#9c179e"
             ],
             [
              0.4444444444444444,
              "#bd3786"
             ],
             [
              0.5555555555555556,
              "#d8576b"
             ],
             [
              0.6666666666666666,
              "#ed7953"
             ],
             [
              0.7777777777777778,
              "#fb9f3a"
             ],
             [
              0.8888888888888888,
              "#fdca26"
             ],
             [
              1,
              "#f0f921"
             ]
            ],
            "type": "histogram2dcontour"
           }
          ],
          "mesh3d": [
           {
            "colorbar": {
             "outlinewidth": 0,
             "ticks": ""
            },
            "type": "mesh3d"
           }
          ],
          "parcoords": [
           {
            "line": {
             "colorbar": {
              "outlinewidth": 0,
              "ticks": ""
             }
            },
            "type": "parcoords"
           }
          ],
          "pie": [
           {
            "automargin": true,
            "type": "pie"
           }
          ],
          "scatter": [
           {
            "fillpattern": {
             "fillmode": "overlay",
             "size": 10,
             "solidity": 0.2
            },
            "type": "scatter"
           }
          ],
          "scatter3d": [
           {
            "line": {
             "colorbar": {
              "outlinewidth": 0,
              "ticks": ""
             }
            },
            "marker": {
             "colorbar": {
              "outlinewidth": 0,
              "ticks": ""
             }
            },
            "type": "scatter3d"
           }
          ],
          "scattercarpet": [
           {
            "marker": {
             "colorbar": {
              "outlinewidth": 0,
              "ticks": ""
             }
            },
            "type": "scattercarpet"
           }
          ],
          "scattergeo": [
           {
            "marker": {
             "colorbar": {
              "outlinewidth": 0,
              "ticks": ""
             }
            },
            "type": "scattergeo"
           }
          ],
          "scattergl": [
           {
            "marker": {
             "colorbar": {
              "outlinewidth": 0,
              "ticks": ""
             }
            },
            "type": "scattergl"
           }
          ],
          "scattermapbox": [
           {
            "marker": {
             "colorbar": {
              "outlinewidth": 0,
              "ticks": ""
             }
            },
            "type": "scattermapbox"
           }
          ],
          "scatterpolar": [
           {
            "marker": {
             "colorbar": {
              "outlinewidth": 0,
              "ticks": ""
             }
            },
            "type": "scatterpolar"
           }
          ],
          "scatterpolargl": [
           {
            "marker": {
             "colorbar": {
              "outlinewidth": 0,
              "ticks": ""
             }
            },
            "type": "scatterpolargl"
           }
          ],
          "scatterternary": [
           {
            "marker": {
             "colorbar": {
              "outlinewidth": 0,
              "ticks": ""
             }
            },
            "type": "scatterternary"
           }
          ],
          "surface": [
           {
            "colorbar": {
             "outlinewidth": 0,
             "ticks": ""
            },
            "colorscale": [
             [
              0,
              "#0d0887"
             ],
             [
              0.1111111111111111,
              "#46039f"
             ],
             [
              0.2222222222222222,
              "#7201a8"
             ],
             [
              0.3333333333333333,
              "#9c179e"
             ],
             [
              0.4444444444444444,
              "#bd3786"
             ],
             [
              0.5555555555555556,
              "#d8576b"
             ],
             [
              0.6666666666666666,
              "#ed7953"
             ],
             [
              0.7777777777777778,
              "#fb9f3a"
             ],
             [
              0.8888888888888888,
              "#fdca26"
             ],
             [
              1,
              "#f0f921"
             ]
            ],
            "type": "surface"
           }
          ],
          "table": [
           {
            "cells": {
             "fill": {
              "color": "#EBF0F8"
             },
             "line": {
              "color": "white"
             }
            },
            "header": {
             "fill": {
              "color": "#C8D4E3"
             },
             "line": {
              "color": "white"
             }
            },
            "type": "table"
           }
          ]
         },
         "layout": {
          "annotationdefaults": {
           "arrowcolor": "#2a3f5f",
           "arrowhead": 0,
           "arrowwidth": 1
          },
          "autotypenumbers": "strict",
          "coloraxis": {
           "colorbar": {
            "outlinewidth": 0,
            "ticks": ""
           }
          },
          "colorscale": {
           "diverging": [
            [
             0,
             "#8e0152"
            ],
            [
             0.1,
             "#c51b7d"
            ],
            [
             0.2,
             "#de77ae"
            ],
            [
             0.3,
             "#f1b6da"
            ],
            [
             0.4,
             "#fde0ef"
            ],
            [
             0.5,
             "#f7f7f7"
            ],
            [
             0.6,
             "#e6f5d0"
            ],
            [
             0.7,
             "#b8e186"
            ],
            [
             0.8,
             "#7fbc41"
            ],
            [
             0.9,
             "#4d9221"
            ],
            [
             1,
             "#276419"
            ]
           ],
           "sequential": [
            [
             0,
             "#0d0887"
            ],
            [
             0.1111111111111111,
             "#46039f"
            ],
            [
             0.2222222222222222,
             "#7201a8"
            ],
            [
             0.3333333333333333,
             "#9c179e"
            ],
            [
             0.4444444444444444,
             "#bd3786"
            ],
            [
             0.5555555555555556,
             "#d8576b"
            ],
            [
             0.6666666666666666,
             "#ed7953"
            ],
            [
             0.7777777777777778,
             "#fb9f3a"
            ],
            [
             0.8888888888888888,
             "#fdca26"
            ],
            [
             1,
             "#f0f921"
            ]
           ],
           "sequentialminus": [
            [
             0,
             "#0d0887"
            ],
            [
             0.1111111111111111,
             "#46039f"
            ],
            [
             0.2222222222222222,
             "#7201a8"
            ],
            [
             0.3333333333333333,
             "#9c179e"
            ],
            [
             0.4444444444444444,
             "#bd3786"
            ],
            [
             0.5555555555555556,
             "#d8576b"
            ],
            [
             0.6666666666666666,
             "#ed7953"
            ],
            [
             0.7777777777777778,
             "#fb9f3a"
            ],
            [
             0.8888888888888888,
             "#fdca26"
            ],
            [
             1,
             "#f0f921"
            ]
           ]
          },
          "colorway": [
           "#636efa",
           "#EF553B",
           "#00cc96",
           "#ab63fa",
           "#FFA15A",
           "#19d3f3",
           "#FF6692",
           "#B6E880",
           "#FF97FF",
           "#FECB52"
          ],
          "font": {
           "color": "#2a3f5f"
          },
          "geo": {
           "bgcolor": "white",
           "lakecolor": "white",
           "landcolor": "#E5ECF6",
           "showlakes": true,
           "showland": true,
           "subunitcolor": "white"
          },
          "hoverlabel": {
           "align": "left"
          },
          "hovermode": "closest",
          "mapbox": {
           "style": "light"
          },
          "paper_bgcolor": "white",
          "plot_bgcolor": "#E5ECF6",
          "polar": {
           "angularaxis": {
            "gridcolor": "white",
            "linecolor": "white",
            "ticks": ""
           },
           "bgcolor": "#E5ECF6",
           "radialaxis": {
            "gridcolor": "white",
            "linecolor": "white",
            "ticks": ""
           }
          },
          "scene": {
           "xaxis": {
            "backgroundcolor": "#E5ECF6",
            "gridcolor": "white",
            "gridwidth": 2,
            "linecolor": "white",
            "showbackground": true,
            "ticks": "",
            "zerolinecolor": "white"
           },
           "yaxis": {
            "backgroundcolor": "#E5ECF6",
            "gridcolor": "white",
            "gridwidth": 2,
            "linecolor": "white",
            "showbackground": true,
            "ticks": "",
            "zerolinecolor": "white"
           },
           "zaxis": {
            "backgroundcolor": "#E5ECF6",
            "gridcolor": "white",
            "gridwidth": 2,
            "linecolor": "white",
            "showbackground": true,
            "ticks": "",
            "zerolinecolor": "white"
           }
          },
          "shapedefaults": {
           "line": {
            "color": "#2a3f5f"
           }
          },
          "ternary": {
           "aaxis": {
            "gridcolor": "white",
            "linecolor": "white",
            "ticks": ""
           },
           "baxis": {
            "gridcolor": "white",
            "linecolor": "white",
            "ticks": ""
           },
           "bgcolor": "#E5ECF6",
           "caxis": {
            "gridcolor": "white",
            "linecolor": "white",
            "ticks": ""
           }
          },
          "title": {
           "x": 0.05
          },
          "xaxis": {
           "automargin": true,
           "gridcolor": "white",
           "linecolor": "white",
           "ticks": "",
           "title": {
            "standoff": 15
           },
           "zerolinecolor": "white",
           "zerolinewidth": 2
          },
          "yaxis": {
           "automargin": true,
           "gridcolor": "white",
           "linecolor": "white",
           "ticks": "",
           "title": {
            "standoff": 15
           },
           "zerolinecolor": "white",
           "zerolinewidth": 2
          }
         }
        },
        "title": {
         "text": "Raw CS:GO Skin Index"
        },
        "xaxis": {
         "anchor": "y",
         "domain": [
          0,
          1
         ],
         "title": {
          "text": "Date"
         }
        },
        "yaxis": {
         "anchor": "x",
         "domain": [
          0,
          1
         ],
         "title": {
          "text": "Index Value"
         }
        }
       }
      }
     },
     "metadata": {},
     "output_type": "display_data"
    }
   ],
   "source": [
    "raw_index = construct_index(agg_df_hist)\n",
    "\n",
    "fig = px.line(raw_index, x='dates.date', y='index', title='Raw CS:GO Skin Index')\n",
    "fig.update_xaxes(title_text='Date')\n",
    "fig.update_yaxes(title_text='Index Value')\n",
    "fig.show()"
   ]
  },
  {
   "cell_type": "code",
   "execution_count": null,
   "metadata": {},
   "outputs": [],
   "source": [
    "def most_traded_index(df, n, quantity_measure, raw_index=raw_index,\n",
    "                      compare=True, min_quantity=0, plot=True):\n",
    "\n",
    "  # Supported quantity_measure values:\n",
    "  # \"mean_quantity\", \"min_quantity\", \"max_quantity\", \"10th_percentile_quantity\",\n",
    "  # \"25th_percentile_quantity\", \"median\",\t\"75th_percentile_quantity\",\n",
    "  # \"90th_percentile_quantity\"\n",
    "\n",
    "  # Calculate number of unique price points for each market_hash_name\n",
    "  unique_prices = df.groupby('market_hash_name')['price'].nunique().reset_index()\n",
    "  unique_prices = unique_prices.rename(columns={'price': 'unique_prices'})\n",
    "\n",
    "  df = df.merge(unique_prices, on='market_hash_name', how='left')\n",
    "  \n",
    "  traded_ranking = df[['market_hash_name', 'unique_prices']]\\\n",
    "        .drop_duplicates()\\\n",
    "        .sort_values('unique_prices', ascending=False)\n",
    "  \n",
    "  most_traded = df[['market_hash_name', 'dates.date', 'price', quantity_measure]]\n",
    "  most_traded = most_traded.rename(columns={quantity_measure: 'quantity'})\n",
    "  top_n_mt = list(traded_ranking[:n]['market_hash_name'])\n",
    "  most_traded = most_traded[most_traded['market_hash_name'].isin(top_n_mt)]\n",
    "  most_traded = most_traded[most_traded.quantity >= min_quantity]\n",
    "  mt_n_index = construct_index(most_traded)\n",
    "  if plot:\n",
    "    if compare:\n",
    "      plot_indexes(raw_index, mt_n_index, f'Most traded {n} (min quantity {min_quantity}) vs raw')\n",
    "    else:\n",
    "      fig = px.line(mt_n_index, x='dates.date', y='index', title=f'Most traded {n} (min quantity {min_quantity})')\n",
    "      fig.update_xaxes(title_text='Date')\n",
    "      fig.update_yaxes(title_text='Index Value')\n",
    "      fig.show()\n",
    "  print(f'Number of products: {most_traded.market_hash_name.drop_duplicates().count()}')\n",
    "  return mt_n_index, most_traded"
   ]
  },
  {
   "cell_type": "code",
   "execution_count": null,
   "metadata": {},
   "outputs": [],
   "source": [
    "def simulate_attack(df, item_list, day_count, increase=True):\n",
    "  # Start from the 20th date in the data. It could be anything.\n",
    "  date_list = [df['dates.date'][20] + pd.Timedelta(days=i) for i in range(day_count)]\n",
    "  # Days and items to target\n",
    "  condition = ((df['market_hash_name'].isin(item_list)) & (df['dates.date'].isin(date_list)))\n",
    "  if increase:\n",
    "    # Attack makes the index of each item equal to 1 trillion\n",
    "    df['index'] = np.where(condition, 1e12, df['index'])\n",
    "  else:\n",
    "    # Attack makes the index value of the input items 0\n",
    "    df['index'] = np.where(condition, 0, df['index'])\n",
    "  return df"
   ]
  },
  {
   "cell_type": "code",
   "execution_count": null,
   "metadata": {},
   "outputs": [],
   "source": [
    "def get_avg_share(df):\n",
    "    # GET INDEX SHARE\n",
    "    daily_sum = df.groupby('dates.date')['index'].sum().reset_index()\n",
    "    daily_sum = daily_sum.rename(columns={'index': 'daily_sum_index'})\n",
    "    df = df.merge(daily_sum, on='dates.date')\n",
    "    df['index_share'] = (df['index'] / df['daily_sum_index'])\n",
    "    df = df.drop(columns=['daily_sum_index'])\n",
    "\n",
    "    # GET MAPPING\n",
    "    half_year_date = df.loc[:, \"dates.date\"].drop_duplicates().iloc[182,]\n",
    "    avg_mapping = df.loc[df['dates.date'] < half_year_date, ['market_hash_name', 'dates.date', 'index_share']]\n",
    "\n",
    "    # Compute mean and standard deviation of index_share by market_hash_name\n",
    "    avg_mapping = avg_mapping.groupby('market_hash_name')['index_share'].agg(['mean', 'std']).reset_index()\n",
    "    avg_mapping = avg_mapping.rename(columns={'mean': 'avg_index_share', 'std': 'std_index_share'})\n",
    "\n",
    "    df = df[df['dates.date'] > half_year_date]\n",
    "    df = df.merge(avg_mapping, on='market_hash_name', how='inner')\n",
    "    return df, avg_mapping"
   ]
  },
  {
   "cell_type": "code",
   "execution_count": null,
   "metadata": {},
   "outputs": [],
   "source": [
    "def get_index_share(df):\n",
    "    # GET INDEX SHARE\n",
    "    daily_sum = df.groupby('dates.date')['index'].sum().reset_index()\n",
    "    daily_sum = daily_sum.rename(columns={'index': 'daily_sum_index'})\n",
    "    df = df.merge(daily_sum, on='dates.date')\n",
    "    df['index_share'] = (df['index'] / df['daily_sum_index'])\n",
    "    df = df.drop(columns=['daily_sum_index'])\n",
    "    return df"
   ]
  },
  {
   "cell_type": "code",
   "execution_count": null,
   "metadata": {},
   "outputs": [],
   "source": [
    "# def get_caps(mapping):\n",
    "#   mapping['cap_index_share'] = np.where(mapping['avg_index_share'] < 0.005, 0.01,\n",
    "#                                             np.where(mapping['avg_index_share'] < 0.01, 0.015,\n",
    "#                                                     np.where(mapping['avg_index_share'] < 0.02, 0.025,\n",
    "#                                                               np.where(mapping['avg_index_share'] < 0.03, 0.032,\n",
    "#                                                                       np.where(mapping['avg_index_share'] < 0.04, 0.041,\n",
    "#                                                                                 np.where(mapping['avg_index_share'] < 0.05, 0.05, mapping['avg_index_share']\n",
    "#                                                                                         )\n",
    "#                                                                                 )\n",
    "#                                                                       )\n",
    "#                                                               )\n",
    "#                                                     )\n",
    "#                                             )\n",
    "#   return mapping\n",
    "\n",
    "def get_caps(mapping, upper_multiplier=1, lower_multiplier=1, items=None):\n",
    "  '''\n",
    "  Get caps for the index share of each item in the mapping.\n",
    "  If `items` is not None, then the caps are only applied to the items in the list.\n",
    "  Else, the caps are applied to all items.\n",
    "  '''\n",
    "\n",
    "  if not items:\n",
    "    mapping['upper_cap_index_share'] = mapping['avg_index_share'] + upper_multiplier*mapping['std_index_share']\n",
    "    mapping['lower_cap_index_share'] = np.where(mapping['avg_index_share'] - lower_multiplier*mapping['std_index_share'] > 0,\n",
    "                                              mapping['avg_index_share'] - lower_multiplier*mapping['std_index_share'], 0)\n",
    "  if items:\n",
    "    # Apply caps only to the items in the list\n",
    "    mapping['upper_cap_index_share'] = np.where(\n",
    "      mapping['market_hash_name'].isin(items),\n",
    "      mapping['avg_index_share'] + upper_multiplier*mapping['std_index_share'],\n",
    "      1\n",
    "    )\n",
    "    mapping['lower_cap_index_share'] = np.where(\n",
    "      mapping['market_hash_name'].isin(items),\n",
    "      np.where(mapping['avg_index_share'] - lower_multiplier*mapping['std_index_share'] > 0,\n",
    "                mapping['avg_index_share'] - lower_multiplier*mapping['std_index_share'], 0),\n",
    "      0\n",
    "    )\n",
    "  return mapping"
   ]
  },
  {
   "cell_type": "code",
   "execution_count": null,
   "metadata": {},
   "outputs": [],
   "source": [
    "# def cap_index(df):\n",
    "#   valid = df[(df['index_share'] >= df['lower_cap_index_share']) & \n",
    "#              (df['index_share'] <= df['upper_cap_index_share'])]\n",
    "#   valid_ind = pd.DataFrame(valid.groupby('dates.date')['index'].sum()).reset_index().rename(columns={'index': 'sum_index'})\n",
    "  \n",
    "#   # Invalid Entries: Those below lower_cap_index_share\n",
    "#   invalid_lower = df[df['index_share'] < df['lower_cap_index_share']]\n",
    "#   invalid_lower_ind = pd.DataFrame(invalid_lower.groupby('dates.date')['lower_cap_index_share'].sum()).reset_index().rename(columns={'lower_cap_index_share': 'sum_lower_cap_index_share'})\n",
    "\n",
    "#   # Invalid Entries: Those above upper_cap_index_share\n",
    "#   invalid_upper = df[df['index_share'] > df['upper_cap_index_share']]\n",
    "#   invalid_upper_ind = pd.DataFrame(invalid_upper.groupby('dates.date')['upper_cap_index_share'].sum()).reset_index().rename(columns={'upper_cap_index_share': 'sum_upper_cap_index_share'})\n",
    "\n",
    "#   # Merging\n",
    "#   all_ind = valid_ind.merge(invalid_lower_ind, on=['dates.date'], how='left').merge(invalid_upper_ind, on=['dates.date'], how='left')\n",
    "#   all_ind = all_ind.fillna({'sum_lower_cap_index_share': 0, 'sum_upper_cap_index_share': 0})\n",
    "\n",
    "#   # Calculating the adjusted index \n",
    "#   all_ind['index'] = all_ind['sum_index'] / (1 - all_ind['sum_lower_cap_index_share'] - all_ind['sum_upper_cap_index_share'])\n",
    "\n",
    "#   return all_ind, valid, invalid_lower, invalid_upper\n",
    "\n"
   ]
  },
  {
   "cell_type": "code",
   "execution_count": null,
   "metadata": {},
   "outputs": [],
   "source": [
    "def plot_inds(df1, df2, name1, name2):\n",
    "  fig = go.Figure()\n",
    "\n",
    "  fig.add_trace(go.Scatter(x=df2['dates.date'], y=df2['index'], name=name2, mode='lines'))\n",
    "\n",
    "  fig.add_trace(go.Scatter(x=df1['dates.date'], y=df1['index'], name=name1, mode='lines'))\n",
    "\n",
    "  fig.update_layout(\n",
    "      title=f'{name1} vs {name2}',\n",
    "      xaxis_title='dates',\n",
    "      yaxis_title='index'\n",
    "  )\n",
    "\n",
    "  fig.show()"
   ]
  },
  {
   "cell_type": "markdown",
   "metadata": {},
   "source": [
    "## Get Mapping \n",
    "Maps items to track with their mean and std dev of share in index"
   ]
  },
  {
   "cell_type": "code",
   "execution_count": null,
   "metadata": {},
   "outputs": [
    {
     "name": "stdout",
     "output_type": "stream",
     "text": [
      "Number of products: 550\n"
     ]
    },
    {
     "data": {
      "text/html": [
       "<div>\n",
       "<style scoped>\n",
       "    .dataframe tbody tr th:only-of-type {\n",
       "        vertical-align: middle;\n",
       "    }\n",
       "\n",
       "    .dataframe tbody tr th {\n",
       "        vertical-align: top;\n",
       "    }\n",
       "\n",
       "    .dataframe thead th {\n",
       "        text-align: right;\n",
       "    }\n",
       "</style>\n",
       "<table border=\"1\" class=\"dataframe\">\n",
       "  <thead>\n",
       "    <tr style=\"text-align: right;\">\n",
       "      <th></th>\n",
       "      <th>market_hash_name</th>\n",
       "      <th>avg_index_share</th>\n",
       "      <th>std_index_share</th>\n",
       "    </tr>\n",
       "  </thead>\n",
       "  <tbody>\n",
       "    <tr>\n",
       "      <th>0</th>\n",
       "      <td>'Medium Rare' Crasswater | Guerrilla Warfare</td>\n",
       "      <td>0.000178</td>\n",
       "      <td>0.000019</td>\n",
       "    </tr>\n",
       "    <tr>\n",
       "      <th>1</th>\n",
       "      <td>AK-47 | Aquamarine Revenge (Battle-Scarred)</td>\n",
       "      <td>0.000443</td>\n",
       "      <td>0.000032</td>\n",
       "    </tr>\n",
       "    <tr>\n",
       "      <th>2</th>\n",
       "      <td>AK-47 | Aquamarine Revenge (Field-Tested)</td>\n",
       "      <td>0.000654</td>\n",
       "      <td>0.000025</td>\n",
       "    </tr>\n",
       "    <tr>\n",
       "      <th>3</th>\n",
       "      <td>AK-47 | Aquamarine Revenge (Minimal Wear)</td>\n",
       "      <td>0.001258</td>\n",
       "      <td>0.000039</td>\n",
       "    </tr>\n",
       "    <tr>\n",
       "      <th>4</th>\n",
       "      <td>AK-47 | Aquamarine Revenge (Well-Worn)</td>\n",
       "      <td>0.000414</td>\n",
       "      <td>0.000019</td>\n",
       "    </tr>\n",
       "  </tbody>\n",
       "</table>\n",
       "</div>"
      ],
      "text/plain": [
       "                               market_hash_name  avg_index_share  \\\n",
       "0  'Medium Rare' Crasswater | Guerrilla Warfare         0.000178   \n",
       "1   AK-47 | Aquamarine Revenge (Battle-Scarred)         0.000443   \n",
       "2     AK-47 | Aquamarine Revenge (Field-Tested)         0.000654   \n",
       "3     AK-47 | Aquamarine Revenge (Minimal Wear)         0.001258   \n",
       "4        AK-47 | Aquamarine Revenge (Well-Worn)         0.000414   \n",
       "\n",
       "   std_index_share  \n",
       "0         0.000019  \n",
       "1         0.000032  \n",
       "2         0.000025  \n",
       "3         0.000039  \n",
       "4         0.000019  "
      ]
     },
     "execution_count": 115,
     "metadata": {},
     "output_type": "execute_result"
    }
   ],
   "source": [
    "ind, ind_data = most_traded_index(\n",
    "    df=agg_df_hist,\n",
    "    n=5000,\n",
    "    quantity_measure='min_quantity',\n",
    "    raw_index=raw_index,\n",
    "    compare=False,\n",
    "    min_quantity=100,\n",
    "    plot=False\n",
    ")\n",
    "ind_data, mapping = get_avg_share(ind_data)\n",
    "mapping.head()\n",
    "# mapping.to_csv('data/csgo_mapping.csv')  # Save mapping to csv\n"
   ]
  },
  {
   "cell_type": "markdown",
   "metadata": {},
   "source": [
    "## Construct capped index"
   ]
  },
  {
   "cell_type": "code",
   "execution_count": null,
   "metadata": {},
   "outputs": [
    {
     "name": "stdout",
     "output_type": "stream",
     "text": [
      "Number of products: 550\n"
     ]
    },
    {
     "data": {
      "application/vnd.plotly.v1+json": {
       "config": {
        "plotlyServerURL": "https://plot.ly"
       },
       "data": [
        {
         "mode": "lines",
         "name": "Capped Index",
         "type": "scatter",
         "x": [
          "2023-03-24T00:00:00",
          "2023-03-25T00:00:00",
          "2023-03-26T00:00:00",
          "2023-03-27T00:00:00",
          "2023-03-28T00:00:00",
          "2023-03-29T00:00:00",
          "2023-03-30T00:00:00",
          "2023-03-31T00:00:00",
          "2023-04-01T00:00:00",
          "2023-04-02T00:00:00",
          "2023-04-03T00:00:00",
          "2023-04-04T00:00:00",
          "2023-04-05T00:00:00",
          "2023-04-06T00:00:00",
          "2023-04-07T00:00:00",
          "2023-04-08T00:00:00",
          "2023-04-09T00:00:00",
          "2023-04-10T00:00:00",
          "2023-04-11T00:00:00",
          "2023-04-12T00:00:00",
          "2023-04-13T00:00:00",
          "2023-04-14T00:00:00",
          "2023-04-15T00:00:00",
          "2023-04-16T00:00:00",
          "2023-04-17T00:00:00",
          "2023-04-18T00:00:00",
          "2023-04-19T00:00:00",
          "2023-04-20T00:00:00",
          "2023-04-21T00:00:00",
          "2023-04-22T00:00:00",
          "2023-04-23T00:00:00",
          "2023-04-24T00:00:00",
          "2023-04-25T00:00:00",
          "2023-04-26T00:00:00",
          "2023-04-27T00:00:00",
          "2023-04-28T00:00:00",
          "2023-04-29T00:00:00",
          "2023-04-30T00:00:00",
          "2023-05-01T00:00:00",
          "2023-05-02T00:00:00",
          "2023-05-03T00:00:00",
          "2023-05-04T00:00:00",
          "2023-05-05T00:00:00",
          "2023-05-06T00:00:00",
          "2023-05-07T00:00:00",
          "2023-05-08T00:00:00",
          "2023-05-09T00:00:00",
          "2023-05-10T00:00:00",
          "2023-05-11T00:00:00",
          "2023-05-12T00:00:00",
          "2023-05-13T00:00:00",
          "2023-05-14T00:00:00",
          "2023-05-15T00:00:00",
          "2023-05-16T00:00:00",
          "2023-05-17T00:00:00",
          "2023-05-18T00:00:00",
          "2023-05-19T00:00:00",
          "2023-05-20T00:00:00",
          "2023-05-21T00:00:00",
          "2023-05-22T00:00:00",
          "2023-05-23T00:00:00",
          "2023-05-24T00:00:00",
          "2023-05-25T00:00:00",
          "2023-05-26T00:00:00",
          "2023-05-27T00:00:00",
          "2023-05-28T00:00:00",
          "2023-05-29T00:00:00",
          "2023-05-30T00:00:00",
          "2023-05-31T00:00:00",
          "2023-06-01T00:00:00",
          "2023-06-02T00:00:00",
          "2023-06-03T00:00:00",
          "2023-06-04T00:00:00",
          "2023-06-05T00:00:00",
          "2023-06-06T00:00:00",
          "2023-06-07T00:00:00",
          "2023-06-08T00:00:00",
          "2023-06-09T00:00:00",
          "2023-06-10T00:00:00",
          "2023-06-11T00:00:00",
          "2023-06-12T00:00:00",
          "2023-06-13T00:00:00",
          "2023-06-14T00:00:00",
          "2023-06-15T00:00:00",
          "2023-06-16T00:00:00",
          "2023-06-17T00:00:00",
          "2023-06-18T00:00:00",
          "2023-06-19T00:00:00",
          "2023-06-20T00:00:00",
          "2023-06-21T00:00:00",
          "2023-06-22T00:00:00",
          "2023-06-23T00:00:00",
          "2023-06-24T00:00:00",
          "2023-06-25T00:00:00",
          "2023-06-26T00:00:00",
          "2023-06-27T00:00:00",
          "2023-06-28T00:00:00",
          "2023-06-29T00:00:00",
          "2023-06-30T00:00:00",
          "2023-07-01T00:00:00",
          "2023-07-02T00:00:00",
          "2023-07-03T00:00:00",
          "2023-07-04T00:00:00",
          "2023-07-05T00:00:00",
          "2023-07-06T00:00:00",
          "2023-07-07T00:00:00",
          "2023-07-08T00:00:00",
          "2023-07-09T00:00:00",
          "2023-07-10T00:00:00",
          "2023-07-11T00:00:00",
          "2023-07-12T00:00:00",
          "2023-07-13T00:00:00",
          "2023-07-14T00:00:00",
          "2023-07-15T00:00:00",
          "2023-07-16T00:00:00",
          "2023-07-17T00:00:00",
          "2023-07-18T00:00:00",
          "2023-07-19T00:00:00",
          "2023-07-20T00:00:00",
          "2023-07-21T00:00:00",
          "2023-07-22T00:00:00",
          "2023-07-23T00:00:00",
          "2023-07-24T00:00:00",
          "2023-07-25T00:00:00",
          "2023-07-26T00:00:00",
          "2023-07-27T00:00:00",
          "2023-07-28T00:00:00",
          "2023-07-29T00:00:00",
          "2023-07-30T00:00:00",
          "2023-07-31T00:00:00",
          "2023-08-01T00:00:00",
          "2023-08-02T00:00:00",
          "2023-08-03T00:00:00",
          "2023-08-04T00:00:00",
          "2023-08-05T00:00:00",
          "2023-08-06T00:00:00",
          "2023-08-07T00:00:00",
          "2023-08-08T00:00:00",
          "2023-08-09T00:00:00",
          "2023-08-10T00:00:00",
          "2023-08-11T00:00:00",
          "2023-08-12T00:00:00",
          "2023-08-13T00:00:00",
          "2023-08-14T00:00:00",
          "2023-08-15T00:00:00",
          "2023-08-16T00:00:00",
          "2023-08-17T00:00:00",
          "2023-08-18T00:00:00",
          "2023-08-19T00:00:00",
          "2023-08-20T00:00:00",
          "2023-08-21T00:00:00",
          "2023-08-22T00:00:00",
          "2023-08-23T00:00:00",
          "2023-08-24T00:00:00",
          "2023-08-25T00:00:00",
          "2023-08-26T00:00:00",
          "2023-08-27T00:00:00",
          "2023-08-28T00:00:00",
          "2023-08-29T00:00:00",
          "2023-08-30T00:00:00",
          "2023-08-31T00:00:00",
          "2023-09-01T00:00:00",
          "2023-09-02T00:00:00",
          "2023-09-03T00:00:00",
          "2023-09-04T00:00:00",
          "2023-09-05T00:00:00",
          "2023-09-06T00:00:00",
          "2023-09-07T00:00:00",
          "2023-09-08T00:00:00",
          "2023-09-09T00:00:00",
          "2023-09-10T00:00:00",
          "2023-09-11T00:00:00",
          "2023-09-12T00:00:00",
          "2023-09-13T00:00:00",
          "2023-09-14T00:00:00",
          "2023-09-15T00:00:00",
          "2023-09-16T00:00:00",
          "2023-09-17T00:00:00",
          "2023-09-18T00:00:00"
         ],
         "y": [
          9135620.092660157,
          9210450.976252653,
          9278154.9799682,
          9789396.462915057,
          9641629.571998248,
          9547639.039909203,
          9611275.942391686,
          9730410.423227722,
          9896448.649217127,
          10011551.773808932,
          10108046.838203873,
          10168589.753983827,
          10271096.45753052,
          10664039.047429241,
          10855596.697670536,
          10870078.461275717,
          10956382.887443066,
          11163233.329546714,
          11586033.706067652,
          11851235.926616235,
          12310794.8026689,
          12734808.379515111,
          12256477.821265183,
          12168697.779465968,
          12286988.93040085,
          12700509.951421112,
          13190065.248990482,
          13126467.435172928,
          12982875.476130366,
          12611582.840195298,
          12450062.036387019,
          12731096.428864231,
          12824940.202761084,
          12580089.13397696,
          12391150.542876022,
          12164795.46338975,
          11830635.636174293,
          11409944.393602632,
          11337857.79676229,
          11583861.758766158,
          11645149.213373672,
          11919588.12067553,
          11950096.691808812,
          11782994.14779146,
          11695215.076914888,
          11644534.39438562,
          11538395.504998753,
          11502048.89522922,
          11250792.308317536,
          10890232.250586683,
          10022913.01223918,
          10402851.305321187,
          10494523.577821776,
          10430393.276155563,
          10496331.818242462,
          10425710.03891965,
          10318598.951000364,
          10359338.595458763,
          10321448.599585462,
          10454090.655374506,
          10421756.631096795,
          10554319.972335802,
          10763666.674977852,
          10729770.006484179,
          10673203.195390707,
          10764278.698682038,
          10496405.031501388,
          10723325.539910013,
          10758627.781101217,
          10768652.263807714,
          10842618.645867817,
          10892307.120295187,
          10924231.276448058,
          10852936.031434739,
          10791297.525220308,
          10750473.638367806,
          10752804.572041836,
          10773203.467345465,
          10833540.685191695,
          10906840.338882286,
          10851888.320179261,
          10887623.365656156,
          10844193.426952634,
          10843324.859929418,
          10844154.892322341,
          10785621.326999897,
          10668970.78459124,
          10547379.398206111,
          10419698.358506376,
          10416963.431918347,
          10411469.679760175,
          10382921.521673026,
          10354537.961038502,
          10263155.700112829,
          10078312.034218784,
          9895353.565854609,
          9661658.662027864,
          9415076.885076126,
          9408325.696209857,
          9524026.269399432,
          9513371.874062788,
          9547220.223403648,
          9601822.088197492,
          9632367.979189735,
          9622222.380334616,
          9617796.19096309,
          9537069.950860417,
          9474425.505407542,
          9408156.76092198,
          9450487.204320762,
          9388470.592247443,
          9350759.431354167,
          9326622.598403051,
          9291474.112797331,
          9292714.641731132,
          9288724.827329194,
          9318195.602162885,
          9335973.714007547,
          9311578.748350238,
          9349324.116417732,
          9352624.081853768,
          9350282.026869362,
          9351102.627890473,
          9371057.80770362,
          9417240.390682802,
          9444916.814191578,
          9492830.02943216,
          9572354.362662738,
          9606063.13580832,
          9783542.390574371,
          9883139.693471665,
          9967130.128516385,
          9977043.815780343,
          10008714.169128008,
          9968317.193786912,
          9942977.763171876,
          9964833.93159332,
          9956456.571897244,
          9886456.26078355,
          9928265.731007729,
          9951154.929905046,
          10006144.419002127,
          9971661.960076677,
          9922570.618128214,
          9989395.085731775,
          10033488.416158158,
          10033427.20711506,
          10167163.92050717,
          10225025.588977968,
          10289529.213668087,
          10280348.06590123,
          10317528.825722922,
          10361461.636508266,
          10317926.411944205,
          10257719.54819838,
          10279511.40675055,
          10277096.41980706,
          10374633.220952656,
          10352876.91232231,
          10408578.285672896,
          10411365.316062424,
          10598406.20286162,
          10704357.93353738,
          10722884.94747876,
          10774459.079578806,
          10713134.778289706,
          10703643.346999662,
          10675475.16291045,
          10677137.986997096,
          10675197.838396482,
          10598619.444095694,
          10597969.347841376,
          10656157.382598437,
          10655283.935983652,
          10677006.083174387,
          10655276.111458706,
          10571886.779360022,
          10562962.710254977,
          10562556.616011882
         ]
        },
        {
         "mode": "lines",
         "name": "Raw Index",
         "type": "scatter",
         "x": [
          "2022-09-21T00:00:00",
          "2022-09-22T00:00:00",
          "2022-09-23T00:00:00",
          "2022-09-24T00:00:00",
          "2022-09-25T00:00:00",
          "2022-09-26T00:00:00",
          "2022-09-27T00:00:00",
          "2022-09-28T00:00:00",
          "2022-09-29T00:00:00",
          "2022-09-30T00:00:00",
          "2022-10-01T00:00:00",
          "2022-10-02T00:00:00",
          "2022-10-03T00:00:00",
          "2022-10-04T00:00:00",
          "2022-10-05T00:00:00",
          "2022-10-06T00:00:00",
          "2022-10-07T00:00:00",
          "2022-10-08T00:00:00",
          "2022-10-09T00:00:00",
          "2022-10-10T00:00:00",
          "2022-10-11T00:00:00",
          "2022-10-12T00:00:00",
          "2022-10-13T00:00:00",
          "2022-10-14T00:00:00",
          "2022-10-15T00:00:00",
          "2022-10-16T00:00:00",
          "2022-10-17T00:00:00",
          "2022-10-18T00:00:00",
          "2022-10-19T00:00:00",
          "2022-10-20T00:00:00",
          "2022-10-21T00:00:00",
          "2022-10-22T00:00:00",
          "2022-10-23T00:00:00",
          "2022-10-24T00:00:00",
          "2022-10-25T00:00:00",
          "2022-10-26T00:00:00",
          "2022-10-27T00:00:00",
          "2022-10-28T00:00:00",
          "2022-10-29T00:00:00",
          "2022-10-30T00:00:00",
          "2022-10-31T00:00:00",
          "2022-11-01T00:00:00",
          "2022-11-02T00:00:00",
          "2022-11-03T00:00:00",
          "2022-11-04T00:00:00",
          "2022-11-05T00:00:00",
          "2022-11-06T00:00:00",
          "2022-11-07T00:00:00",
          "2022-11-08T00:00:00",
          "2022-11-09T00:00:00",
          "2022-11-10T00:00:00",
          "2022-11-11T00:00:00",
          "2022-11-12T00:00:00",
          "2022-11-13T00:00:00",
          "2022-11-14T00:00:00",
          "2022-11-15T00:00:00",
          "2022-11-16T00:00:00",
          "2022-11-17T00:00:00",
          "2022-11-18T00:00:00",
          "2022-11-19T00:00:00",
          "2022-11-20T00:00:00",
          "2022-11-21T00:00:00",
          "2022-11-22T00:00:00",
          "2022-11-23T00:00:00",
          "2022-11-24T00:00:00",
          "2022-11-25T00:00:00",
          "2022-11-26T00:00:00",
          "2022-11-27T00:00:00",
          "2022-11-28T00:00:00",
          "2022-11-29T00:00:00",
          "2022-11-30T00:00:00",
          "2022-12-01T00:00:00",
          "2022-12-02T00:00:00",
          "2022-12-03T00:00:00",
          "2022-12-04T00:00:00",
          "2022-12-05T00:00:00",
          "2022-12-06T00:00:00",
          "2022-12-07T00:00:00",
          "2022-12-08T00:00:00",
          "2022-12-09T00:00:00",
          "2022-12-10T00:00:00",
          "2022-12-11T00:00:00",
          "2022-12-12T00:00:00",
          "2022-12-13T00:00:00",
          "2022-12-14T00:00:00",
          "2022-12-15T00:00:00",
          "2022-12-16T00:00:00",
          "2022-12-17T00:00:00",
          "2022-12-18T00:00:00",
          "2022-12-19T00:00:00",
          "2022-12-20T00:00:00",
          "2022-12-21T00:00:00",
          "2022-12-22T00:00:00",
          "2022-12-23T00:00:00",
          "2022-12-24T00:00:00",
          "2022-12-25T00:00:00",
          "2022-12-26T00:00:00",
          "2022-12-27T00:00:00",
          "2022-12-28T00:00:00",
          "2022-12-29T00:00:00",
          "2022-12-30T00:00:00",
          "2022-12-31T00:00:00",
          "2023-01-01T00:00:00",
          "2023-01-02T00:00:00",
          "2023-01-03T00:00:00",
          "2023-01-04T00:00:00",
          "2023-01-05T00:00:00",
          "2023-01-06T00:00:00",
          "2023-01-07T00:00:00",
          "2023-01-08T00:00:00",
          "2023-01-09T00:00:00",
          "2023-01-10T00:00:00",
          "2023-01-11T00:00:00",
          "2023-01-12T00:00:00",
          "2023-01-13T00:00:00",
          "2023-01-14T00:00:00",
          "2023-01-15T00:00:00",
          "2023-01-16T00:00:00",
          "2023-01-17T00:00:00",
          "2023-01-18T00:00:00",
          "2023-01-19T00:00:00",
          "2023-01-20T00:00:00",
          "2023-01-21T00:00:00",
          "2023-01-22T00:00:00",
          "2023-01-23T00:00:00",
          "2023-01-24T00:00:00",
          "2023-01-25T00:00:00",
          "2023-01-26T00:00:00",
          "2023-01-27T00:00:00",
          "2023-01-28T00:00:00",
          "2023-01-29T00:00:00",
          "2023-01-30T00:00:00",
          "2023-01-31T00:00:00",
          "2023-02-01T00:00:00",
          "2023-02-02T00:00:00",
          "2023-02-03T00:00:00",
          "2023-02-04T00:00:00",
          "2023-02-05T00:00:00",
          "2023-02-06T00:00:00",
          "2023-02-07T00:00:00",
          "2023-02-08T00:00:00",
          "2023-02-09T00:00:00",
          "2023-02-10T00:00:00",
          "2023-02-11T00:00:00",
          "2023-02-12T00:00:00",
          "2023-02-13T00:00:00",
          "2023-02-14T00:00:00",
          "2023-02-15T00:00:00",
          "2023-02-16T00:00:00",
          "2023-02-17T00:00:00",
          "2023-02-18T00:00:00",
          "2023-02-19T00:00:00",
          "2023-02-20T00:00:00",
          "2023-02-21T00:00:00",
          "2023-02-22T00:00:00",
          "2023-02-23T00:00:00",
          "2023-02-24T00:00:00",
          "2023-02-25T00:00:00",
          "2023-02-26T00:00:00",
          "2023-02-27T00:00:00",
          "2023-02-28T00:00:00",
          "2023-03-01T00:00:00",
          "2023-03-02T00:00:00",
          "2023-03-03T00:00:00",
          "2023-03-04T00:00:00",
          "2023-03-05T00:00:00",
          "2023-03-06T00:00:00",
          "2023-03-07T00:00:00",
          "2023-03-08T00:00:00",
          "2023-03-09T00:00:00",
          "2023-03-10T00:00:00",
          "2023-03-11T00:00:00",
          "2023-03-12T00:00:00",
          "2023-03-13T00:00:00",
          "2023-03-14T00:00:00",
          "2023-03-15T00:00:00",
          "2023-03-16T00:00:00",
          "2023-03-17T00:00:00",
          "2023-03-18T00:00:00",
          "2023-03-19T00:00:00",
          "2023-03-20T00:00:00",
          "2023-03-21T00:00:00",
          "2023-03-22T00:00:00",
          "2023-03-23T00:00:00",
          "2023-03-24T00:00:00",
          "2023-03-25T00:00:00",
          "2023-03-26T00:00:00",
          "2023-03-27T00:00:00",
          "2023-03-28T00:00:00",
          "2023-03-29T00:00:00",
          "2023-03-30T00:00:00",
          "2023-03-31T00:00:00",
          "2023-04-01T00:00:00",
          "2023-04-02T00:00:00",
          "2023-04-03T00:00:00",
          "2023-04-04T00:00:00",
          "2023-04-05T00:00:00",
          "2023-04-06T00:00:00",
          "2023-04-07T00:00:00",
          "2023-04-08T00:00:00",
          "2023-04-09T00:00:00",
          "2023-04-10T00:00:00",
          "2023-04-11T00:00:00",
          "2023-04-12T00:00:00",
          "2023-04-13T00:00:00",
          "2023-04-14T00:00:00",
          "2023-04-15T00:00:00",
          "2023-04-16T00:00:00",
          "2023-04-17T00:00:00",
          "2023-04-18T00:00:00",
          "2023-04-19T00:00:00",
          "2023-04-20T00:00:00",
          "2023-04-21T00:00:00",
          "2023-04-22T00:00:00",
          "2023-04-23T00:00:00",
          "2023-04-24T00:00:00",
          "2023-04-25T00:00:00",
          "2023-04-26T00:00:00",
          "2023-04-27T00:00:00",
          "2023-04-28T00:00:00",
          "2023-04-29T00:00:00",
          "2023-04-30T00:00:00",
          "2023-05-01T00:00:00",
          "2023-05-02T00:00:00",
          "2023-05-03T00:00:00",
          "2023-05-04T00:00:00",
          "2023-05-05T00:00:00",
          "2023-05-06T00:00:00",
          "2023-05-07T00:00:00",
          "2023-05-08T00:00:00",
          "2023-05-09T00:00:00",
          "2023-05-10T00:00:00",
          "2023-05-11T00:00:00",
          "2023-05-12T00:00:00",
          "2023-05-13T00:00:00",
          "2023-05-14T00:00:00",
          "2023-05-15T00:00:00",
          "2023-05-16T00:00:00",
          "2023-05-17T00:00:00",
          "2023-05-18T00:00:00",
          "2023-05-19T00:00:00",
          "2023-05-20T00:00:00",
          "2023-05-21T00:00:00",
          "2023-05-22T00:00:00",
          "2023-05-23T00:00:00",
          "2023-05-24T00:00:00",
          "2023-05-25T00:00:00",
          "2023-05-26T00:00:00",
          "2023-05-27T00:00:00",
          "2023-05-28T00:00:00",
          "2023-05-29T00:00:00",
          "2023-05-30T00:00:00",
          "2023-05-31T00:00:00",
          "2023-06-01T00:00:00",
          "2023-06-02T00:00:00",
          "2023-06-03T00:00:00",
          "2023-06-04T00:00:00",
          "2023-06-05T00:00:00",
          "2023-06-06T00:00:00",
          "2023-06-07T00:00:00",
          "2023-06-08T00:00:00",
          "2023-06-09T00:00:00",
          "2023-06-10T00:00:00",
          "2023-06-11T00:00:00",
          "2023-06-12T00:00:00",
          "2023-06-13T00:00:00",
          "2023-06-14T00:00:00",
          "2023-06-15T00:00:00",
          "2023-06-16T00:00:00",
          "2023-06-17T00:00:00",
          "2023-06-18T00:00:00",
          "2023-06-19T00:00:00",
          "2023-06-20T00:00:00",
          "2023-06-21T00:00:00",
          "2023-06-22T00:00:00",
          "2023-06-23T00:00:00",
          "2023-06-24T00:00:00",
          "2023-06-25T00:00:00",
          "2023-06-26T00:00:00",
          "2023-06-27T00:00:00",
          "2023-06-28T00:00:00",
          "2023-06-29T00:00:00",
          "2023-06-30T00:00:00",
          "2023-07-01T00:00:00",
          "2023-07-02T00:00:00",
          "2023-07-03T00:00:00",
          "2023-07-04T00:00:00",
          "2023-07-05T00:00:00",
          "2023-07-06T00:00:00",
          "2023-07-07T00:00:00",
          "2023-07-08T00:00:00",
          "2023-07-09T00:00:00",
          "2023-07-10T00:00:00",
          "2023-07-11T00:00:00",
          "2023-07-12T00:00:00",
          "2023-07-13T00:00:00",
          "2023-07-14T00:00:00",
          "2023-07-15T00:00:00",
          "2023-07-16T00:00:00",
          "2023-07-17T00:00:00",
          "2023-07-18T00:00:00",
          "2023-07-19T00:00:00",
          "2023-07-20T00:00:00",
          "2023-07-21T00:00:00",
          "2023-07-22T00:00:00",
          "2023-07-23T00:00:00",
          "2023-07-24T00:00:00",
          "2023-07-25T00:00:00",
          "2023-07-26T00:00:00",
          "2023-07-27T00:00:00",
          "2023-07-28T00:00:00",
          "2023-07-29T00:00:00",
          "2023-07-30T00:00:00",
          "2023-07-31T00:00:00",
          "2023-08-01T00:00:00",
          "2023-08-02T00:00:00",
          "2023-08-03T00:00:00",
          "2023-08-04T00:00:00",
          "2023-08-05T00:00:00",
          "2023-08-06T00:00:00",
          "2023-08-07T00:00:00",
          "2023-08-08T00:00:00",
          "2023-08-09T00:00:00",
          "2023-08-10T00:00:00",
          "2023-08-11T00:00:00",
          "2023-08-12T00:00:00",
          "2023-08-13T00:00:00",
          "2023-08-14T00:00:00",
          "2023-08-15T00:00:00",
          "2023-08-16T00:00:00",
          "2023-08-17T00:00:00",
          "2023-08-18T00:00:00",
          "2023-08-19T00:00:00",
          "2023-08-20T00:00:00",
          "2023-08-21T00:00:00",
          "2023-08-22T00:00:00",
          "2023-08-23T00:00:00",
          "2023-08-24T00:00:00",
          "2023-08-25T00:00:00",
          "2023-08-26T00:00:00",
          "2023-08-27T00:00:00",
          "2023-08-28T00:00:00",
          "2023-08-29T00:00:00",
          "2023-08-30T00:00:00",
          "2023-08-31T00:00:00",
          "2023-09-01T00:00:00",
          "2023-09-02T00:00:00",
          "2023-09-03T00:00:00",
          "2023-09-04T00:00:00",
          "2023-09-05T00:00:00",
          "2023-09-06T00:00:00",
          "2023-09-07T00:00:00",
          "2023-09-08T00:00:00",
          "2023-09-09T00:00:00",
          "2023-09-10T00:00:00",
          "2023-09-11T00:00:00",
          "2023-09-12T00:00:00",
          "2023-09-13T00:00:00",
          "2023-09-14T00:00:00",
          "2023-09-15T00:00:00",
          "2023-09-16T00:00:00",
          "2023-09-17T00:00:00",
          "2023-09-18T00:00:00"
         ],
         "y": [
          6771166.28,
          6726694.99,
          6698817.09,
          6650692.81,
          6635727,
          6624127.05,
          6552276.04,
          6526730.21,
          5932684.01,
          6703527.72,
          6744080.45,
          6788369.59,
          6797916.75,
          6822254.83,
          6880195.33,
          6916845.3,
          6911245.8,
          6865556.42,
          6861601.22,
          6835605.68,
          6824694.55,
          6796893.51,
          6790275.35,
          6824229.25,
          6839432.05,
          6836743.37,
          6856913.49,
          6887797.01,
          6902886.4,
          6906440.95,
          6930795.34,
          6970769.77,
          6986599.77,
          6963366.2,
          6964343.49,
          7014461.7,
          7058574.64,
          6995404.14,
          7004653.22,
          6968396.64,
          6954459.15,
          6929801.53,
          6941658.13,
          6941772.73,
          6940511.8,
          7026598.05,
          7059370.33,
          7044205.08,
          7042902.51,
          7040809.88,
          7038235.16,
          7105199.62,
          7152048.49,
          7159787.64,
          7142202.83,
          7162423.53,
          7185552.41,
          7159608.12,
          7164884.7,
          7174887.36,
          7143841,
          7189578.79,
          7244294.29,
          7289423.68,
          7280703.78,
          7257718.25,
          7240911.19,
          7217221.13,
          7207068.57,
          7195202.66,
          7225140.85,
          7277420.88,
          7351713.19,
          7369936.8,
          7392778.58,
          7421235.29,
          7441826.58,
          7470812.22,
          7527899.53,
          7580608.35,
          7579576.08,
          7551102.78,
          7582472.46,
          7514945.51,
          7515465.42,
          7544450.57,
          7559502.04,
          7567746.34,
          7511027.14,
          7535019.53,
          7490827.43,
          7477970.9799999995,
          7454687.4,
          7393742.5,
          7269300.18,
          7192058.91,
          7271955.18,
          7332011.21,
          7310939.12,
          7254332.45,
          7258049.11,
          7260332.28,
          7241294.14,
          7195221.32,
          7149943.92,
          7136554.97,
          7137038.7299999995,
          7100668.67,
          7101235.05,
          7159577.62,
          7182701.15,
          7277519.33,
          7350171.6899999995,
          7406064.85,
          7445156.37,
          7486671.88,
          7506058.53,
          7534941.85,
          7522798.4,
          7518537.63,
          7546361.7,
          7549302.87,
          7569961.24,
          7578440.38,
          7611916.99,
          7655347.61,
          7664726.45,
          7618760.25,
          7652840.93,
          7655824.8,
          7691190.64,
          7661738.75,
          7694818.4,
          7690611.97,
          7678086.5,
          7740739.83,
          7756421.71,
          7714246.13,
          7772930.08,
          7756609.98,
          7750899.31,
          7742203.42,
          7790889.2,
          7814934.2,
          7833005.51,
          7862167.8,
          7927851.39,
          7956139.62,
          7971184.94,
          7986282.54,
          8008508.89,
          8020794,
          8083596.46,
          8031811.12,
          8042143.01,
          8046251.44,
          7949476.8,
          8020881.32,
          7889511.03,
          8005328.86,
          7899416.92,
          7946012.6,
          8135822.38,
          8175205.53,
          8211308.89,
          8214781.25,
          8200765.75,
          8284867.87,
          8378509.87,
          8427398.64,
          8463233.3,
          8501252.3,
          8504747.02,
          8506573.73,
          8552843.19,
          8582434.23,
          8578117,
          8624488.76,
          8735439.73,
          8733694.19,
          8798079.42,
          8886195.05,
          9009376.09,
          9306387.03,
          9368559.59,
          9459283.72,
          9510401.01,
          10052376.16,
          9915864.8,
          9813812.59,
          9888106.74,
          10018465.41,
          10168587.73,
          10253997.39,
          10342144.78,
          10454136.07,
          10613110.790000001,
          11030478.42,
          11255499.83,
          11192481.59,
          11261054.51,
          11385506.37,
          11738534.36,
          12207468.47,
          12735930.89,
          13035758.5,
          12645848.790000001,
          12637097.56,
          12812834.36,
          13147941.43,
          13619033,
          13607778.18,
          13428722.84,
          13164579.24,
          12891637.63,
          13189154.08,
          13330541.45,
          13143306.87,
          12843489.82,
          12497945.39,
          12349383.97,
          11962276.9,
          12030944.22,
          12156256.6,
          12139668.62,
          12330822.55,
          12237850.39,
          12156209.44,
          12106966.58,
          12040351.08,
          11838317.1,
          11803030.01,
          11583371.12,
          11243629.209999999,
          10513709.19,
          10850923.24,
          10859371.88,
          10893244.24,
          10876458.84,
          10920771.5,
          10871722.11,
          10902653.74,
          10855623.25,
          10865860.12,
          10844837.91,
          10974095.59,
          11056274.4,
          11066851.51,
          11108408.92,
          11111277.98,
          11090229,
          11105829.87,
          11118261.75,
          11146027.09,
          11198971.1,
          11205702.71,
          11208154.870000001,
          11151805.04,
          11049794.53,
          11052494.23,
          11031148.87,
          11079156.03,
          11112977.99,
          11142777.36,
          11142583.88,
          11122049.97,
          11087336.85,
          11084503.879999999,
          11090929.26,
          11011356.22,
          10881743.48,
          10778352.08,
          10681812.52,
          10669682.12,
          10691347.82,
          10676399.22,
          10603197.96,
          10536515.66,
          10365296.59,
          10181034.51,
          10033871.85,
          9877733.52,
          9763094.1,
          9754112.42,
          9740668.72,
          9849842.58,
          9925737.82,
          9956001.75,
          9902859.68,
          9870402.37,
          9830320.78,
          9771869.58,
          9696612.13,
          9676221.09,
          9633481.73,
          9591359.4,
          9572895.74,
          9556575.65,
          9573235.6,
          9529581.75,
          9492151.88,
          9462660.26,
          9431079.66,
          9478659.709999999,
          9472822.12,
          9458315.05,
          9463179.62,
          9510120.62,
          9583506.8,
          9609214.07,
          9655014.02,
          9736518.27,
          9818219.55,
          9957670.94,
          10051725.68,
          10077247.16,
          10099838.42,
          10200697.59,
          10200840.209999999,
          10205282.64,
          10160296.95,
          10125310.48,
          10069084.4,
          10065545.69,
          10109228.01,
          10125432.58,
          10100781.57,
          10126653.23,
          10146243.1,
          10188424.47,
          10203192.84,
          10312964.46,
          10369517.14,
          10465508.69,
          10496497.3,
          10526544.4,
          10541557.83,
          10491871.99,
          10467328.43,
          10480691.17,
          10482207.21,
          10514771.75,
          10511055.39,
          10582967.83,
          10629749.22,
          10831818.48,
          10976230.89,
          11023210.17,
          11035652.81,
          11012087,
          10981930.62,
          10994249.56,
          10901338.46,
          10911125.17,
          10882518.74,
          10933988.68,
          10967301.96,
          10975806.87,
          11002903.040000001,
          11043047.370000001,
          10968209.13,
          10955179.08,
          10900936.709999999
         ]
        }
       ],
       "layout": {
        "template": {
         "data": {
          "bar": [
           {
            "error_x": {
             "color": "#2a3f5f"
            },
            "error_y": {
             "color": "#2a3f5f"
            },
            "marker": {
             "line": {
              "color": "#E5ECF6",
              "width": 0.5
             },
             "pattern": {
              "fillmode": "overlay",
              "size": 10,
              "solidity": 0.2
             }
            },
            "type": "bar"
           }
          ],
          "barpolar": [
           {
            "marker": {
             "line": {
              "color": "#E5ECF6",
              "width": 0.5
             },
             "pattern": {
              "fillmode": "overlay",
              "size": 10,
              "solidity": 0.2
             }
            },
            "type": "barpolar"
           }
          ],
          "carpet": [
           {
            "aaxis": {
             "endlinecolor": "#2a3f5f",
             "gridcolor": "white",
             "linecolor": "white",
             "minorgridcolor": "white",
             "startlinecolor": "#2a3f5f"
            },
            "baxis": {
             "endlinecolor": "#2a3f5f",
             "gridcolor": "white",
             "linecolor": "white",
             "minorgridcolor": "white",
             "startlinecolor": "#2a3f5f"
            },
            "type": "carpet"
           }
          ],
          "choropleth": [
           {
            "colorbar": {
             "outlinewidth": 0,
             "ticks": ""
            },
            "type": "choropleth"
           }
          ],
          "contour": [
           {
            "colorbar": {
             "outlinewidth": 0,
             "ticks": ""
            },
            "colorscale": [
             [
              0,
              "#0d0887"
             ],
             [
              0.1111111111111111,
              "#46039f"
             ],
             [
              0.2222222222222222,
              "#7201a8"
             ],
             [
              0.3333333333333333,
              "#9c179e"
             ],
             [
              0.4444444444444444,
              "#bd3786"
             ],
             [
              0.5555555555555556,
              "#d8576b"
             ],
             [
              0.6666666666666666,
              "#ed7953"
             ],
             [
              0.7777777777777778,
              "#fb9f3a"
             ],
             [
              0.8888888888888888,
              "#fdca26"
             ],
             [
              1,
              "#f0f921"
             ]
            ],
            "type": "contour"
           }
          ],
          "contourcarpet": [
           {
            "colorbar": {
             "outlinewidth": 0,
             "ticks": ""
            },
            "type": "contourcarpet"
           }
          ],
          "heatmap": [
           {
            "colorbar": {
             "outlinewidth": 0,
             "ticks": ""
            },
            "colorscale": [
             [
              0,
              "#0d0887"
             ],
             [
              0.1111111111111111,
              "#46039f"
             ],
             [
              0.2222222222222222,
              "#7201a8"
             ],
             [
              0.3333333333333333,
              "#9c179e"
             ],
             [
              0.4444444444444444,
              "#bd3786"
             ],
             [
              0.5555555555555556,
              "#d8576b"
             ],
             [
              0.6666666666666666,
              "#ed7953"
             ],
             [
              0.7777777777777778,
              "#fb9f3a"
             ],
             [
              0.8888888888888888,
              "#fdca26"
             ],
             [
              1,
              "#f0f921"
             ]
            ],
            "type": "heatmap"
           }
          ],
          "heatmapgl": [
           {
            "colorbar": {
             "outlinewidth": 0,
             "ticks": ""
            },
            "colorscale": [
             [
              0,
              "#0d0887"
             ],
             [
              0.1111111111111111,
              "#46039f"
             ],
             [
              0.2222222222222222,
              "#7201a8"
             ],
             [
              0.3333333333333333,
              "#9c179e"
             ],
             [
              0.4444444444444444,
              "#bd3786"
             ],
             [
              0.5555555555555556,
              "#d8576b"
             ],
             [
              0.6666666666666666,
              "#ed7953"
             ],
             [
              0.7777777777777778,
              "#fb9f3a"
             ],
             [
              0.8888888888888888,
              "#fdca26"
             ],
             [
              1,
              "#f0f921"
             ]
            ],
            "type": "heatmapgl"
           }
          ],
          "histogram": [
           {
            "marker": {
             "pattern": {
              "fillmode": "overlay",
              "size": 10,
              "solidity": 0.2
             }
            },
            "type": "histogram"
           }
          ],
          "histogram2d": [
           {
            "colorbar": {
             "outlinewidth": 0,
             "ticks": ""
            },
            "colorscale": [
             [
              0,
              "#0d0887"
             ],
             [
              0.1111111111111111,
              "#46039f"
             ],
             [
              0.2222222222222222,
              "#7201a8"
             ],
             [
              0.3333333333333333,
              "#9c179e"
             ],
             [
              0.4444444444444444,
              "#bd3786"
             ],
             [
              0.5555555555555556,
              "#d8576b"
             ],
             [
              0.6666666666666666,
              "#ed7953"
             ],
             [
              0.7777777777777778,
              "#fb9f3a"
             ],
             [
              0.8888888888888888,
              "#fdca26"
             ],
             [
              1,
              "#f0f921"
             ]
            ],
            "type": "histogram2d"
           }
          ],
          "histogram2dcontour": [
           {
            "colorbar": {
             "outlinewidth": 0,
             "ticks": ""
            },
            "colorscale": [
             [
              0,
              "#0d0887"
             ],
             [
              0.1111111111111111,
              "#46039f"
             ],
             [
              0.2222222222222222,
              "#7201a8"
             ],
             [
              0.3333333333333333,
              "#9c179e"
             ],
             [
              0.4444444444444444,
              "#bd3786"
             ],
             [
              0.5555555555555556,
              "#d8576b"
             ],
             [
              0.6666666666666666,
              "#ed7953"
             ],
             [
              0.7777777777777778,
              "#fb9f3a"
             ],
             [
              0.8888888888888888,
              "#fdca26"
             ],
             [
              1,
              "#f0f921"
             ]
            ],
            "type": "histogram2dcontour"
           }
          ],
          "mesh3d": [
           {
            "colorbar": {
             "outlinewidth": 0,
             "ticks": ""
            },
            "type": "mesh3d"
           }
          ],
          "parcoords": [
           {
            "line": {
             "colorbar": {
              "outlinewidth": 0,
              "ticks": ""
             }
            },
            "type": "parcoords"
           }
          ],
          "pie": [
           {
            "automargin": true,
            "type": "pie"
           }
          ],
          "scatter": [
           {
            "fillpattern": {
             "fillmode": "overlay",
             "size": 10,
             "solidity": 0.2
            },
            "type": "scatter"
           }
          ],
          "scatter3d": [
           {
            "line": {
             "colorbar": {
              "outlinewidth": 0,
              "ticks": ""
             }
            },
            "marker": {
             "colorbar": {
              "outlinewidth": 0,
              "ticks": ""
             }
            },
            "type": "scatter3d"
           }
          ],
          "scattercarpet": [
           {
            "marker": {
             "colorbar": {
              "outlinewidth": 0,
              "ticks": ""
             }
            },
            "type": "scattercarpet"
           }
          ],
          "scattergeo": [
           {
            "marker": {
             "colorbar": {
              "outlinewidth": 0,
              "ticks": ""
             }
            },
            "type": "scattergeo"
           }
          ],
          "scattergl": [
           {
            "marker": {
             "colorbar": {
              "outlinewidth": 0,
              "ticks": ""
             }
            },
            "type": "scattergl"
           }
          ],
          "scattermapbox": [
           {
            "marker": {
             "colorbar": {
              "outlinewidth": 0,
              "ticks": ""
             }
            },
            "type": "scattermapbox"
           }
          ],
          "scatterpolar": [
           {
            "marker": {
             "colorbar": {
              "outlinewidth": 0,
              "ticks": ""
             }
            },
            "type": "scatterpolar"
           }
          ],
          "scatterpolargl": [
           {
            "marker": {
             "colorbar": {
              "outlinewidth": 0,
              "ticks": ""
             }
            },
            "type": "scatterpolargl"
           }
          ],
          "scatterternary": [
           {
            "marker": {
             "colorbar": {
              "outlinewidth": 0,
              "ticks": ""
             }
            },
            "type": "scatterternary"
           }
          ],
          "surface": [
           {
            "colorbar": {
             "outlinewidth": 0,
             "ticks": ""
            },
            "colorscale": [
             [
              0,
              "#0d0887"
             ],
             [
              0.1111111111111111,
              "#46039f"
             ],
             [
              0.2222222222222222,
              "#7201a8"
             ],
             [
              0.3333333333333333,
              "#9c179e"
             ],
             [
              0.4444444444444444,
              "#bd3786"
             ],
             [
              0.5555555555555556,
              "#d8576b"
             ],
             [
              0.6666666666666666,
              "#ed7953"
             ],
             [
              0.7777777777777778,
              "#fb9f3a"
             ],
             [
              0.8888888888888888,
              "#fdca26"
             ],
             [
              1,
              "#f0f921"
             ]
            ],
            "type": "surface"
           }
          ],
          "table": [
           {
            "cells": {
             "fill": {
              "color": "#EBF0F8"
             },
             "line": {
              "color": "white"
             }
            },
            "header": {
             "fill": {
              "color": "#C8D4E3"
             },
             "line": {
              "color": "white"
             }
            },
            "type": "table"
           }
          ]
         },
         "layout": {
          "annotationdefaults": {
           "arrowcolor": "#2a3f5f",
           "arrowhead": 0,
           "arrowwidth": 1
          },
          "autotypenumbers": "strict",
          "coloraxis": {
           "colorbar": {
            "outlinewidth": 0,
            "ticks": ""
           }
          },
          "colorscale": {
           "diverging": [
            [
             0,
             "#8e0152"
            ],
            [
             0.1,
             "#c51b7d"
            ],
            [
             0.2,
             "#de77ae"
            ],
            [
             0.3,
             "#f1b6da"
            ],
            [
             0.4,
             "#fde0ef"
            ],
            [
             0.5,
             "#f7f7f7"
            ],
            [
             0.6,
             "#e6f5d0"
            ],
            [
             0.7,
             "#b8e186"
            ],
            [
             0.8,
             "#7fbc41"
            ],
            [
             0.9,
             "#4d9221"
            ],
            [
             1,
             "#276419"
            ]
           ],
           "sequential": [
            [
             0,
             "#0d0887"
            ],
            [
             0.1111111111111111,
             "#46039f"
            ],
            [
             0.2222222222222222,
             "#7201a8"
            ],
            [
             0.3333333333333333,
             "#9c179e"
            ],
            [
             0.4444444444444444,
             "#bd3786"
            ],
            [
             0.5555555555555556,
             "#d8576b"
            ],
            [
             0.6666666666666666,
             "#ed7953"
            ],
            [
             0.7777777777777778,
             "#fb9f3a"
            ],
            [
             0.8888888888888888,
             "#fdca26"
            ],
            [
             1,
             "#f0f921"
            ]
           ],
           "sequentialminus": [
            [
             0,
             "#0d0887"
            ],
            [
             0.1111111111111111,
             "#46039f"
            ],
            [
             0.2222222222222222,
             "#7201a8"
            ],
            [
             0.3333333333333333,
             "#9c179e"
            ],
            [
             0.4444444444444444,
             "#bd3786"
            ],
            [
             0.5555555555555556,
             "#d8576b"
            ],
            [
             0.6666666666666666,
             "#ed7953"
            ],
            [
             0.7777777777777778,
             "#fb9f3a"
            ],
            [
             0.8888888888888888,
             "#fdca26"
            ],
            [
             1,
             "#f0f921"
            ]
           ]
          },
          "colorway": [
           "#636efa",
           "#EF553B",
           "#00cc96",
           "#ab63fa",
           "#FFA15A",
           "#19d3f3",
           "#FF6692",
           "#B6E880",
           "#FF97FF",
           "#FECB52"
          ],
          "font": {
           "color": "#2a3f5f"
          },
          "geo": {
           "bgcolor": "white",
           "lakecolor": "white",
           "landcolor": "#E5ECF6",
           "showlakes": true,
           "showland": true,
           "subunitcolor": "white"
          },
          "hoverlabel": {
           "align": "left"
          },
          "hovermode": "closest",
          "mapbox": {
           "style": "light"
          },
          "paper_bgcolor": "white",
          "plot_bgcolor": "#E5ECF6",
          "polar": {
           "angularaxis": {
            "gridcolor": "white",
            "linecolor": "white",
            "ticks": ""
           },
           "bgcolor": "#E5ECF6",
           "radialaxis": {
            "gridcolor": "white",
            "linecolor": "white",
            "ticks": ""
           }
          },
          "scene": {
           "xaxis": {
            "backgroundcolor": "#E5ECF6",
            "gridcolor": "white",
            "gridwidth": 2,
            "linecolor": "white",
            "showbackground": true,
            "ticks": "",
            "zerolinecolor": "white"
           },
           "yaxis": {
            "backgroundcolor": "#E5ECF6",
            "gridcolor": "white",
            "gridwidth": 2,
            "linecolor": "white",
            "showbackground": true,
            "ticks": "",
            "zerolinecolor": "white"
           },
           "zaxis": {
            "backgroundcolor": "#E5ECF6",
            "gridcolor": "white",
            "gridwidth": 2,
            "linecolor": "white",
            "showbackground": true,
            "ticks": "",
            "zerolinecolor": "white"
           }
          },
          "shapedefaults": {
           "line": {
            "color": "#2a3f5f"
           }
          },
          "ternary": {
           "aaxis": {
            "gridcolor": "white",
            "linecolor": "white",
            "ticks": ""
           },
           "baxis": {
            "gridcolor": "white",
            "linecolor": "white",
            "ticks": ""
           },
           "bgcolor": "#E5ECF6",
           "caxis": {
            "gridcolor": "white",
            "linecolor": "white",
            "ticks": ""
           }
          },
          "title": {
           "x": 0.05
          },
          "xaxis": {
           "automargin": true,
           "gridcolor": "white",
           "linecolor": "white",
           "ticks": "",
           "title": {
            "standoff": 15
           },
           "zerolinecolor": "white",
           "zerolinewidth": 2
          },
          "yaxis": {
           "automargin": true,
           "gridcolor": "white",
           "linecolor": "white",
           "ticks": "",
           "title": {
            "standoff": 15
           },
           "zerolinecolor": "white",
           "zerolinewidth": 2
          }
         }
        },
        "title": {
         "text": "Raw Index vs Capped Index"
        },
        "xaxis": {
         "title": {
          "text": "dates"
         }
        },
        "yaxis": {
         "title": {
          "text": "index"
         }
        }
       }
      }
     },
     "metadata": {},
     "output_type": "display_data"
    }
   ],
   "source": [
    "ind, ind_data = most_traded_index(\n",
    "    df=agg_df_hist,\n",
    "    n=5000,\n",
    "    quantity_measure='min_quantity',\n",
    "    raw_index=raw_index,\n",
    "    compare=False,\n",
    "    min_quantity=100,\n",
    "    plot=False\n",
    ")\n",
    "ind_data = get_index_share(ind_data)\n",
    "mapping = pd.read_csv('data/csgo_mapping.csv', index_col=0)\n",
    "# Limit data to after mapping learning date\n",
    "ind_data = ind_data[ind_data['dates.date'] > '2023-03-23']\n",
    "ind_data = ind_data.merge(mapping, on='market_hash_name', how='inner')\n",
    "map_df = get_caps(ind_data, upper_multiplier=1, lower_multiplier=1)\n",
    "capped_ind, _,_,_ = cap_index(map_df)\n",
    "plot_inds(ind, capped_ind, 'Raw Index', 'Capped Index')"
   ]
  },
  {
   "cell_type": "code",
   "execution_count": 489,
   "metadata": {},
   "outputs": [],
   "source": [
    "# Small items\n",
    "item_list_small = ['Sticker | FalleN (Holo) | Antwerp 2022',\n",
    "             'Souvenir AUG | Carved Jade (Factory New)',\n",
    "             'Sticker | Astralis (Foil) | Stockholm 2021',\n",
    "             'Sticker | 9z Team (Holo) | Antwerp 2022'\n",
    "]\n",
    "\n",
    "# Big items\n",
    "item_list_big = ['AK-47 | Vulcan (Minimal Wear)',\n",
    "             '★ Karambit | Doppler (Factory New)',\n",
    "             '★ M9 Bayonet | Fade (Factory New)',\n",
    "             '★ Talon Knife | Doppler (Factory New)'\n",
    "             ]\n",
    "\n",
    "def item_list_top(n):\n",
    "    return mapping.sort_values('avg_index_share', ascending=False).iloc[:n,0].tolist()\n",
    "\n",
    "def item_list_bottom(n):\n",
    "    return mapping.sort_values('avg_index_share', ascending=True).iloc[:n,0].tolist()\n",
    "\n"
   ]
  },
  {
   "cell_type": "code",
   "execution_count": 486,
   "metadata": {},
   "outputs": [],
   "source": [
    "def cap_index(df):\n",
    "    all_dates = pd.DataFrame(df['dates.date'].drop_duplicates())\n",
    "\n",
    "    valid = df[(df['index_share'] >= df['lower_cap_index_share']) & \n",
    "                (df['index_share'] <= df['upper_cap_index_share'])]\n",
    "    valid_ind = pd.DataFrame(valid.groupby('dates.date')['index'].sum()).reset_index().rename(columns={'index': 'sum_index'})\n",
    "\n",
    "    # Invalid Entries: Those below lower_cap_index_share\n",
    "    invalid_lower = df[df['index_share'] < df['lower_cap_index_share']]\n",
    "    invalid_lower_ind = pd.DataFrame(invalid_lower.groupby('dates.date')['lower_cap_index_share'].sum()).reset_index().rename(columns={'lower_cap_index_share': 'sum_lower_cap_index_share'})\n",
    "\n",
    "    # Invalid Entries: Those above upper_cap_index_share\n",
    "    invalid_upper = df[df['index_share'] > df['upper_cap_index_share']]\n",
    "    invalid_upper_ind = pd.DataFrame(invalid_upper.groupby('dates.date')['upper_cap_index_share'].sum()).reset_index().rename(columns={'upper_cap_index_share': 'sum_upper_cap_index_share'})\n",
    "\n",
    "    # Merging\n",
    "    all_ind = valid_ind.merge(invalid_lower_ind, on=['dates.date'], how='left').merge(invalid_upper_ind, on=['dates.date'], how='left')\n",
    "    all_ind = all_ind.fillna({'sum_lower_cap_index_share': 0, 'sum_upper_cap_index_share': 0})\n",
    "\n",
    "    # Calculating the adjusted index \n",
    "    all_ind['index'] = all_ind['sum_index'] / (1 - all_ind['sum_lower_cap_index_share'] - all_ind['sum_upper_cap_index_share'])\n",
    "\n",
    "\n",
    "\n",
    "    # ------------------------------\n",
    "\n",
    "\n",
    "    # It might happen that some days have no valid entries, or very few valid entries.\n",
    "    # Example, when index for one item is manipulated to nearly 100%, then naturally,\n",
    "    # all other items go to 0%. In this case, the manipulated item is above its cap\n",
    "    # and all other items are below their caps. So, none are valid.\n",
    "    few_items_dates = all_dates.merge(valid, on='dates.date', how='left').fillna(0)\n",
    "    # Count distinct market_hash_names on each date\n",
    "    few_items_dates = few_items_dates.groupby('dates.date')['market_hash_name'].nunique().reset_index()\n",
    "    few_items_dates = few_items_dates.rename(columns={'market_hash_name': 'num_items'})\n",
    "    # limit to num_items < n\n",
    "    few_items_dates = few_items_dates[few_items_dates['num_items'] < 50]\n",
    "    few_items_dates_list = few_items_dates['dates.date'].tolist()\n",
    "\n",
    "    if len(few_items_dates_list) == 0:\n",
    "        return all_ind, valid, invalid_lower, invalid_upper\n",
    "\n",
    "    lookback_window = 10\n",
    "    needed_dates = []\n",
    "    for date in few_items_dates_list:\n",
    "        start_date = date - pd.Timedelta(days=lookback_window+1)\n",
    "        needed_dates.extend(pd.date_range(start_date, date))\n",
    "    needed_dates_set = set(needed_dates)\n",
    "\n",
    "    for dt in few_items_dates_list:\n",
    "        # Filter the dataframe to only include rows with the relevant dates\n",
    "        filtered_df = df[df['dates.date'].isin(needed_dates_set)].copy()\n",
    "\n",
    "        # Set the date column as the index\n",
    "        filtered_df.set_index(['market_hash_name', 'dates.date'], inplace=True)\n",
    "\n",
    "        # Shift the series by one day for each group\n",
    "        filtered_df['shifted_index'] = filtered_df.groupby('market_hash_name')['index'].shift(1)\n",
    "\n",
    "        # Use groupby with rolling on the shifted series\n",
    "        filtered_df['rolling_std'] = (filtered_df.groupby('market_hash_name')['shifted_index']\n",
    "                                    .rolling(window=10)\n",
    "                                    .std()\n",
    "                                    .reset_index(level=0, drop=True))\n",
    "\n",
    "        # Drop the temporary shifted column\n",
    "        # filtered_df.drop('shifted_index', axis=1, inplace=True)\n",
    "\n",
    "        # Reset the date column as a regular column\n",
    "        filtered_df.reset_index(inplace=True)\n",
    "\n",
    "        filtered_df = filtered_df[filtered_df['dates.date'].isin(few_items_dates_list)]\n",
    "\n",
    "        mult = 5\n",
    "        valid = filtered_df[(filtered_df['index'] < filtered_df['shifted_index'] + mult*filtered_df['rolling_std']) &\n",
    "                            (filtered_df['index'] > filtered_df['shifted_index'] - mult*filtered_df['rolling_std'])]\n",
    "        valid_ind = valid.groupby('dates.date')['index'].sum().reset_index().rename(columns={'index': 'sum_index'})\n",
    "\n",
    "        invalid_upper = filtered_df[(filtered_df['index'] > filtered_df['shifted_index'] + mult*filtered_df['rolling_std'])]\n",
    "        invalid_upper_ind = invalid_upper.groupby('dates.date')['upper_cap_index_share'].sum().reset_index().rename(columns={'upper_cap_index_share': 'sum_upper_cap_index_share'})\n",
    "\n",
    "        invalid_lower = filtered_df[(filtered_df['index'] < filtered_df['shifted_index'] - mult*filtered_df['rolling_std'])]\n",
    "        invalid_lower_ind = invalid_lower.groupby('dates.date')['lower_cap_index_share'].sum().reset_index().rename(columns={'lower_cap_index_share': 'sum_lower_cap_index_share'})\n",
    "\n",
    "        # Merge valid_ind, invalid_upper_ind, invalid_lower_ind\n",
    "        all_ind2 = valid_ind.merge(invalid_upper_ind, on=['dates.date'], how='left').merge(invalid_lower_ind, on=['dates.date'], how='left')\n",
    "        # Fill NaNs with 0\n",
    "        all_ind2 = all_ind2.fillna({'sum_upper_cap_index_share': 0, 'sum_lower_cap_index_share': 0})\n",
    "        all_ind2['index'] = all_ind2['sum_index'] / (1 - all_ind2['sum_lower_cap_index_share'] - all_ind2['sum_upper_cap_index_share'])\n",
    "        all_ind2['extra'] = all_ind2['index'] - valid_ind['sum_index']\n",
    "\n",
    "        inv_upper_caps = invalid_upper.loc[invalid_upper['dates.date'] == dt, ['market_hash_name', 'upper_cap_index_share']].rename(columns={'upper_cap_index_share': 'index_share'})\n",
    "        inv_lower_caps = invalid_lower.loc[invalid_lower['dates.date'] == dt, ['market_hash_name', 'lower_cap_index_share']].rename(columns={'lower_cap_index_share': 'index_share'})\n",
    "        inv_caps = pd.concat([inv_upper_caps, inv_lower_caps])\n",
    "        inv_caps['share_of_extra'] = inv_caps['index_share']/inv_caps['index_share'].sum()\n",
    "        extra = float(all_ind2.loc[all_ind2['dates.date'] == dt, 'extra'])\n",
    "        inv_caps['index'] = inv_caps['share_of_extra'] * extra\n",
    "\n",
    "        for mhn in inv_caps['market_hash_name'].unique():\n",
    "            df.loc[(df['dates.date'] == dt) & (df['market_hash_name'] == mhn), 'index'] = inv_caps.loc[inv_caps['market_hash_name'] == mhn, 'index'].values[0]\n",
    "\n",
    "    all_ind2.rename(columns={'index': 'index2'}, inplace=True)\n",
    "\n",
    "    # Merge all_ind and all_ind2, use index2 if not null, else use index\n",
    "    all_ind = all_ind.merge(all_ind2, on='dates.date', how='outer')\n",
    "    all_ind['index'] = np.where(all_ind['index2'].isnull(), all_ind['index'], all_ind['index2'])\n",
    "    all_ind.sort_values('dates.date', inplace=True)\n",
    "\n",
    "    return all_ind, valid, invalid_lower, invalid_upper\n",
    "\n"
   ]
  },
  {
   "cell_type": "code",
   "execution_count": 509,
   "metadata": {},
   "outputs": [],
   "source": [
    "def cap_index_iter_adjust(df):\n",
    "    adj_list = []\n",
    "    for dt in df['dates.date'].unique():\n",
    "        df_sub = df.loc[df['dates.date'] == dt, ['index', 'lower_cap_index_share', 'upper_cap_index_share']]\n",
    "        df_sub = adjust_elements(df_sub)\n",
    "        df_sub['dates.date'] = dt\n",
    "        adj_list.append(df_sub)\n",
    "    adj_df = pd.concat(adj_list)\n",
    "    adj_df = adj_df.groupby('dates.date')['index'].sum().reset_index()\n",
    "    return adj_df\n",
    "\n",
    "\n",
    "def adjust_elements(df):\n",
    "    # Initialize\n",
    "    df['mean_cap_index_share'] = (df['lower_cap_index_share'] + df['upper_cap_index_share']) / 2\n",
    "    elements = df.iloc[:, 0].tolist()\n",
    "    min_percentages = df.loc[:, 'lower_cap_index_share'].tolist()\n",
    "    max_percentages = df.loc[:, 'upper_cap_index_share'].tolist()\n",
    "    mean_percentages = df.loc[:, 'mean_cap_index_share'].tolist()\n",
    "    max_iterations = 1000  # setting a limit to prevent infinite loops\n",
    "    iterations = 0\n",
    "\n",
    "    while iterations < max_iterations:\n",
    "        # Calculate total sum\n",
    "        sum_elements = sum(elements)\n",
    "        \n",
    "        # Calculate deviations\n",
    "        deviations = []\n",
    "        for i, num in enumerate(elements):\n",
    "            current_percentage = num / sum_elements\n",
    "            if current_percentage < min_percentages[i]:\n",
    "                deviation = current_percentage - mean_percentages[i]\n",
    "            elif current_percentage > max_percentages[i]:\n",
    "                deviation = current_percentage - mean_percentages[i]\n",
    "            else:\n",
    "                deviation = 0\n",
    "            deviations.append(deviation)\n",
    "\n",
    "        # Check if all deviations are zero (all elements within their acceptable ranges)\n",
    "        if all(d == 0 for d in deviations):\n",
    "            break\n",
    "\n",
    "        # Sort by deviation\n",
    "        sorted_indices = sorted(range(len(deviations)), key=lambda k: abs(deviations[k]), reverse=True)\n",
    "\n",
    "        # Adjust the Most Deviating Element\n",
    "        most_deviating_index = sorted_indices[0]\n",
    "        if deviations[most_deviating_index] < 0:\n",
    "            # Below the acceptable range\n",
    "            target_value = min_percentages[most_deviating_index] * sum_elements\n",
    "        else:\n",
    "            # Above the acceptable range\n",
    "            target_value = max_percentages[most_deviating_index] * sum_elements\n",
    "\n",
    "        # Update the value in elements list\n",
    "        elements[most_deviating_index] = target_value\n",
    "        \n",
    "        iterations += 1\n",
    "\n",
    "    # Update the DataFrame\n",
    "    df.iloc[:, 0] = elements\n",
    "\n",
    "    return df"
   ]
  },
  {
   "cell_type": "code",
   "execution_count": 522,
   "metadata": {},
   "outputs": [
    {
     "name": "stdout",
     "output_type": "stream",
     "text": [
      "Number of products: 550\n"
     ]
    },
    {
     "data": {
      "application/vnd.plotly.v1+json": {
       "config": {
        "plotlyServerURL": "https://plot.ly"
       },
       "data": [
        {
         "mode": "lines",
         "name": "Attacked Capped Index",
         "type": "scatter",
         "x": [
          "2023-03-24T00:00:00",
          "2023-03-25T00:00:00",
          "2023-03-26T00:00:00",
          "2023-03-27T00:00:00",
          "2023-03-28T00:00:00",
          "2023-03-29T00:00:00",
          "2023-03-30T00:00:00",
          "2023-03-31T00:00:00",
          "2023-04-01T00:00:00",
          "2023-04-02T00:00:00",
          "2023-04-03T00:00:00",
          "2023-04-04T00:00:00",
          "2023-04-05T00:00:00",
          "2023-04-06T00:00:00",
          "2023-04-07T00:00:00",
          "2023-04-08T00:00:00",
          "2023-04-09T00:00:00",
          "2023-04-10T00:00:00",
          "2023-04-11T00:00:00",
          "2023-04-12T00:00:00",
          "2023-04-13T00:00:00",
          "2023-04-14T00:00:00",
          "2023-04-15T00:00:00",
          "2023-04-16T00:00:00",
          "2023-04-17T00:00:00",
          "2023-04-18T00:00:00",
          "2023-04-19T00:00:00",
          "2023-04-20T00:00:00",
          "2023-04-21T00:00:00",
          "2023-04-22T00:00:00",
          "2023-04-23T00:00:00",
          "2023-04-24T00:00:00",
          "2023-04-25T00:00:00",
          "2023-04-26T00:00:00",
          "2023-04-27T00:00:00",
          "2023-04-28T00:00:00",
          "2023-04-29T00:00:00",
          "2023-04-30T00:00:00",
          "2023-05-01T00:00:00",
          "2023-05-02T00:00:00",
          "2023-05-03T00:00:00",
          "2023-05-04T00:00:00",
          "2023-05-05T00:00:00",
          "2023-05-06T00:00:00",
          "2023-05-07T00:00:00",
          "2023-05-08T00:00:00",
          "2023-05-09T00:00:00",
          "2023-05-10T00:00:00",
          "2023-05-11T00:00:00",
          "2023-05-12T00:00:00",
          "2023-05-13T00:00:00",
          "2023-05-14T00:00:00",
          "2023-05-15T00:00:00",
          "2023-05-16T00:00:00",
          "2023-05-17T00:00:00",
          "2023-05-18T00:00:00",
          "2023-05-19T00:00:00",
          "2023-05-20T00:00:00",
          "2023-05-21T00:00:00",
          "2023-05-22T00:00:00",
          "2023-05-23T00:00:00",
          "2023-05-24T00:00:00",
          "2023-05-25T00:00:00",
          "2023-05-26T00:00:00",
          "2023-05-27T00:00:00",
          "2023-05-28T00:00:00",
          "2023-05-29T00:00:00",
          "2023-05-30T00:00:00",
          "2023-05-31T00:00:00",
          "2023-06-01T00:00:00",
          "2023-06-02T00:00:00",
          "2023-06-03T00:00:00",
          "2023-06-04T00:00:00",
          "2023-06-05T00:00:00",
          "2023-06-06T00:00:00",
          "2023-06-07T00:00:00",
          "2023-06-08T00:00:00",
          "2023-06-09T00:00:00",
          "2023-06-10T00:00:00",
          "2023-06-11T00:00:00",
          "2023-06-12T00:00:00",
          "2023-06-13T00:00:00",
          "2023-06-14T00:00:00",
          "2023-06-15T00:00:00",
          "2023-06-16T00:00:00",
          "2023-06-17T00:00:00",
          "2023-06-18T00:00:00",
          "2023-06-19T00:00:00",
          "2023-06-20T00:00:00",
          "2023-06-21T00:00:00",
          "2023-06-22T00:00:00",
          "2023-06-23T00:00:00",
          "2023-06-24T00:00:00",
          "2023-06-25T00:00:00",
          "2023-06-26T00:00:00",
          "2023-06-27T00:00:00",
          "2023-06-28T00:00:00",
          "2023-06-29T00:00:00",
          "2023-06-30T00:00:00",
          "2023-07-01T00:00:00",
          "2023-07-02T00:00:00",
          "2023-07-03T00:00:00",
          "2023-07-04T00:00:00",
          "2023-07-05T00:00:00",
          "2023-07-06T00:00:00",
          "2023-07-07T00:00:00",
          "2023-07-08T00:00:00",
          "2023-07-09T00:00:00",
          "2023-07-10T00:00:00",
          "2023-07-11T00:00:00",
          "2023-07-12T00:00:00",
          "2023-07-13T00:00:00",
          "2023-07-14T00:00:00",
          "2023-07-15T00:00:00",
          "2023-07-16T00:00:00",
          "2023-07-17T00:00:00",
          "2023-07-18T00:00:00",
          "2023-07-19T00:00:00",
          "2023-07-20T00:00:00",
          "2023-07-21T00:00:00",
          "2023-07-22T00:00:00",
          "2023-07-23T00:00:00",
          "2023-07-24T00:00:00",
          "2023-07-25T00:00:00",
          "2023-07-26T00:00:00",
          "2023-07-27T00:00:00",
          "2023-07-28T00:00:00",
          "2023-07-29T00:00:00",
          "2023-07-30T00:00:00",
          "2023-07-31T00:00:00",
          "2023-08-01T00:00:00",
          "2023-08-02T00:00:00",
          "2023-08-03T00:00:00",
          "2023-08-04T00:00:00",
          "2023-08-05T00:00:00",
          "2023-08-06T00:00:00",
          "2023-08-07T00:00:00",
          "2023-08-08T00:00:00",
          "2023-08-09T00:00:00",
          "2023-08-10T00:00:00",
          "2023-08-11T00:00:00",
          "2023-08-12T00:00:00",
          "2023-08-13T00:00:00",
          "2023-08-14T00:00:00",
          "2023-08-15T00:00:00",
          "2023-08-16T00:00:00",
          "2023-08-17T00:00:00",
          "2023-08-18T00:00:00",
          "2023-08-19T00:00:00",
          "2023-08-20T00:00:00",
          "2023-08-21T00:00:00",
          "2023-08-22T00:00:00",
          "2023-08-23T00:00:00",
          "2023-08-24T00:00:00",
          "2023-08-25T00:00:00",
          "2023-08-26T00:00:00",
          "2023-08-27T00:00:00",
          "2023-08-28T00:00:00",
          "2023-08-29T00:00:00",
          "2023-08-30T00:00:00",
          "2023-08-31T00:00:00",
          "2023-09-01T00:00:00",
          "2023-09-02T00:00:00",
          "2023-09-03T00:00:00",
          "2023-09-04T00:00:00",
          "2023-09-05T00:00:00",
          "2023-09-06T00:00:00",
          "2023-09-07T00:00:00",
          "2023-09-08T00:00:00",
          "2023-09-09T00:00:00",
          "2023-09-10T00:00:00",
          "2023-09-11T00:00:00",
          "2023-09-12T00:00:00",
          "2023-09-13T00:00:00",
          "2023-09-14T00:00:00",
          "2023-09-15T00:00:00",
          "2023-09-16T00:00:00",
          "2023-09-17T00:00:00",
          "2023-09-18T00:00:00"
         ],
         "y": [
          9328567.158714248,
          9413438.581311755,
          9512215.931786513,
          9975599.02909229,
          9871535.475212477,
          9772431.274367735,
          9841070.667334722,
          9980551.180007193,
          10132514.35683641,
          10233518.494744247,
          10306689.501103604,
          10404017.877173427,
          10528317.258698955,
          10938175.157389551,
          11240163.560759578,
          11050803.489320997,
          11191700.793517286,
          11339612.121796204,
          11755355.039233264,
          12179907.317789331,
          12113761.269046318,
          12445420.850338185,
          12236851.075520508,
          12124020.903436687,
          12255797.454520054,
          12563523.773375986,
          12805659.550666336,
          12999018.715139888,
          12844015.802023802,
          12603014.96184655,
          12373418.219662096,
          12434080.106666217,
          12605072.380020708,
          12456612.898452397,
          12160038.243416134,
          11783423.011166912,
          11653694.08391765,
          11298384.844808534,
          11297535.559246294,
          11508361.303702634,
          11521047.451623794,
          11743597.721841969,
          11623716.351640183,
          11497831.907303652,
          11305352.57242086,
          11334113.0736005,
          11033734.17288284,
          11011450.250223793,
          10843784.398526298,
          10562116.112566529,
          10345855.508011792,
          10681058.926708436,
          10749452.483686589,
          10689676.559380122,
          10657781.203235688,
          10744605.812868703,
          10671600.246390281,
          10701773.058137106,
          10655007.533217035,
          10712157.779168546,
          10689502.75479299,
          10782899.408514375,
          10921259.332264505,
          10876577.04599934,
          10830855.539618509,
          10881947.538534632,
          10954625.827614857,
          10828481.625690088,
          10898759.3913568,
          10864451.046593832,
          10894630.288628606,
          11001927.463481886,
          11005365.736949405,
          10977027.86322,
          10886310.860454116,
          10853833.062194075,
          10926352.422162956,
          10912033.523334524,
          10915116.108538317,
          10940905.288055327,
          10941717.661579667,
          10986799.946325947,
          10878425.84866545,
          10953708.271269437,
          10915585.531208187,
          10778226.951182544,
          10675258.07121271,
          10590005.96531797,
          10393573.87177323,
          10437578.07785338,
          10453795.566615151,
          10473891.63715722,
          10354140.010103194,
          10304559.030600524,
          10126552.65965789,
          9936922.101588838,
          9675201.54207441,
          9565966.33620093,
          9463766.063956833,
          9527133.882133517,
          9533718.969857326,
          9551547.736984868,
          9708764.885659564,
          9736367.20141089,
          9672833.324719029,
          9619348.690199986,
          9559259.57609428,
          9526224.480548715,
          9424371.404251497,
          9413360.74357533,
          9399922.825746821,
          9312959.770524878,
          9381119.54699401,
          9314279.04745443,
          9350583.876375906,
          9301655.715883227,
          9289038.120354658,
          9324983.769192848,
          9252800.673963191,
          9336879.423107525,
          9338287.83555114,
          9309199.316190703,
          9313276.43273921,
          9355295.916270738,
          9408892.85349167,
          9429097.780328767,
          9436649.875009239,
          9541066.445230443,
          9586245.31438745,
          9726398.47449725,
          9795828.2365519,
          9845771.308368867,
          9851368.369020743,
          9966562.633958707,
          9949810.223727657,
          9950220.718068423,
          9944243.179517422,
          9887268.235332614,
          9831405.000044145,
          9853232.325093696,
          9901058.236017706,
          9920779.235991733,
          9886599.713066593,
          9884868.050650777,
          9929136.333668068,
          9967473.589554504,
          10005808.948237719,
          10122070.582652101,
          10165011.710591743,
          10229558.151767354,
          10250343.413567474,
          10333552.703440694,
          10316816.230122704,
          10307706.684794202,
          10289974.117205607,
          10321861.345398678,
          10318611.008608764,
          10328306.033562884,
          10384867.992442552,
          10384189.847119585,
          10431042.38960538,
          10653841.940961001,
          10771395.024272462,
          10844842.357260857,
          10862486.387490636,
          10834313.651026579,
          10792134.128420696,
          10820252.030312322,
          10719536.912010992,
          10740166.830710256,
          10679052.016912358,
          10757446.487129124,
          10798527.346402261,
          10820350.558299428,
          10776921.571540635,
          10803555.84035313,
          10751054.087754719,
          10705951.691219795,
          10678020.465676134
         ]
        },
        {
         "mode": "lines",
         "name": "Capped Index",
         "type": "scatter",
         "x": [
          "2022-09-21T00:00:00",
          "2022-09-22T00:00:00",
          "2022-09-23T00:00:00",
          "2022-09-24T00:00:00",
          "2022-09-25T00:00:00",
          "2022-09-26T00:00:00",
          "2022-09-27T00:00:00",
          "2022-09-28T00:00:00",
          "2022-09-29T00:00:00",
          "2022-09-30T00:00:00",
          "2022-10-01T00:00:00",
          "2022-10-02T00:00:00",
          "2022-10-03T00:00:00",
          "2022-10-04T00:00:00",
          "2022-10-05T00:00:00",
          "2022-10-06T00:00:00",
          "2022-10-07T00:00:00",
          "2022-10-08T00:00:00",
          "2022-10-09T00:00:00",
          "2022-10-10T00:00:00",
          "2022-10-11T00:00:00",
          "2022-10-12T00:00:00",
          "2022-10-13T00:00:00",
          "2022-10-14T00:00:00",
          "2022-10-15T00:00:00",
          "2022-10-16T00:00:00",
          "2022-10-17T00:00:00",
          "2022-10-18T00:00:00",
          "2022-10-19T00:00:00",
          "2022-10-20T00:00:00",
          "2022-10-21T00:00:00",
          "2022-10-22T00:00:00",
          "2022-10-23T00:00:00",
          "2022-10-24T00:00:00",
          "2022-10-25T00:00:00",
          "2022-10-26T00:00:00",
          "2022-10-27T00:00:00",
          "2022-10-28T00:00:00",
          "2022-10-29T00:00:00",
          "2022-10-30T00:00:00",
          "2022-10-31T00:00:00",
          "2022-11-01T00:00:00",
          "2022-11-02T00:00:00",
          "2022-11-03T00:00:00",
          "2022-11-04T00:00:00",
          "2022-11-05T00:00:00",
          "2022-11-06T00:00:00",
          "2022-11-07T00:00:00",
          "2022-11-08T00:00:00",
          "2022-11-09T00:00:00",
          "2022-11-10T00:00:00",
          "2022-11-11T00:00:00",
          "2022-11-12T00:00:00",
          "2022-11-13T00:00:00",
          "2022-11-14T00:00:00",
          "2022-11-15T00:00:00",
          "2022-11-16T00:00:00",
          "2022-11-17T00:00:00",
          "2022-11-18T00:00:00",
          "2022-11-19T00:00:00",
          "2022-11-20T00:00:00",
          "2022-11-21T00:00:00",
          "2022-11-22T00:00:00",
          "2022-11-23T00:00:00",
          "2022-11-24T00:00:00",
          "2022-11-25T00:00:00",
          "2022-11-26T00:00:00",
          "2022-11-27T00:00:00",
          "2022-11-28T00:00:00",
          "2022-11-29T00:00:00",
          "2022-11-30T00:00:00",
          "2022-12-01T00:00:00",
          "2022-12-02T00:00:00",
          "2022-12-03T00:00:00",
          "2022-12-04T00:00:00",
          "2022-12-05T00:00:00",
          "2022-12-06T00:00:00",
          "2022-12-07T00:00:00",
          "2022-12-08T00:00:00",
          "2022-12-09T00:00:00",
          "2022-12-10T00:00:00",
          "2022-12-11T00:00:00",
          "2022-12-12T00:00:00",
          "2022-12-13T00:00:00",
          "2022-12-14T00:00:00",
          "2022-12-15T00:00:00",
          "2022-12-16T00:00:00",
          "2022-12-17T00:00:00",
          "2022-12-18T00:00:00",
          "2022-12-19T00:00:00",
          "2022-12-20T00:00:00",
          "2022-12-21T00:00:00",
          "2022-12-22T00:00:00",
          "2022-12-23T00:00:00",
          "2022-12-24T00:00:00",
          "2022-12-25T00:00:00",
          "2022-12-26T00:00:00",
          "2022-12-27T00:00:00",
          "2022-12-28T00:00:00",
          "2022-12-29T00:00:00",
          "2022-12-30T00:00:00",
          "2022-12-31T00:00:00",
          "2023-01-01T00:00:00",
          "2023-01-02T00:00:00",
          "2023-01-03T00:00:00",
          "2023-01-04T00:00:00",
          "2023-01-05T00:00:00",
          "2023-01-06T00:00:00",
          "2023-01-07T00:00:00",
          "2023-01-08T00:00:00",
          "2023-01-09T00:00:00",
          "2023-01-10T00:00:00",
          "2023-01-11T00:00:00",
          "2023-01-12T00:00:00",
          "2023-01-13T00:00:00",
          "2023-01-14T00:00:00",
          "2023-01-15T00:00:00",
          "2023-01-16T00:00:00",
          "2023-01-17T00:00:00",
          "2023-01-18T00:00:00",
          "2023-01-19T00:00:00",
          "2023-01-20T00:00:00",
          "2023-01-21T00:00:00",
          "2023-01-22T00:00:00",
          "2023-01-23T00:00:00",
          "2023-01-24T00:00:00",
          "2023-01-25T00:00:00",
          "2023-01-26T00:00:00",
          "2023-01-27T00:00:00",
          "2023-01-28T00:00:00",
          "2023-01-29T00:00:00",
          "2023-01-30T00:00:00",
          "2023-01-31T00:00:00",
          "2023-02-01T00:00:00",
          "2023-02-02T00:00:00",
          "2023-02-03T00:00:00",
          "2023-02-04T00:00:00",
          "2023-02-05T00:00:00",
          "2023-02-06T00:00:00",
          "2023-02-07T00:00:00",
          "2023-02-08T00:00:00",
          "2023-02-09T00:00:00",
          "2023-02-10T00:00:00",
          "2023-02-11T00:00:00",
          "2023-02-12T00:00:00",
          "2023-02-13T00:00:00",
          "2023-02-14T00:00:00",
          "2023-02-15T00:00:00",
          "2023-02-16T00:00:00",
          "2023-02-17T00:00:00",
          "2023-02-18T00:00:00",
          "2023-02-19T00:00:00",
          "2023-02-20T00:00:00",
          "2023-02-21T00:00:00",
          "2023-02-22T00:00:00",
          "2023-02-23T00:00:00",
          "2023-02-24T00:00:00",
          "2023-02-25T00:00:00",
          "2023-02-26T00:00:00",
          "2023-02-27T00:00:00",
          "2023-02-28T00:00:00",
          "2023-03-01T00:00:00",
          "2023-03-02T00:00:00",
          "2023-03-03T00:00:00",
          "2023-03-04T00:00:00",
          "2023-03-05T00:00:00",
          "2023-03-06T00:00:00",
          "2023-03-07T00:00:00",
          "2023-03-08T00:00:00",
          "2023-03-09T00:00:00",
          "2023-03-10T00:00:00",
          "2023-03-11T00:00:00",
          "2023-03-12T00:00:00",
          "2023-03-13T00:00:00",
          "2023-03-14T00:00:00",
          "2023-03-15T00:00:00",
          "2023-03-16T00:00:00",
          "2023-03-17T00:00:00",
          "2023-03-18T00:00:00",
          "2023-03-19T00:00:00",
          "2023-03-20T00:00:00",
          "2023-03-21T00:00:00",
          "2023-03-22T00:00:00",
          "2023-03-23T00:00:00",
          "2023-03-24T00:00:00",
          "2023-03-25T00:00:00",
          "2023-03-26T00:00:00",
          "2023-03-27T00:00:00",
          "2023-03-28T00:00:00",
          "2023-03-29T00:00:00",
          "2023-03-30T00:00:00",
          "2023-03-31T00:00:00",
          "2023-04-01T00:00:00",
          "2023-04-02T00:00:00",
          "2023-04-03T00:00:00",
          "2023-04-04T00:00:00",
          "2023-04-05T00:00:00",
          "2023-04-06T00:00:00",
          "2023-04-07T00:00:00",
          "2023-04-08T00:00:00",
          "2023-04-09T00:00:00",
          "2023-04-10T00:00:00",
          "2023-04-11T00:00:00",
          "2023-04-12T00:00:00",
          "2023-04-13T00:00:00",
          "2023-04-14T00:00:00",
          "2023-04-15T00:00:00",
          "2023-04-16T00:00:00",
          "2023-04-17T00:00:00",
          "2023-04-18T00:00:00",
          "2023-04-19T00:00:00",
          "2023-04-20T00:00:00",
          "2023-04-21T00:00:00",
          "2023-04-22T00:00:00",
          "2023-04-23T00:00:00",
          "2023-04-24T00:00:00",
          "2023-04-25T00:00:00",
          "2023-04-26T00:00:00",
          "2023-04-27T00:00:00",
          "2023-04-28T00:00:00",
          "2023-04-29T00:00:00",
          "2023-04-30T00:00:00",
          "2023-05-01T00:00:00",
          "2023-05-02T00:00:00",
          "2023-05-03T00:00:00",
          "2023-05-04T00:00:00",
          "2023-05-05T00:00:00",
          "2023-05-06T00:00:00",
          "2023-05-07T00:00:00",
          "2023-05-08T00:00:00",
          "2023-05-09T00:00:00",
          "2023-05-10T00:00:00",
          "2023-05-11T00:00:00",
          "2023-05-12T00:00:00",
          "2023-05-13T00:00:00",
          "2023-05-14T00:00:00",
          "2023-05-15T00:00:00",
          "2023-05-16T00:00:00",
          "2023-05-17T00:00:00",
          "2023-05-18T00:00:00",
          "2023-05-19T00:00:00",
          "2023-05-20T00:00:00",
          "2023-05-21T00:00:00",
          "2023-05-22T00:00:00",
          "2023-05-23T00:00:00",
          "2023-05-24T00:00:00",
          "2023-05-25T00:00:00",
          "2023-05-26T00:00:00",
          "2023-05-27T00:00:00",
          "2023-05-28T00:00:00",
          "2023-05-29T00:00:00",
          "2023-05-30T00:00:00",
          "2023-05-31T00:00:00",
          "2023-06-01T00:00:00",
          "2023-06-02T00:00:00",
          "2023-06-03T00:00:00",
          "2023-06-04T00:00:00",
          "2023-06-05T00:00:00",
          "2023-06-06T00:00:00",
          "2023-06-07T00:00:00",
          "2023-06-08T00:00:00",
          "2023-06-09T00:00:00",
          "2023-06-10T00:00:00",
          "2023-06-11T00:00:00",
          "2023-06-12T00:00:00",
          "2023-06-13T00:00:00",
          "2023-06-14T00:00:00",
          "2023-06-15T00:00:00",
          "2023-06-16T00:00:00",
          "2023-06-17T00:00:00",
          "2023-06-18T00:00:00",
          "2023-06-19T00:00:00",
          "2023-06-20T00:00:00",
          "2023-06-21T00:00:00",
          "2023-06-22T00:00:00",
          "2023-06-23T00:00:00",
          "2023-06-24T00:00:00",
          "2023-06-25T00:00:00",
          "2023-06-26T00:00:00",
          "2023-06-27T00:00:00",
          "2023-06-28T00:00:00",
          "2023-06-29T00:00:00",
          "2023-06-30T00:00:00",
          "2023-07-01T00:00:00",
          "2023-07-02T00:00:00",
          "2023-07-03T00:00:00",
          "2023-07-04T00:00:00",
          "2023-07-05T00:00:00",
          "2023-07-06T00:00:00",
          "2023-07-07T00:00:00",
          "2023-07-08T00:00:00",
          "2023-07-09T00:00:00",
          "2023-07-10T00:00:00",
          "2023-07-11T00:00:00",
          "2023-07-12T00:00:00",
          "2023-07-13T00:00:00",
          "2023-07-14T00:00:00",
          "2023-07-15T00:00:00",
          "2023-07-16T00:00:00",
          "2023-07-17T00:00:00",
          "2023-07-18T00:00:00",
          "2023-07-19T00:00:00",
          "2023-07-20T00:00:00",
          "2023-07-21T00:00:00",
          "2023-07-22T00:00:00",
          "2023-07-23T00:00:00",
          "2023-07-24T00:00:00",
          "2023-07-25T00:00:00",
          "2023-07-26T00:00:00",
          "2023-07-27T00:00:00",
          "2023-07-28T00:00:00",
          "2023-07-29T00:00:00",
          "2023-07-30T00:00:00",
          "2023-07-31T00:00:00",
          "2023-08-01T00:00:00",
          "2023-08-02T00:00:00",
          "2023-08-03T00:00:00",
          "2023-08-04T00:00:00",
          "2023-08-05T00:00:00",
          "2023-08-06T00:00:00",
          "2023-08-07T00:00:00",
          "2023-08-08T00:00:00",
          "2023-08-09T00:00:00",
          "2023-08-10T00:00:00",
          "2023-08-11T00:00:00",
          "2023-08-12T00:00:00",
          "2023-08-13T00:00:00",
          "2023-08-14T00:00:00",
          "2023-08-15T00:00:00",
          "2023-08-16T00:00:00",
          "2023-08-17T00:00:00",
          "2023-08-18T00:00:00",
          "2023-08-19T00:00:00",
          "2023-08-20T00:00:00",
          "2023-08-21T00:00:00",
          "2023-08-22T00:00:00",
          "2023-08-23T00:00:00",
          "2023-08-24T00:00:00",
          "2023-08-25T00:00:00",
          "2023-08-26T00:00:00",
          "2023-08-27T00:00:00",
          "2023-08-28T00:00:00",
          "2023-08-29T00:00:00",
          "2023-08-30T00:00:00",
          "2023-08-31T00:00:00",
          "2023-09-01T00:00:00",
          "2023-09-02T00:00:00",
          "2023-09-03T00:00:00",
          "2023-09-04T00:00:00",
          "2023-09-05T00:00:00",
          "2023-09-06T00:00:00",
          "2023-09-07T00:00:00",
          "2023-09-08T00:00:00",
          "2023-09-09T00:00:00",
          "2023-09-10T00:00:00",
          "2023-09-11T00:00:00",
          "2023-09-12T00:00:00",
          "2023-09-13T00:00:00",
          "2023-09-14T00:00:00",
          "2023-09-15T00:00:00",
          "2023-09-16T00:00:00",
          "2023-09-17T00:00:00",
          "2023-09-18T00:00:00"
         ],
         "y": [
          6771166.28,
          6726694.99,
          6698817.09,
          6650692.81,
          6635727,
          6624127.05,
          6552276.04,
          6526730.21,
          5932684.01,
          6703527.72,
          6744080.45,
          6788369.59,
          6797916.75,
          6822254.83,
          6880195.33,
          6916845.3,
          6911245.8,
          6865556.42,
          6861601.22,
          6835605.68,
          6824694.55,
          6796893.51,
          6790275.35,
          6824229.25,
          6839432.05,
          6836743.37,
          6856913.49,
          6887797.01,
          6902886.4,
          6906440.95,
          6930795.34,
          6970769.77,
          6986599.77,
          6963366.2,
          6964343.49,
          7014461.7,
          7058574.64,
          6995404.14,
          7004653.22,
          6968396.64,
          6954459.15,
          6929801.53,
          6941658.13,
          6941772.73,
          6940511.8,
          7026598.05,
          7059370.33,
          7044205.08,
          7042902.51,
          7040809.88,
          7038235.16,
          7105199.62,
          7152048.49,
          7159787.64,
          7142202.83,
          7162423.53,
          7185552.41,
          7159608.12,
          7164884.7,
          7174887.36,
          7143841,
          7189578.79,
          7244294.29,
          7289423.68,
          7280703.78,
          7257718.25,
          7240911.19,
          7217221.13,
          7207068.57,
          7195202.66,
          7225140.85,
          7277420.88,
          7351713.19,
          7369936.8,
          7392778.58,
          7421235.29,
          7441826.58,
          7470812.22,
          7527899.53,
          7580608.35,
          7579576.08,
          7551102.78,
          7582472.46,
          7514945.51,
          7515465.42,
          7544450.57,
          7559502.04,
          7567746.34,
          7511027.14,
          7535019.53,
          7490827.43,
          7477970.9799999995,
          7454687.4,
          7393742.5,
          7269300.18,
          7192058.91,
          7271955.18,
          7332011.21,
          7310939.12,
          7254332.45,
          7258049.11,
          7260332.28,
          7241294.14,
          7195221.32,
          7149943.92,
          7136554.97,
          7137038.7299999995,
          7100668.67,
          7101235.05,
          7159577.62,
          7182701.15,
          7277519.33,
          7350171.6899999995,
          7406064.85,
          7445156.37,
          7486671.88,
          7506058.53,
          7534941.85,
          7522798.4,
          7518537.63,
          7546361.7,
          7549302.87,
          7569961.24,
          7578440.38,
          7611916.99,
          7655347.61,
          7664726.45,
          7618760.25,
          7652840.93,
          7655824.8,
          7691190.64,
          7661738.75,
          7694818.4,
          7690611.97,
          7678086.5,
          7740739.83,
          7756421.71,
          7714246.13,
          7772930.08,
          7756609.98,
          7750899.31,
          7742203.42,
          7790889.2,
          7814934.2,
          7833005.51,
          7862167.8,
          7927851.39,
          7956139.62,
          7971184.94,
          7986282.54,
          8008508.89,
          8020794,
          8083596.46,
          8031811.12,
          8042143.01,
          8046251.44,
          7949476.8,
          8020881.32,
          7889511.03,
          8005328.86,
          7899416.92,
          7946012.6,
          8135822.38,
          8175205.53,
          8211308.89,
          8214781.25,
          8200765.75,
          8284867.87,
          8378509.87,
          8427398.64,
          8463233.3,
          8501252.3,
          8504747.02,
          8506573.73,
          8552843.19,
          8582434.23,
          8578117,
          8624488.76,
          8735439.73,
          8733694.19,
          8798079.42,
          8886195.05,
          9009376.09,
          9306387.03,
          9368559.59,
          9459283.72,
          9510401.01,
          10052376.16,
          9915864.8,
          9813812.59,
          9888106.74,
          10018465.41,
          10168587.73,
          10253997.39,
          10342144.78,
          10454136.07,
          10613110.790000001,
          11030478.42,
          11255499.83,
          11192481.59,
          11261054.51,
          11385506.37,
          11738534.36,
          12207468.47,
          12735930.89,
          13035758.5,
          12645848.790000001,
          12637097.56,
          12812834.36,
          13147941.43,
          13619033,
          13607778.18,
          13428722.84,
          13164579.24,
          12891637.63,
          13189154.08,
          13330541.45,
          13143306.87,
          12843489.82,
          12497945.39,
          12349383.97,
          11962276.9,
          12030944.22,
          12156256.6,
          12139668.62,
          12330822.55,
          12237850.39,
          12156209.44,
          12106966.58,
          12040351.08,
          11838317.1,
          11803030.01,
          11583371.12,
          11243629.209999999,
          10513709.19,
          10850923.24,
          10859371.88,
          10893244.24,
          10876458.84,
          10920771.5,
          10871722.11,
          10902653.74,
          10855623.25,
          10865860.12,
          10844837.91,
          10974095.59,
          11056274.4,
          11066851.51,
          11108408.92,
          11111277.98,
          11090229,
          11105829.87,
          11118261.75,
          11146027.09,
          11198971.1,
          11205702.71,
          11208154.870000001,
          11151805.04,
          11049794.53,
          11052494.23,
          11031148.87,
          11079156.03,
          11112977.99,
          11142777.36,
          11142583.88,
          11122049.97,
          11087336.85,
          11084503.879999999,
          11090929.26,
          11011356.22,
          10881743.48,
          10778352.08,
          10681812.52,
          10669682.12,
          10691347.82,
          10676399.22,
          10603197.96,
          10536515.66,
          10365296.59,
          10181034.51,
          10033871.85,
          9877733.52,
          9763094.1,
          9754112.42,
          9740668.72,
          9849842.58,
          9925737.82,
          9956001.75,
          9902859.68,
          9870402.37,
          9830320.78,
          9771869.58,
          9696612.13,
          9676221.09,
          9633481.73,
          9591359.4,
          9572895.74,
          9556575.65,
          9573235.6,
          9529581.75,
          9492151.88,
          9462660.26,
          9431079.66,
          9478659.709999999,
          9472822.12,
          9458315.05,
          9463179.62,
          9510120.62,
          9583506.8,
          9609214.07,
          9655014.02,
          9736518.27,
          9818219.55,
          9957670.94,
          10051725.68,
          10077247.16,
          10099838.42,
          10200697.59,
          10200840.209999999,
          10205282.64,
          10160296.95,
          10125310.48,
          10069084.4,
          10065545.69,
          10109228.01,
          10125432.58,
          10100781.57,
          10126653.23,
          10146243.1,
          10188424.47,
          10203192.84,
          10312964.46,
          10369517.14,
          10465508.69,
          10496497.3,
          10526544.4,
          10541557.83,
          10491871.99,
          10467328.43,
          10480691.17,
          10482207.21,
          10514771.75,
          10511055.39,
          10582967.83,
          10629749.22,
          10831818.48,
          10976230.89,
          11023210.17,
          11035652.81,
          11012087,
          10981930.62,
          10994249.56,
          10901338.46,
          10911125.17,
          10882518.74,
          10933988.68,
          10967301.96,
          10975806.87,
          11002903.040000001,
          11043047.370000001,
          10968209.13,
          10955179.08,
          10900936.709999999
         ]
        }
       ],
       "layout": {
        "template": {
         "data": {
          "bar": [
           {
            "error_x": {
             "color": "#2a3f5f"
            },
            "error_y": {
             "color": "#2a3f5f"
            },
            "marker": {
             "line": {
              "color": "#E5ECF6",
              "width": 0.5
             },
             "pattern": {
              "fillmode": "overlay",
              "size": 10,
              "solidity": 0.2
             }
            },
            "type": "bar"
           }
          ],
          "barpolar": [
           {
            "marker": {
             "line": {
              "color": "#E5ECF6",
              "width": 0.5
             },
             "pattern": {
              "fillmode": "overlay",
              "size": 10,
              "solidity": 0.2
             }
            },
            "type": "barpolar"
           }
          ],
          "carpet": [
           {
            "aaxis": {
             "endlinecolor": "#2a3f5f",
             "gridcolor": "white",
             "linecolor": "white",
             "minorgridcolor": "white",
             "startlinecolor": "#2a3f5f"
            },
            "baxis": {
             "endlinecolor": "#2a3f5f",
             "gridcolor": "white",
             "linecolor": "white",
             "minorgridcolor": "white",
             "startlinecolor": "#2a3f5f"
            },
            "type": "carpet"
           }
          ],
          "choropleth": [
           {
            "colorbar": {
             "outlinewidth": 0,
             "ticks": ""
            },
            "type": "choropleth"
           }
          ],
          "contour": [
           {
            "colorbar": {
             "outlinewidth": 0,
             "ticks": ""
            },
            "colorscale": [
             [
              0,
              "#0d0887"
             ],
             [
              0.1111111111111111,
              "#46039f"
             ],
             [
              0.2222222222222222,
              "#7201a8"
             ],
             [
              0.3333333333333333,
              "#9c179e"
             ],
             [
              0.4444444444444444,
              "#bd3786"
             ],
             [
              0.5555555555555556,
              "#d8576b"
             ],
             [
              0.6666666666666666,
              "#ed7953"
             ],
             [
              0.7777777777777778,
              "#fb9f3a"
             ],
             [
              0.8888888888888888,
              "#fdca26"
             ],
             [
              1,
              "#f0f921"
             ]
            ],
            "type": "contour"
           }
          ],
          "contourcarpet": [
           {
            "colorbar": {
             "outlinewidth": 0,
             "ticks": ""
            },
            "type": "contourcarpet"
           }
          ],
          "heatmap": [
           {
            "colorbar": {
             "outlinewidth": 0,
             "ticks": ""
            },
            "colorscale": [
             [
              0,
              "#0d0887"
             ],
             [
              0.1111111111111111,
              "#46039f"
             ],
             [
              0.2222222222222222,
              "#7201a8"
             ],
             [
              0.3333333333333333,
              "#9c179e"
             ],
             [
              0.4444444444444444,
              "#bd3786"
             ],
             [
              0.5555555555555556,
              "#d8576b"
             ],
             [
              0.6666666666666666,
              "#ed7953"
             ],
             [
              0.7777777777777778,
              "#fb9f3a"
             ],
             [
              0.8888888888888888,
              "#fdca26"
             ],
             [
              1,
              "#f0f921"
             ]
            ],
            "type": "heatmap"
           }
          ],
          "heatmapgl": [
           {
            "colorbar": {
             "outlinewidth": 0,
             "ticks": ""
            },
            "colorscale": [
             [
              0,
              "#0d0887"
             ],
             [
              0.1111111111111111,
              "#46039f"
             ],
             [
              0.2222222222222222,
              "#7201a8"
             ],
             [
              0.3333333333333333,
              "#9c179e"
             ],
             [
              0.4444444444444444,
              "#bd3786"
             ],
             [
              0.5555555555555556,
              "#d8576b"
             ],
             [
              0.6666666666666666,
              "#ed7953"
             ],
             [
              0.7777777777777778,
              "#fb9f3a"
             ],
             [
              0.8888888888888888,
              "#fdca26"
             ],
             [
              1,
              "#f0f921"
             ]
            ],
            "type": "heatmapgl"
           }
          ],
          "histogram": [
           {
            "marker": {
             "pattern": {
              "fillmode": "overlay",
              "size": 10,
              "solidity": 0.2
             }
            },
            "type": "histogram"
           }
          ],
          "histogram2d": [
           {
            "colorbar": {
             "outlinewidth": 0,
             "ticks": ""
            },
            "colorscale": [
             [
              0,
              "#0d0887"
             ],
             [
              0.1111111111111111,
              "#46039f"
             ],
             [
              0.2222222222222222,
              "#7201a8"
             ],
             [
              0.3333333333333333,
              "#9c179e"
             ],
             [
              0.4444444444444444,
              "#bd3786"
             ],
             [
              0.5555555555555556,
              "#d8576b"
             ],
             [
              0.6666666666666666,
              "#ed7953"
             ],
             [
              0.7777777777777778,
              "#fb9f3a"
             ],
             [
              0.8888888888888888,
              "#fdca26"
             ],
             [
              1,
              "#f0f921"
             ]
            ],
            "type": "histogram2d"
           }
          ],
          "histogram2dcontour": [
           {
            "colorbar": {
             "outlinewidth": 0,
             "ticks": ""
            },
            "colorscale": [
             [
              0,
              "#0d0887"
             ],
             [
              0.1111111111111111,
              "#46039f"
             ],
             [
              0.2222222222222222,
              "#7201a8"
             ],
             [
              0.3333333333333333,
              "#9c179e"
             ],
             [
              0.4444444444444444,
              "#bd3786"
             ],
             [
              0.5555555555555556,
              "#d8576b"
             ],
             [
              0.6666666666666666,
              "#ed7953"
             ],
             [
              0.7777777777777778,
              "#fb9f3a"
             ],
             [
              0.8888888888888888,
              "#fdca26"
             ],
             [
              1,
              "#f0f921"
             ]
            ],
            "type": "histogram2dcontour"
           }
          ],
          "mesh3d": [
           {
            "colorbar": {
             "outlinewidth": 0,
             "ticks": ""
            },
            "type": "mesh3d"
           }
          ],
          "parcoords": [
           {
            "line": {
             "colorbar": {
              "outlinewidth": 0,
              "ticks": ""
             }
            },
            "type": "parcoords"
           }
          ],
          "pie": [
           {
            "automargin": true,
            "type": "pie"
           }
          ],
          "scatter": [
           {
            "fillpattern": {
             "fillmode": "overlay",
             "size": 10,
             "solidity": 0.2
            },
            "type": "scatter"
           }
          ],
          "scatter3d": [
           {
            "line": {
             "colorbar": {
              "outlinewidth": 0,
              "ticks": ""
             }
            },
            "marker": {
             "colorbar": {
              "outlinewidth": 0,
              "ticks": ""
             }
            },
            "type": "scatter3d"
           }
          ],
          "scattercarpet": [
           {
            "marker": {
             "colorbar": {
              "outlinewidth": 0,
              "ticks": ""
             }
            },
            "type": "scattercarpet"
           }
          ],
          "scattergeo": [
           {
            "marker": {
             "colorbar": {
              "outlinewidth": 0,
              "ticks": ""
             }
            },
            "type": "scattergeo"
           }
          ],
          "scattergl": [
           {
            "marker": {
             "colorbar": {
              "outlinewidth": 0,
              "ticks": ""
             }
            },
            "type": "scattergl"
           }
          ],
          "scattermapbox": [
           {
            "marker": {
             "colorbar": {
              "outlinewidth": 0,
              "ticks": ""
             }
            },
            "type": "scattermapbox"
           }
          ],
          "scatterpolar": [
           {
            "marker": {
             "colorbar": {
              "outlinewidth": 0,
              "ticks": ""
             }
            },
            "type": "scatterpolar"
           }
          ],
          "scatterpolargl": [
           {
            "marker": {
             "colorbar": {
              "outlinewidth": 0,
              "ticks": ""
             }
            },
            "type": "scatterpolargl"
           }
          ],
          "scatterternary": [
           {
            "marker": {
             "colorbar": {
              "outlinewidth": 0,
              "ticks": ""
             }
            },
            "type": "scatterternary"
           }
          ],
          "surface": [
           {
            "colorbar": {
             "outlinewidth": 0,
             "ticks": ""
            },
            "colorscale": [
             [
              0,
              "#0d0887"
             ],
             [
              0.1111111111111111,
              "#46039f"
             ],
             [
              0.2222222222222222,
              "#7201a8"
             ],
             [
              0.3333333333333333,
              "#9c179e"
             ],
             [
              0.4444444444444444,
              "#bd3786"
             ],
             [
              0.5555555555555556,
              "#d8576b"
             ],
             [
              0.6666666666666666,
              "#ed7953"
             ],
             [
              0.7777777777777778,
              "#fb9f3a"
             ],
             [
              0.8888888888888888,
              "#fdca26"
             ],
             [
              1,
              "#f0f921"
             ]
            ],
            "type": "surface"
           }
          ],
          "table": [
           {
            "cells": {
             "fill": {
              "color": "#EBF0F8"
             },
             "line": {
              "color": "white"
             }
            },
            "header": {
             "fill": {
              "color": "#C8D4E3"
             },
             "line": {
              "color": "white"
             }
            },
            "type": "table"
           }
          ]
         },
         "layout": {
          "annotationdefaults": {
           "arrowcolor": "#2a3f5f",
           "arrowhead": 0,
           "arrowwidth": 1
          },
          "autotypenumbers": "strict",
          "coloraxis": {
           "colorbar": {
            "outlinewidth": 0,
            "ticks": ""
           }
          },
          "colorscale": {
           "diverging": [
            [
             0,
             "#8e0152"
            ],
            [
             0.1,
             "#c51b7d"
            ],
            [
             0.2,
             "#de77ae"
            ],
            [
             0.3,
             "#f1b6da"
            ],
            [
             0.4,
             "#fde0ef"
            ],
            [
             0.5,
             "#f7f7f7"
            ],
            [
             0.6,
             "#e6f5d0"
            ],
            [
             0.7,
             "#b8e186"
            ],
            [
             0.8,
             "#7fbc41"
            ],
            [
             0.9,
             "#4d9221"
            ],
            [
             1,
             "#276419"
            ]
           ],
           "sequential": [
            [
             0,
             "#0d0887"
            ],
            [
             0.1111111111111111,
             "#46039f"
            ],
            [
             0.2222222222222222,
             "#7201a8"
            ],
            [
             0.3333333333333333,
             "#9c179e"
            ],
            [
             0.4444444444444444,
             "#bd3786"
            ],
            [
             0.5555555555555556,
             "#d8576b"
            ],
            [
             0.6666666666666666,
             "#ed7953"
            ],
            [
             0.7777777777777778,
             "#fb9f3a"
            ],
            [
             0.8888888888888888,
             "#fdca26"
            ],
            [
             1,
             "#f0f921"
            ]
           ],
           "sequentialminus": [
            [
             0,
             "#0d0887"
            ],
            [
             0.1111111111111111,
             "#46039f"
            ],
            [
             0.2222222222222222,
             "#7201a8"
            ],
            [
             0.3333333333333333,
             "#9c179e"
            ],
            [
             0.4444444444444444,
             "#bd3786"
            ],
            [
             0.5555555555555556,
             "#d8576b"
            ],
            [
             0.6666666666666666,
             "#ed7953"
            ],
            [
             0.7777777777777778,
             "#fb9f3a"
            ],
            [
             0.8888888888888888,
             "#fdca26"
            ],
            [
             1,
             "#f0f921"
            ]
           ]
          },
          "colorway": [
           "#636efa",
           "#EF553B",
           "#00cc96",
           "#ab63fa",
           "#FFA15A",
           "#19d3f3",
           "#FF6692",
           "#B6E880",
           "#FF97FF",
           "#FECB52"
          ],
          "font": {
           "color": "#2a3f5f"
          },
          "geo": {
           "bgcolor": "white",
           "lakecolor": "white",
           "landcolor": "#E5ECF6",
           "showlakes": true,
           "showland": true,
           "subunitcolor": "white"
          },
          "hoverlabel": {
           "align": "left"
          },
          "hovermode": "closest",
          "mapbox": {
           "style": "light"
          },
          "paper_bgcolor": "white",
          "plot_bgcolor": "#E5ECF6",
          "polar": {
           "angularaxis": {
            "gridcolor": "white",
            "linecolor": "white",
            "ticks": ""
           },
           "bgcolor": "#E5ECF6",
           "radialaxis": {
            "gridcolor": "white",
            "linecolor": "white",
            "ticks": ""
           }
          },
          "scene": {
           "xaxis": {
            "backgroundcolor": "#E5ECF6",
            "gridcolor": "white",
            "gridwidth": 2,
            "linecolor": "white",
            "showbackground": true,
            "ticks": "",
            "zerolinecolor": "white"
           },
           "yaxis": {
            "backgroundcolor": "#E5ECF6",
            "gridcolor": "white",
            "gridwidth": 2,
            "linecolor": "white",
            "showbackground": true,
            "ticks": "",
            "zerolinecolor": "white"
           },
           "zaxis": {
            "backgroundcolor": "#E5ECF6",
            "gridcolor": "white",
            "gridwidth": 2,
            "linecolor": "white",
            "showbackground": true,
            "ticks": "",
            "zerolinecolor": "white"
           }
          },
          "shapedefaults": {
           "line": {
            "color": "#2a3f5f"
           }
          },
          "ternary": {
           "aaxis": {
            "gridcolor": "white",
            "linecolor": "white",
            "ticks": ""
           },
           "baxis": {
            "gridcolor": "white",
            "linecolor": "white",
            "ticks": ""
           },
           "bgcolor": "#E5ECF6",
           "caxis": {
            "gridcolor": "white",
            "linecolor": "white",
            "ticks": ""
           }
          },
          "title": {
           "x": 0.05
          },
          "xaxis": {
           "automargin": true,
           "gridcolor": "white",
           "linecolor": "white",
           "ticks": "",
           "title": {
            "standoff": 15
           },
           "zerolinecolor": "white",
           "zerolinewidth": 2
          },
          "yaxis": {
           "automargin": true,
           "gridcolor": "white",
           "linecolor": "white",
           "ticks": "",
           "title": {
            "standoff": 15
           },
           "zerolinecolor": "white",
           "zerolinewidth": 2
          }
         }
        },
        "title": {
         "text": "Capped Index vs Attacked Capped Index"
        },
        "xaxis": {
         "title": {
          "text": "dates"
         }
        },
        "yaxis": {
         "title": {
          "text": "index"
         }
        }
       }
      }
     },
     "metadata": {},
     "output_type": "display_data"
    }
   ],
   "source": [
    "ind, ind_data = most_traded_index(\n",
    "    df=agg_df_hist,\n",
    "    n=5000,\n",
    "    quantity_measure='min_quantity',\n",
    "    raw_index=raw_index,\n",
    "    compare=False,\n",
    "    min_quantity=100,\n",
    "    plot=False\n",
    ")\n",
    "ind_data = get_index_share(ind_data)\n",
    "mapping = pd.read_csv('data/csgo_mapping.csv', index_col=0)\n",
    "# Limit data to after mapping learning date\n",
    "ind_data = ind_data[ind_data['dates.date'] > '2023-03-23']\n",
    "ind_data = ind_data.merge(mapping, on='market_hash_name', how='inner')\n",
    "map_df = get_caps(ind_data, upper_multiplier=1, lower_multiplier=1)\n",
    "attacked_df = simulate_attack(map_df, item_list_top(10), 30, increase=False)\n",
    "attacked_df = get_index_share(attacked_df)\n",
    "# att_capped_ind, valid, invalid_lower, invalid_upper = cap_index(attacked_df)\n",
    "att_capped_ind = cap_index_iter_adjust(attacked_df)\n",
    "plot_inds(ind, att_capped_ind, 'Capped Index', 'Attacked Capped Index')"
   ]
  },
  {
   "cell_type": "code",
   "execution_count": 411,
   "metadata": {},
   "outputs": [],
   "source": [
    "att_capped_ind[['dates.date', 'index']].to_csv('data/csgo_attacked_index.csv')"
   ]
  },
  {
   "cell_type": "code",
   "execution_count": 196,
   "metadata": {},
   "outputs": [
    {
     "name": "stdout",
     "output_type": "stream",
     "text": [
      "Number of products: 550\n"
     ]
    },
    {
     "data": {
      "application/vnd.plotly.v1+json": {
       "config": {
        "plotlyServerURL": "https://plot.ly"
       },
       "data": [
        {
         "mode": "lines",
         "name": "Attacked Capped Index",
         "type": "scatter",
         "x": [
          "2023-03-24T00:00:00",
          "2023-03-25T00:00:00",
          "2023-03-26T00:00:00",
          "2023-03-27T00:00:00",
          "2023-03-28T00:00:00",
          "2023-03-29T00:00:00",
          "2023-03-30T00:00:00",
          "2023-03-31T00:00:00",
          "2023-04-01T00:00:00",
          "2023-04-02T00:00:00",
          "2023-04-03T00:00:00",
          "2023-04-04T00:00:00",
          "2023-04-05T00:00:00",
          "2023-04-06T00:00:00",
          "2023-04-07T00:00:00",
          "2023-04-08T00:00:00",
          "2023-04-09T00:00:00",
          "2023-04-10T00:00:00",
          "2023-04-11T00:00:00",
          "2023-04-12T00:00:00",
          "2023-04-13T00:00:00",
          "2023-04-14T00:00:00",
          "2023-04-15T00:00:00",
          "2023-04-16T00:00:00",
          "2023-04-17T00:00:00",
          "2023-04-18T00:00:00",
          "2023-04-19T00:00:00",
          "2023-04-20T00:00:00",
          "2023-04-21T00:00:00",
          "2023-04-22T00:00:00",
          "2023-04-23T00:00:00",
          "2023-04-24T00:00:00",
          "2023-04-25T00:00:00",
          "2023-04-26T00:00:00",
          "2023-04-27T00:00:00",
          "2023-04-28T00:00:00",
          "2023-04-29T00:00:00",
          "2023-04-30T00:00:00",
          "2023-05-01T00:00:00",
          "2023-05-02T00:00:00",
          "2023-05-03T00:00:00",
          "2023-05-04T00:00:00",
          "2023-05-05T00:00:00",
          "2023-05-06T00:00:00",
          "2023-05-07T00:00:00",
          "2023-05-08T00:00:00",
          "2023-05-09T00:00:00",
          "2023-05-10T00:00:00",
          "2023-05-11T00:00:00",
          "2023-05-12T00:00:00",
          "2023-05-13T00:00:00",
          "2023-05-14T00:00:00",
          "2023-05-15T00:00:00",
          "2023-05-16T00:00:00",
          "2023-05-17T00:00:00",
          "2023-05-18T00:00:00",
          "2023-05-19T00:00:00",
          "2023-05-20T00:00:00",
          "2023-05-21T00:00:00",
          "2023-05-22T00:00:00",
          "2023-05-23T00:00:00",
          "2023-05-24T00:00:00",
          "2023-05-25T00:00:00",
          "2023-05-26T00:00:00",
          "2023-05-27T00:00:00",
          "2023-05-28T00:00:00",
          "2023-05-29T00:00:00",
          "2023-05-30T00:00:00",
          "2023-05-31T00:00:00",
          "2023-06-01T00:00:00",
          "2023-06-02T00:00:00",
          "2023-06-03T00:00:00",
          "2023-06-04T00:00:00",
          "2023-06-05T00:00:00",
          "2023-06-06T00:00:00",
          "2023-06-07T00:00:00",
          "2023-06-08T00:00:00",
          "2023-06-09T00:00:00",
          "2023-06-10T00:00:00",
          "2023-06-11T00:00:00",
          "2023-06-12T00:00:00",
          "2023-06-13T00:00:00",
          "2023-06-14T00:00:00",
          "2023-06-15T00:00:00",
          "2023-06-16T00:00:00",
          "2023-06-17T00:00:00",
          "2023-06-18T00:00:00",
          "2023-06-19T00:00:00",
          "2023-06-20T00:00:00",
          "2023-06-21T00:00:00",
          "2023-06-22T00:00:00",
          "2023-06-23T00:00:00",
          "2023-06-24T00:00:00",
          "2023-06-25T00:00:00",
          "2023-06-26T00:00:00",
          "2023-06-27T00:00:00",
          "2023-06-28T00:00:00",
          "2023-06-29T00:00:00",
          "2023-06-30T00:00:00",
          "2023-07-01T00:00:00",
          "2023-07-02T00:00:00",
          "2023-07-03T00:00:00",
          "2023-07-04T00:00:00",
          "2023-07-05T00:00:00",
          "2023-07-06T00:00:00",
          "2023-07-07T00:00:00",
          "2023-07-08T00:00:00",
          "2023-07-09T00:00:00",
          "2023-07-10T00:00:00",
          "2023-07-11T00:00:00",
          "2023-07-12T00:00:00",
          "2023-07-13T00:00:00",
          "2023-07-14T00:00:00",
          "2023-07-15T00:00:00",
          "2023-07-16T00:00:00",
          "2023-07-17T00:00:00",
          "2023-07-18T00:00:00",
          "2023-07-19T00:00:00",
          "2023-07-20T00:00:00",
          "2023-07-21T00:00:00",
          "2023-07-22T00:00:00",
          "2023-07-23T00:00:00",
          "2023-07-24T00:00:00",
          "2023-07-25T00:00:00",
          "2023-07-26T00:00:00",
          "2023-07-27T00:00:00",
          "2023-07-28T00:00:00",
          "2023-07-29T00:00:00",
          "2023-07-30T00:00:00",
          "2023-07-31T00:00:00",
          "2023-08-01T00:00:00",
          "2023-08-02T00:00:00",
          "2023-08-03T00:00:00",
          "2023-08-04T00:00:00",
          "2023-08-05T00:00:00",
          "2023-08-06T00:00:00",
          "2023-08-07T00:00:00",
          "2023-08-08T00:00:00",
          "2023-08-09T00:00:00",
          "2023-08-10T00:00:00",
          "2023-08-11T00:00:00",
          "2023-08-12T00:00:00",
          "2023-08-13T00:00:00",
          "2023-08-14T00:00:00",
          "2023-08-15T00:00:00",
          "2023-08-16T00:00:00",
          "2023-08-17T00:00:00",
          "2023-08-18T00:00:00",
          "2023-08-19T00:00:00",
          "2023-08-20T00:00:00",
          "2023-08-21T00:00:00",
          "2023-08-22T00:00:00",
          "2023-08-23T00:00:00",
          "2023-08-24T00:00:00",
          "2023-08-25T00:00:00",
          "2023-08-26T00:00:00",
          "2023-08-27T00:00:00",
          "2023-08-28T00:00:00",
          "2023-08-29T00:00:00",
          "2023-08-30T00:00:00",
          "2023-08-31T00:00:00",
          "2023-09-01T00:00:00",
          "2023-09-02T00:00:00",
          "2023-09-03T00:00:00",
          "2023-09-04T00:00:00",
          "2023-09-05T00:00:00",
          "2023-09-06T00:00:00",
          "2023-09-07T00:00:00",
          "2023-09-08T00:00:00",
          "2023-09-09T00:00:00",
          "2023-09-10T00:00:00",
          "2023-09-11T00:00:00",
          "2023-09-12T00:00:00",
          "2023-09-13T00:00:00",
          "2023-09-14T00:00:00",
          "2023-09-15T00:00:00",
          "2023-09-16T00:00:00",
          "2023-09-17T00:00:00",
          "2023-09-18T00:00:00"
         ],
         "y": [
          9368559.59,
          9459283.72,
          9510401.01,
          10052376.16,
          9915864.8,
          9883424.52489237,
          9961051.304282041,
          10090368.272735305,
          10232419.715023788,
          10304221.616812294,
          10402537.7864801,
          10535514.56406842,
          10694928.453817382,
          11056752.57892938,
          11292224.237804541,
          11255721.490413772,
          11298913.662380239,
          11431622.381285753,
          11794283.629533892,
          12237417.432163734,
          12749802.798838714,
          13062858.33005801,
          12737231.158995619,
          12675393.414048877,
          12832553.003164222,
          13163714.141832668,
          13651081.067838153,
          13649407.908106724,
          13484683.651804633,
          13222387.234683456,
          12940637.899456091,
          13240864.348559069,
          13383292.752614548,
          13202472.366942974,
          12886623.712690454,
          12497945.39,
          12349383.97,
          11962276.9,
          12030944.22,
          12156256.6,
          12139668.62,
          12330822.55,
          12237850.39,
          12156209.44,
          12106966.58,
          12040351.08,
          11838317.1,
          11803030.01,
          11583371.12,
          11243629.209999999,
          10513709.19,
          10850923.24,
          10859371.88,
          10893244.24,
          10876458.84,
          10920771.5,
          10871722.11,
          10902653.74,
          10855623.25,
          10865860.12,
          10844837.91,
          10974095.59,
          11056274.4,
          11066851.51,
          11108408.92,
          11111277.98,
          11090229,
          11105829.87,
          11118261.75,
          11146027.09,
          11198971.1,
          11205702.71,
          11208154.870000001,
          11151805.04,
          11049794.53,
          11052494.23,
          11031148.87,
          11079156.03,
          11112977.99,
          11142777.36,
          11142583.88,
          11122049.97,
          11087336.85,
          11084503.879999999,
          11090929.26,
          11011356.22,
          10881743.48,
          10778352.08,
          10681812.52,
          10669682.12,
          10691347.82,
          10676399.22,
          10603197.96,
          10536515.66,
          10365296.59,
          10181034.51,
          10033871.85,
          9877733.52,
          9763094.1,
          9754112.42,
          9740668.72,
          9849842.58,
          9925737.82,
          9956001.75,
          9902859.68,
          9870402.37,
          9830320.78,
          9771869.58,
          9696612.13,
          9676221.09,
          9633481.73,
          9591359.4,
          9572895.74,
          9556575.65,
          9573235.6,
          9529581.75,
          9492151.88,
          9462660.26,
          9431079.66,
          9478659.709999999,
          9472822.12,
          9458315.05,
          9463179.62,
          9510120.62,
          9583506.8,
          9609214.07,
          9655014.02,
          9736518.27,
          9818219.55,
          9957670.94,
          10051725.68,
          10077247.16,
          10099838.42,
          10200697.59,
          10200840.209999999,
          10205282.64,
          10160296.95,
          10125310.48,
          10069084.4,
          10065545.69,
          10109228.01,
          10125432.58,
          10100781.57,
          10126653.23,
          10146243.1,
          10188424.47,
          10203192.84,
          10312964.46,
          10369517.14,
          10465508.69,
          10496497.3,
          10526544.4,
          10541557.83,
          10491871.99,
          10467328.43,
          10480691.17,
          10482207.21,
          10514771.75,
          10511055.39,
          10582967.83,
          10629749.22,
          10831818.48,
          10976230.89,
          11023210.17,
          11035652.81,
          11012087,
          10981930.62,
          10994249.56,
          10901338.46,
          10911125.17,
          10882518.74,
          10933988.68,
          10967301.96,
          10975806.87,
          11002903.040000001,
          11043047.370000001,
          10968209.13,
          10955179.08,
          10900936.709999999
         ]
        },
        {
         "mode": "lines",
         "name": "Capped Index",
         "type": "scatter",
         "x": [
          "2022-09-21T00:00:00",
          "2022-09-22T00:00:00",
          "2022-09-23T00:00:00",
          "2022-09-24T00:00:00",
          "2022-09-25T00:00:00",
          "2022-09-26T00:00:00",
          "2022-09-27T00:00:00",
          "2022-09-28T00:00:00",
          "2022-09-29T00:00:00",
          "2022-09-30T00:00:00",
          "2022-10-01T00:00:00",
          "2022-10-02T00:00:00",
          "2022-10-03T00:00:00",
          "2022-10-04T00:00:00",
          "2022-10-05T00:00:00",
          "2022-10-06T00:00:00",
          "2022-10-07T00:00:00",
          "2022-10-08T00:00:00",
          "2022-10-09T00:00:00",
          "2022-10-10T00:00:00",
          "2022-10-11T00:00:00",
          "2022-10-12T00:00:00",
          "2022-10-13T00:00:00",
          "2022-10-14T00:00:00",
          "2022-10-15T00:00:00",
          "2022-10-16T00:00:00",
          "2022-10-17T00:00:00",
          "2022-10-18T00:00:00",
          "2022-10-19T00:00:00",
          "2022-10-20T00:00:00",
          "2022-10-21T00:00:00",
          "2022-10-22T00:00:00",
          "2022-10-23T00:00:00",
          "2022-10-24T00:00:00",
          "2022-10-25T00:00:00",
          "2022-10-26T00:00:00",
          "2022-10-27T00:00:00",
          "2022-10-28T00:00:00",
          "2022-10-29T00:00:00",
          "2022-10-30T00:00:00",
          "2022-10-31T00:00:00",
          "2022-11-01T00:00:00",
          "2022-11-02T00:00:00",
          "2022-11-03T00:00:00",
          "2022-11-04T00:00:00",
          "2022-11-05T00:00:00",
          "2022-11-06T00:00:00",
          "2022-11-07T00:00:00",
          "2022-11-08T00:00:00",
          "2022-11-09T00:00:00",
          "2022-11-10T00:00:00",
          "2022-11-11T00:00:00",
          "2022-11-12T00:00:00",
          "2022-11-13T00:00:00",
          "2022-11-14T00:00:00",
          "2022-11-15T00:00:00",
          "2022-11-16T00:00:00",
          "2022-11-17T00:00:00",
          "2022-11-18T00:00:00",
          "2022-11-19T00:00:00",
          "2022-11-20T00:00:00",
          "2022-11-21T00:00:00",
          "2022-11-22T00:00:00",
          "2022-11-23T00:00:00",
          "2022-11-24T00:00:00",
          "2022-11-25T00:00:00",
          "2022-11-26T00:00:00",
          "2022-11-27T00:00:00",
          "2022-11-28T00:00:00",
          "2022-11-29T00:00:00",
          "2022-11-30T00:00:00",
          "2022-12-01T00:00:00",
          "2022-12-02T00:00:00",
          "2022-12-03T00:00:00",
          "2022-12-04T00:00:00",
          "2022-12-05T00:00:00",
          "2022-12-06T00:00:00",
          "2022-12-07T00:00:00",
          "2022-12-08T00:00:00",
          "2022-12-09T00:00:00",
          "2022-12-10T00:00:00",
          "2022-12-11T00:00:00",
          "2022-12-12T00:00:00",
          "2022-12-13T00:00:00",
          "2022-12-14T00:00:00",
          "2022-12-15T00:00:00",
          "2022-12-16T00:00:00",
          "2022-12-17T00:00:00",
          "2022-12-18T00:00:00",
          "2022-12-19T00:00:00",
          "2022-12-20T00:00:00",
          "2022-12-21T00:00:00",
          "2022-12-22T00:00:00",
          "2022-12-23T00:00:00",
          "2022-12-24T00:00:00",
          "2022-12-25T00:00:00",
          "2022-12-26T00:00:00",
          "2022-12-27T00:00:00",
          "2022-12-28T00:00:00",
          "2022-12-29T00:00:00",
          "2022-12-30T00:00:00",
          "2022-12-31T00:00:00",
          "2023-01-01T00:00:00",
          "2023-01-02T00:00:00",
          "2023-01-03T00:00:00",
          "2023-01-04T00:00:00",
          "2023-01-05T00:00:00",
          "2023-01-06T00:00:00",
          "2023-01-07T00:00:00",
          "2023-01-08T00:00:00",
          "2023-01-09T00:00:00",
          "2023-01-10T00:00:00",
          "2023-01-11T00:00:00",
          "2023-01-12T00:00:00",
          "2023-01-13T00:00:00",
          "2023-01-14T00:00:00",
          "2023-01-15T00:00:00",
          "2023-01-16T00:00:00",
          "2023-01-17T00:00:00",
          "2023-01-18T00:00:00",
          "2023-01-19T00:00:00",
          "2023-01-20T00:00:00",
          "2023-01-21T00:00:00",
          "2023-01-22T00:00:00",
          "2023-01-23T00:00:00",
          "2023-01-24T00:00:00",
          "2023-01-25T00:00:00",
          "2023-01-26T00:00:00",
          "2023-01-27T00:00:00",
          "2023-01-28T00:00:00",
          "2023-01-29T00:00:00",
          "2023-01-30T00:00:00",
          "2023-01-31T00:00:00",
          "2023-02-01T00:00:00",
          "2023-02-02T00:00:00",
          "2023-02-03T00:00:00",
          "2023-02-04T00:00:00",
          "2023-02-05T00:00:00",
          "2023-02-06T00:00:00",
          "2023-02-07T00:00:00",
          "2023-02-08T00:00:00",
          "2023-02-09T00:00:00",
          "2023-02-10T00:00:00",
          "2023-02-11T00:00:00",
          "2023-02-12T00:00:00",
          "2023-02-13T00:00:00",
          "2023-02-14T00:00:00",
          "2023-02-15T00:00:00",
          "2023-02-16T00:00:00",
          "2023-02-17T00:00:00",
          "2023-02-18T00:00:00",
          "2023-02-19T00:00:00",
          "2023-02-20T00:00:00",
          "2023-02-21T00:00:00",
          "2023-02-22T00:00:00",
          "2023-02-23T00:00:00",
          "2023-02-24T00:00:00",
          "2023-02-25T00:00:00",
          "2023-02-26T00:00:00",
          "2023-02-27T00:00:00",
          "2023-02-28T00:00:00",
          "2023-03-01T00:00:00",
          "2023-03-02T00:00:00",
          "2023-03-03T00:00:00",
          "2023-03-04T00:00:00",
          "2023-03-05T00:00:00",
          "2023-03-06T00:00:00",
          "2023-03-07T00:00:00",
          "2023-03-08T00:00:00",
          "2023-03-09T00:00:00",
          "2023-03-10T00:00:00",
          "2023-03-11T00:00:00",
          "2023-03-12T00:00:00",
          "2023-03-13T00:00:00",
          "2023-03-14T00:00:00",
          "2023-03-15T00:00:00",
          "2023-03-16T00:00:00",
          "2023-03-17T00:00:00",
          "2023-03-18T00:00:00",
          "2023-03-19T00:00:00",
          "2023-03-20T00:00:00",
          "2023-03-21T00:00:00",
          "2023-03-22T00:00:00",
          "2023-03-23T00:00:00",
          "2023-03-24T00:00:00",
          "2023-03-25T00:00:00",
          "2023-03-26T00:00:00",
          "2023-03-27T00:00:00",
          "2023-03-28T00:00:00",
          "2023-03-29T00:00:00",
          "2023-03-30T00:00:00",
          "2023-03-31T00:00:00",
          "2023-04-01T00:00:00",
          "2023-04-02T00:00:00",
          "2023-04-03T00:00:00",
          "2023-04-04T00:00:00",
          "2023-04-05T00:00:00",
          "2023-04-06T00:00:00",
          "2023-04-07T00:00:00",
          "2023-04-08T00:00:00",
          "2023-04-09T00:00:00",
          "2023-04-10T00:00:00",
          "2023-04-11T00:00:00",
          "2023-04-12T00:00:00",
          "2023-04-13T00:00:00",
          "2023-04-14T00:00:00",
          "2023-04-15T00:00:00",
          "2023-04-16T00:00:00",
          "2023-04-17T00:00:00",
          "2023-04-18T00:00:00",
          "2023-04-19T00:00:00",
          "2023-04-20T00:00:00",
          "2023-04-21T00:00:00",
          "2023-04-22T00:00:00",
          "2023-04-23T00:00:00",
          "2023-04-24T00:00:00",
          "2023-04-25T00:00:00",
          "2023-04-26T00:00:00",
          "2023-04-27T00:00:00",
          "2023-04-28T00:00:00",
          "2023-04-29T00:00:00",
          "2023-04-30T00:00:00",
          "2023-05-01T00:00:00",
          "2023-05-02T00:00:00",
          "2023-05-03T00:00:00",
          "2023-05-04T00:00:00",
          "2023-05-05T00:00:00",
          "2023-05-06T00:00:00",
          "2023-05-07T00:00:00",
          "2023-05-08T00:00:00",
          "2023-05-09T00:00:00",
          "2023-05-10T00:00:00",
          "2023-05-11T00:00:00",
          "2023-05-12T00:00:00",
          "2023-05-13T00:00:00",
          "2023-05-14T00:00:00",
          "2023-05-15T00:00:00",
          "2023-05-16T00:00:00",
          "2023-05-17T00:00:00",
          "2023-05-18T00:00:00",
          "2023-05-19T00:00:00",
          "2023-05-20T00:00:00",
          "2023-05-21T00:00:00",
          "2023-05-22T00:00:00",
          "2023-05-23T00:00:00",
          "2023-05-24T00:00:00",
          "2023-05-25T00:00:00",
          "2023-05-26T00:00:00",
          "2023-05-27T00:00:00",
          "2023-05-28T00:00:00",
          "2023-05-29T00:00:00",
          "2023-05-30T00:00:00",
          "2023-05-31T00:00:00",
          "2023-06-01T00:00:00",
          "2023-06-02T00:00:00",
          "2023-06-03T00:00:00",
          "2023-06-04T00:00:00",
          "2023-06-05T00:00:00",
          "2023-06-06T00:00:00",
          "2023-06-07T00:00:00",
          "2023-06-08T00:00:00",
          "2023-06-09T00:00:00",
          "2023-06-10T00:00:00",
          "2023-06-11T00:00:00",
          "2023-06-12T00:00:00",
          "2023-06-13T00:00:00",
          "2023-06-14T00:00:00",
          "2023-06-15T00:00:00",
          "2023-06-16T00:00:00",
          "2023-06-17T00:00:00",
          "2023-06-18T00:00:00",
          "2023-06-19T00:00:00",
          "2023-06-20T00:00:00",
          "2023-06-21T00:00:00",
          "2023-06-22T00:00:00",
          "2023-06-23T00:00:00",
          "2023-06-24T00:00:00",
          "2023-06-25T00:00:00",
          "2023-06-26T00:00:00",
          "2023-06-27T00:00:00",
          "2023-06-28T00:00:00",
          "2023-06-29T00:00:00",
          "2023-06-30T00:00:00",
          "2023-07-01T00:00:00",
          "2023-07-02T00:00:00",
          "2023-07-03T00:00:00",
          "2023-07-04T00:00:00",
          "2023-07-05T00:00:00",
          "2023-07-06T00:00:00",
          "2023-07-07T00:00:00",
          "2023-07-08T00:00:00",
          "2023-07-09T00:00:00",
          "2023-07-10T00:00:00",
          "2023-07-11T00:00:00",
          "2023-07-12T00:00:00",
          "2023-07-13T00:00:00",
          "2023-07-14T00:00:00",
          "2023-07-15T00:00:00",
          "2023-07-16T00:00:00",
          "2023-07-17T00:00:00",
          "2023-07-18T00:00:00",
          "2023-07-19T00:00:00",
          "2023-07-20T00:00:00",
          "2023-07-21T00:00:00",
          "2023-07-22T00:00:00",
          "2023-07-23T00:00:00",
          "2023-07-24T00:00:00",
          "2023-07-25T00:00:00",
          "2023-07-26T00:00:00",
          "2023-07-27T00:00:00",
          "2023-07-28T00:00:00",
          "2023-07-29T00:00:00",
          "2023-07-30T00:00:00",
          "2023-07-31T00:00:00",
          "2023-08-01T00:00:00",
          "2023-08-02T00:00:00",
          "2023-08-03T00:00:00",
          "2023-08-04T00:00:00",
          "2023-08-05T00:00:00",
          "2023-08-06T00:00:00",
          "2023-08-07T00:00:00",
          "2023-08-08T00:00:00",
          "2023-08-09T00:00:00",
          "2023-08-10T00:00:00",
          "2023-08-11T00:00:00",
          "2023-08-12T00:00:00",
          "2023-08-13T00:00:00",
          "2023-08-14T00:00:00",
          "2023-08-15T00:00:00",
          "2023-08-16T00:00:00",
          "2023-08-17T00:00:00",
          "2023-08-18T00:00:00",
          "2023-08-19T00:00:00",
          "2023-08-20T00:00:00",
          "2023-08-21T00:00:00",
          "2023-08-22T00:00:00",
          "2023-08-23T00:00:00",
          "2023-08-24T00:00:00",
          "2023-08-25T00:00:00",
          "2023-08-26T00:00:00",
          "2023-08-27T00:00:00",
          "2023-08-28T00:00:00",
          "2023-08-29T00:00:00",
          "2023-08-30T00:00:00",
          "2023-08-31T00:00:00",
          "2023-09-01T00:00:00",
          "2023-09-02T00:00:00",
          "2023-09-03T00:00:00",
          "2023-09-04T00:00:00",
          "2023-09-05T00:00:00",
          "2023-09-06T00:00:00",
          "2023-09-07T00:00:00",
          "2023-09-08T00:00:00",
          "2023-09-09T00:00:00",
          "2023-09-10T00:00:00",
          "2023-09-11T00:00:00",
          "2023-09-12T00:00:00",
          "2023-09-13T00:00:00",
          "2023-09-14T00:00:00",
          "2023-09-15T00:00:00",
          "2023-09-16T00:00:00",
          "2023-09-17T00:00:00",
          "2023-09-18T00:00:00"
         ],
         "y": [
          6771166.28,
          6726694.99,
          6698817.09,
          6650692.81,
          6635727,
          6624127.05,
          6552276.04,
          6526730.21,
          5932684.01,
          6703527.72,
          6744080.45,
          6788369.59,
          6797916.75,
          6822254.83,
          6880195.33,
          6916845.3,
          6911245.8,
          6865556.42,
          6861601.22,
          6835605.68,
          6824694.55,
          6796893.51,
          6790275.35,
          6824229.25,
          6839432.05,
          6836743.37,
          6856913.49,
          6887797.01,
          6902886.4,
          6906440.95,
          6930795.34,
          6970769.77,
          6986599.77,
          6963366.2,
          6964343.49,
          7014461.7,
          7058574.64,
          6995404.14,
          7004653.22,
          6968396.64,
          6954459.15,
          6929801.53,
          6941658.13,
          6941772.73,
          6940511.8,
          7026598.05,
          7059370.33,
          7044205.08,
          7042902.51,
          7040809.88,
          7038235.16,
          7105199.62,
          7152048.49,
          7159787.64,
          7142202.83,
          7162423.53,
          7185552.41,
          7159608.12,
          7164884.7,
          7174887.36,
          7143841,
          7189578.79,
          7244294.29,
          7289423.68,
          7280703.78,
          7257718.25,
          7240911.19,
          7217221.13,
          7207068.57,
          7195202.66,
          7225140.85,
          7277420.88,
          7351713.19,
          7369936.8,
          7392778.58,
          7421235.29,
          7441826.58,
          7470812.22,
          7527899.53,
          7580608.35,
          7579576.08,
          7551102.78,
          7582472.46,
          7514945.51,
          7515465.42,
          7544450.57,
          7559502.04,
          7567746.34,
          7511027.14,
          7535019.53,
          7490827.43,
          7477970.9799999995,
          7454687.4,
          7393742.5,
          7269300.18,
          7192058.91,
          7271955.18,
          7332011.21,
          7310939.12,
          7254332.45,
          7258049.11,
          7260332.28,
          7241294.14,
          7195221.32,
          7149943.92,
          7136554.97,
          7137038.7299999995,
          7100668.67,
          7101235.05,
          7159577.62,
          7182701.15,
          7277519.33,
          7350171.6899999995,
          7406064.85,
          7445156.37,
          7486671.88,
          7506058.53,
          7534941.85,
          7522798.4,
          7518537.63,
          7546361.7,
          7549302.87,
          7569961.24,
          7578440.38,
          7611916.99,
          7655347.61,
          7664726.45,
          7618760.25,
          7652840.93,
          7655824.8,
          7691190.64,
          7661738.75,
          7694818.4,
          7690611.97,
          7678086.5,
          7740739.83,
          7756421.71,
          7714246.13,
          7772930.08,
          7756609.98,
          7750899.31,
          7742203.42,
          7790889.2,
          7814934.2,
          7833005.51,
          7862167.8,
          7927851.39,
          7956139.62,
          7971184.94,
          7986282.54,
          8008508.89,
          8020794,
          8083596.46,
          8031811.12,
          8042143.01,
          8046251.44,
          7949476.8,
          8020881.32,
          7889511.03,
          8005328.86,
          7899416.92,
          7946012.6,
          8135822.38,
          8175205.53,
          8211308.89,
          8214781.25,
          8200765.75,
          8284867.87,
          8378509.87,
          8427398.64,
          8463233.3,
          8501252.3,
          8504747.02,
          8506573.73,
          8552843.19,
          8582434.23,
          8578117,
          8624488.76,
          8735439.73,
          8733694.19,
          8798079.42,
          8886195.05,
          9009376.09,
          9306387.03,
          9368559.59,
          9459283.72,
          9510401.01,
          10052376.16,
          9915864.8,
          9813812.59,
          9888106.74,
          10018465.41,
          10168587.73,
          10253997.39,
          10342144.78,
          10454136.07,
          10613110.790000001,
          11030478.42,
          11255499.83,
          11192481.59,
          11261054.51,
          11385506.37,
          11738534.36,
          12207468.47,
          12735930.89,
          13035758.5,
          12645848.790000001,
          12637097.56,
          12812834.36,
          13147941.43,
          13619033,
          13607778.18,
          13428722.84,
          13164579.24,
          12891637.63,
          13189154.08,
          13330541.45,
          13143306.87,
          12843489.82,
          12497945.39,
          12349383.97,
          11962276.9,
          12030944.22,
          12156256.6,
          12139668.62,
          12330822.55,
          12237850.39,
          12156209.44,
          12106966.58,
          12040351.08,
          11838317.1,
          11803030.01,
          11583371.12,
          11243629.209999999,
          10513709.19,
          10850923.24,
          10859371.88,
          10893244.24,
          10876458.84,
          10920771.5,
          10871722.11,
          10902653.74,
          10855623.25,
          10865860.12,
          10844837.91,
          10974095.59,
          11056274.4,
          11066851.51,
          11108408.92,
          11111277.98,
          11090229,
          11105829.87,
          11118261.75,
          11146027.09,
          11198971.1,
          11205702.71,
          11208154.870000001,
          11151805.04,
          11049794.53,
          11052494.23,
          11031148.87,
          11079156.03,
          11112977.99,
          11142777.36,
          11142583.88,
          11122049.97,
          11087336.85,
          11084503.879999999,
          11090929.26,
          11011356.22,
          10881743.48,
          10778352.08,
          10681812.52,
          10669682.12,
          10691347.82,
          10676399.22,
          10603197.96,
          10536515.66,
          10365296.59,
          10181034.51,
          10033871.85,
          9877733.52,
          9763094.1,
          9754112.42,
          9740668.72,
          9849842.58,
          9925737.82,
          9956001.75,
          9902859.68,
          9870402.37,
          9830320.78,
          9771869.58,
          9696612.13,
          9676221.09,
          9633481.73,
          9591359.4,
          9572895.74,
          9556575.65,
          9573235.6,
          9529581.75,
          9492151.88,
          9462660.26,
          9431079.66,
          9478659.709999999,
          9472822.12,
          9458315.05,
          9463179.62,
          9510120.62,
          9583506.8,
          9609214.07,
          9655014.02,
          9736518.27,
          9818219.55,
          9957670.94,
          10051725.68,
          10077247.16,
          10099838.42,
          10200697.59,
          10200840.209999999,
          10205282.64,
          10160296.95,
          10125310.48,
          10069084.4,
          10065545.69,
          10109228.01,
          10125432.58,
          10100781.57,
          10126653.23,
          10146243.1,
          10188424.47,
          10203192.84,
          10312964.46,
          10369517.14,
          10465508.69,
          10496497.3,
          10526544.4,
          10541557.83,
          10491871.99,
          10467328.43,
          10480691.17,
          10482207.21,
          10514771.75,
          10511055.39,
          10582967.83,
          10629749.22,
          10831818.48,
          10976230.89,
          11023210.17,
          11035652.81,
          11012087,
          10981930.62,
          10994249.56,
          10901338.46,
          10911125.17,
          10882518.74,
          10933988.68,
          10967301.96,
          10975806.87,
          11002903.040000001,
          11043047.370000001,
          10968209.13,
          10955179.08,
          10900936.709999999
         ]
        }
       ],
       "layout": {
        "template": {
         "data": {
          "bar": [
           {
            "error_x": {
             "color": "#2a3f5f"
            },
            "error_y": {
             "color": "#2a3f5f"
            },
            "marker": {
             "line": {
              "color": "#E5ECF6",
              "width": 0.5
             },
             "pattern": {
              "fillmode": "overlay",
              "size": 10,
              "solidity": 0.2
             }
            },
            "type": "bar"
           }
          ],
          "barpolar": [
           {
            "marker": {
             "line": {
              "color": "#E5ECF6",
              "width": 0.5
             },
             "pattern": {
              "fillmode": "overlay",
              "size": 10,
              "solidity": 0.2
             }
            },
            "type": "barpolar"
           }
          ],
          "carpet": [
           {
            "aaxis": {
             "endlinecolor": "#2a3f5f",
             "gridcolor": "white",
             "linecolor": "white",
             "minorgridcolor": "white",
             "startlinecolor": "#2a3f5f"
            },
            "baxis": {
             "endlinecolor": "#2a3f5f",
             "gridcolor": "white",
             "linecolor": "white",
             "minorgridcolor": "white",
             "startlinecolor": "#2a3f5f"
            },
            "type": "carpet"
           }
          ],
          "choropleth": [
           {
            "colorbar": {
             "outlinewidth": 0,
             "ticks": ""
            },
            "type": "choropleth"
           }
          ],
          "contour": [
           {
            "colorbar": {
             "outlinewidth": 0,
             "ticks": ""
            },
            "colorscale": [
             [
              0,
              "#0d0887"
             ],
             [
              0.1111111111111111,
              "#46039f"
             ],
             [
              0.2222222222222222,
              "#7201a8"
             ],
             [
              0.3333333333333333,
              "#9c179e"
             ],
             [
              0.4444444444444444,
              "#bd3786"
             ],
             [
              0.5555555555555556,
              "#d8576b"
             ],
             [
              0.6666666666666666,
              "#ed7953"
             ],
             [
              0.7777777777777778,
              "#fb9f3a"
             ],
             [
              0.8888888888888888,
              "#fdca26"
             ],
             [
              1,
              "#f0f921"
             ]
            ],
            "type": "contour"
           }
          ],
          "contourcarpet": [
           {
            "colorbar": {
             "outlinewidth": 0,
             "ticks": ""
            },
            "type": "contourcarpet"
           }
          ],
          "heatmap": [
           {
            "colorbar": {
             "outlinewidth": 0,
             "ticks": ""
            },
            "colorscale": [
             [
              0,
              "#0d0887"
             ],
             [
              0.1111111111111111,
              "#46039f"
             ],
             [
              0.2222222222222222,
              "#7201a8"
             ],
             [
              0.3333333333333333,
              "#9c179e"
             ],
             [
              0.4444444444444444,
              "#bd3786"
             ],
             [
              0.5555555555555556,
              "#d8576b"
             ],
             [
              0.6666666666666666,
              "#ed7953"
             ],
             [
              0.7777777777777778,
              "#fb9f3a"
             ],
             [
              0.8888888888888888,
              "#fdca26"
             ],
             [
              1,
              "#f0f921"
             ]
            ],
            "type": "heatmap"
           }
          ],
          "heatmapgl": [
           {
            "colorbar": {
             "outlinewidth": 0,
             "ticks": ""
            },
            "colorscale": [
             [
              0,
              "#0d0887"
             ],
             [
              0.1111111111111111,
              "#46039f"
             ],
             [
              0.2222222222222222,
              "#7201a8"
             ],
             [
              0.3333333333333333,
              "#9c179e"
             ],
             [
              0.4444444444444444,
              "#bd3786"
             ],
             [
              0.5555555555555556,
              "#d8576b"
             ],
             [
              0.6666666666666666,
              "#ed7953"
             ],
             [
              0.7777777777777778,
              "#fb9f3a"
             ],
             [
              0.8888888888888888,
              "#fdca26"
             ],
             [
              1,
              "#f0f921"
             ]
            ],
            "type": "heatmapgl"
           }
          ],
          "histogram": [
           {
            "marker": {
             "pattern": {
              "fillmode": "overlay",
              "size": 10,
              "solidity": 0.2
             }
            },
            "type": "histogram"
           }
          ],
          "histogram2d": [
           {
            "colorbar": {
             "outlinewidth": 0,
             "ticks": ""
            },
            "colorscale": [
             [
              0,
              "#0d0887"
             ],
             [
              0.1111111111111111,
              "#46039f"
             ],
             [
              0.2222222222222222,
              "#7201a8"
             ],
             [
              0.3333333333333333,
              "#9c179e"
             ],
             [
              0.4444444444444444,
              "#bd3786"
             ],
             [
              0.5555555555555556,
              "#d8576b"
             ],
             [
              0.6666666666666666,
              "#ed7953"
             ],
             [
              0.7777777777777778,
              "#fb9f3a"
             ],
             [
              0.8888888888888888,
              "#fdca26"
             ],
             [
              1,
              "#f0f921"
             ]
            ],
            "type": "histogram2d"
           }
          ],
          "histogram2dcontour": [
           {
            "colorbar": {
             "outlinewidth": 0,
             "ticks": ""
            },
            "colorscale": [
             [
              0,
              "#0d0887"
             ],
             [
              0.1111111111111111,
              "#46039f"
             ],
             [
              0.2222222222222222,
              "#7201a8"
             ],
             [
              0.3333333333333333,
              "#9c179e"
             ],
             [
              0.4444444444444444,
              "#bd3786"
             ],
             [
              0.5555555555555556,
              "#d8576b"
             ],
             [
              0.6666666666666666,
              "#ed7953"
             ],
             [
              0.7777777777777778,
              "#fb9f3a"
             ],
             [
              0.8888888888888888,
              "#fdca26"
             ],
             [
              1,
              "#f0f921"
             ]
            ],
            "type": "histogram2dcontour"
           }
          ],
          "mesh3d": [
           {
            "colorbar": {
             "outlinewidth": 0,
             "ticks": ""
            },
            "type": "mesh3d"
           }
          ],
          "parcoords": [
           {
            "line": {
             "colorbar": {
              "outlinewidth": 0,
              "ticks": ""
             }
            },
            "type": "parcoords"
           }
          ],
          "pie": [
           {
            "automargin": true,
            "type": "pie"
           }
          ],
          "scatter": [
           {
            "fillpattern": {
             "fillmode": "overlay",
             "size": 10,
             "solidity": 0.2
            },
            "type": "scatter"
           }
          ],
          "scatter3d": [
           {
            "line": {
             "colorbar": {
              "outlinewidth": 0,
              "ticks": ""
             }
            },
            "marker": {
             "colorbar": {
              "outlinewidth": 0,
              "ticks": ""
             }
            },
            "type": "scatter3d"
           }
          ],
          "scattercarpet": [
           {
            "marker": {
             "colorbar": {
              "outlinewidth": 0,
              "ticks": ""
             }
            },
            "type": "scattercarpet"
           }
          ],
          "scattergeo": [
           {
            "marker": {
             "colorbar": {
              "outlinewidth": 0,
              "ticks": ""
             }
            },
            "type": "scattergeo"
           }
          ],
          "scattergl": [
           {
            "marker": {
             "colorbar": {
              "outlinewidth": 0,
              "ticks": ""
             }
            },
            "type": "scattergl"
           }
          ],
          "scattermapbox": [
           {
            "marker": {
             "colorbar": {
              "outlinewidth": 0,
              "ticks": ""
             }
            },
            "type": "scattermapbox"
           }
          ],
          "scatterpolar": [
           {
            "marker": {
             "colorbar": {
              "outlinewidth": 0,
              "ticks": ""
             }
            },
            "type": "scatterpolar"
           }
          ],
          "scatterpolargl": [
           {
            "marker": {
             "colorbar": {
              "outlinewidth": 0,
              "ticks": ""
             }
            },
            "type": "scatterpolargl"
           }
          ],
          "scatterternary": [
           {
            "marker": {
             "colorbar": {
              "outlinewidth": 0,
              "ticks": ""
             }
            },
            "type": "scatterternary"
           }
          ],
          "surface": [
           {
            "colorbar": {
             "outlinewidth": 0,
             "ticks": ""
            },
            "colorscale": [
             [
              0,
              "#0d0887"
             ],
             [
              0.1111111111111111,
              "#46039f"
             ],
             [
              0.2222222222222222,
              "#7201a8"
             ],
             [
              0.3333333333333333,
              "#9c179e"
             ],
             [
              0.4444444444444444,
              "#bd3786"
             ],
             [
              0.5555555555555556,
              "#d8576b"
             ],
             [
              0.6666666666666666,
              "#ed7953"
             ],
             [
              0.7777777777777778,
              "#fb9f3a"
             ],
             [
              0.8888888888888888,
              "#fdca26"
             ],
             [
              1,
              "#f0f921"
             ]
            ],
            "type": "surface"
           }
          ],
          "table": [
           {
            "cells": {
             "fill": {
              "color": "#EBF0F8"
             },
             "line": {
              "color": "white"
             }
            },
            "header": {
             "fill": {
              "color": "#C8D4E3"
             },
             "line": {
              "color": "white"
             }
            },
            "type": "table"
           }
          ]
         },
         "layout": {
          "annotationdefaults": {
           "arrowcolor": "#2a3f5f",
           "arrowhead": 0,
           "arrowwidth": 1
          },
          "autotypenumbers": "strict",
          "coloraxis": {
           "colorbar": {
            "outlinewidth": 0,
            "ticks": ""
           }
          },
          "colorscale": {
           "diverging": [
            [
             0,
             "#8e0152"
            ],
            [
             0.1,
             "#c51b7d"
            ],
            [
             0.2,
             "#de77ae"
            ],
            [
             0.3,
             "#f1b6da"
            ],
            [
             0.4,
             "#fde0ef"
            ],
            [
             0.5,
             "#f7f7f7"
            ],
            [
             0.6,
             "#e6f5d0"
            ],
            [
             0.7,
             "#b8e186"
            ],
            [
             0.8,
             "#7fbc41"
            ],
            [
             0.9,
             "#4d9221"
            ],
            [
             1,
             "#276419"
            ]
           ],
           "sequential": [
            [
             0,
             "#0d0887"
            ],
            [
             0.1111111111111111,
             "#46039f"
            ],
            [
             0.2222222222222222,
             "#7201a8"
            ],
            [
             0.3333333333333333,
             "#9c179e"
            ],
            [
             0.4444444444444444,
             "#bd3786"
            ],
            [
             0.5555555555555556,
             "#d8576b"
            ],
            [
             0.6666666666666666,
             "#ed7953"
            ],
            [
             0.7777777777777778,
             "#fb9f3a"
            ],
            [
             0.8888888888888888,
             "#fdca26"
            ],
            [
             1,
             "#f0f921"
            ]
           ],
           "sequentialminus": [
            [
             0,
             "#0d0887"
            ],
            [
             0.1111111111111111,
             "#46039f"
            ],
            [
             0.2222222222222222,
             "#7201a8"
            ],
            [
             0.3333333333333333,
             "#9c179e"
            ],
            [
             0.4444444444444444,
             "#bd3786"
            ],
            [
             0.5555555555555556,
             "#d8576b"
            ],
            [
             0.6666666666666666,
             "#ed7953"
            ],
            [
             0.7777777777777778,
             "#fb9f3a"
            ],
            [
             0.8888888888888888,
             "#fdca26"
            ],
            [
             1,
             "#f0f921"
            ]
           ]
          },
          "colorway": [
           "#636efa",
           "#EF553B",
           "#00cc96",
           "#ab63fa",
           "#FFA15A",
           "#19d3f3",
           "#FF6692",
           "#B6E880",
           "#FF97FF",
           "#FECB52"
          ],
          "font": {
           "color": "#2a3f5f"
          },
          "geo": {
           "bgcolor": "white",
           "lakecolor": "white",
           "landcolor": "#E5ECF6",
           "showlakes": true,
           "showland": true,
           "subunitcolor": "white"
          },
          "hoverlabel": {
           "align": "left"
          },
          "hovermode": "closest",
          "mapbox": {
           "style": "light"
          },
          "paper_bgcolor": "white",
          "plot_bgcolor": "#E5ECF6",
          "polar": {
           "angularaxis": {
            "gridcolor": "white",
            "linecolor": "white",
            "ticks": ""
           },
           "bgcolor": "#E5ECF6",
           "radialaxis": {
            "gridcolor": "white",
            "linecolor": "white",
            "ticks": ""
           }
          },
          "scene": {
           "xaxis": {
            "backgroundcolor": "#E5ECF6",
            "gridcolor": "white",
            "gridwidth": 2,
            "linecolor": "white",
            "showbackground": true,
            "ticks": "",
            "zerolinecolor": "white"
           },
           "yaxis": {
            "backgroundcolor": "#E5ECF6",
            "gridcolor": "white",
            "gridwidth": 2,
            "linecolor": "white",
            "showbackground": true,
            "ticks": "",
            "zerolinecolor": "white"
           },
           "zaxis": {
            "backgroundcolor": "#E5ECF6",
            "gridcolor": "white",
            "gridwidth": 2,
            "linecolor": "white",
            "showbackground": true,
            "ticks": "",
            "zerolinecolor": "white"
           }
          },
          "shapedefaults": {
           "line": {
            "color": "#2a3f5f"
           }
          },
          "ternary": {
           "aaxis": {
            "gridcolor": "white",
            "linecolor": "white",
            "ticks": ""
           },
           "baxis": {
            "gridcolor": "white",
            "linecolor": "white",
            "ticks": ""
           },
           "bgcolor": "#E5ECF6",
           "caxis": {
            "gridcolor": "white",
            "linecolor": "white",
            "ticks": ""
           }
          },
          "title": {
           "x": 0.05
          },
          "xaxis": {
           "automargin": true,
           "gridcolor": "white",
           "linecolor": "white",
           "ticks": "",
           "title": {
            "standoff": 15
           },
           "zerolinecolor": "white",
           "zerolinewidth": 2
          },
          "yaxis": {
           "automargin": true,
           "gridcolor": "white",
           "linecolor": "white",
           "ticks": "",
           "title": {
            "standoff": 15
           },
           "zerolinecolor": "white",
           "zerolinewidth": 2
          }
         }
        },
        "title": {
         "text": "Capped Index vs Attacked Capped Index"
        },
        "xaxis": {
         "title": {
          "text": "dates"
         }
        },
        "yaxis": {
         "title": {
          "text": "index"
         }
        }
       }
      }
     },
     "metadata": {},
     "output_type": "display_data"
    }
   ],
   "source": [
    "# Only cap item list on give dates. Everything else uncapped.\n",
    "\n",
    "ind, ind_data = most_traded_index(\n",
    "    df=agg_df_hist,\n",
    "    n=5000,\n",
    "    quantity_measure='min_quantity',\n",
    "    raw_index=raw_index,\n",
    "    compare=False,\n",
    "    min_quantity=100,\n",
    "    plot=False\n",
    ")\n",
    "ind_data = get_index_share(ind_data)\n",
    "mapping = pd.read_csv('data/csgo_mapping.csv', index_col=0)\n",
    "# Limit data to after mapping learning date\n",
    "ind_data = ind_data[ind_data['dates.date'] > '2023-03-23']\n",
    "ind_data = ind_data.merge(mapping, on='market_hash_name', how='inner')\n",
    "map_df = get_caps(ind_data, upper_multiplier=1, lower_multiplier=1000, items=item_list)\n",
    "date_list = [map_df['dates.date'][5] + pd.Timedelta(days=i) for i in range(30)]\n",
    "map_df['upper_cap_index_share'] = np.where(\n",
    "    (map_df['market_hash_name'].isin(item_list)) & (map_df['dates.date'].isin(date_list)),\n",
    "    map_df['upper_cap_index_share'],\n",
    "    1\n",
    ")\n",
    "attacked_df = simulate_attack(map_df, item_list, 30, increase=True)\n",
    "attacked_df = get_index_share(attacked_df)\n",
    "att_capped_ind, valid, invalid_lower, invalid_upper = cap_index(attacked_df)\n",
    "plot_inds(ind, att_capped_ind, 'Capped Index', 'Attacked Capped Index')a"
   ]
  },
  {
   "cell_type": "code",
   "execution_count": 201,
   "metadata": {},
   "outputs": [
    {
     "data": {
      "application/vnd.plotly.v1+json": {
       "config": {
        "plotlyServerURL": "https://plot.ly"
       },
       "data": [
        {
         "hovertemplate": "dates.date=%{x}<br>diff_pct=%{y}<extra></extra>",
         "legendgroup": "",
         "line": {
          "color": "#636efa",
          "dash": "solid"
         },
         "marker": {
          "symbol": "circle"
         },
         "mode": "lines",
         "name": "",
         "orientation": "v",
         "showlegend": false,
         "type": "scatter",
         "x": [
          "2023-03-24T00:00:00",
          "2023-03-25T00:00:00",
          "2023-03-26T00:00:00",
          "2023-03-27T00:00:00",
          "2023-03-28T00:00:00",
          "2023-03-29T00:00:00",
          "2023-03-30T00:00:00",
          "2023-03-31T00:00:00",
          "2023-04-01T00:00:00",
          "2023-04-02T00:00:00",
          "2023-04-03T00:00:00",
          "2023-04-04T00:00:00",
          "2023-04-05T00:00:00",
          "2023-04-06T00:00:00",
          "2023-04-07T00:00:00",
          "2023-04-08T00:00:00",
          "2023-04-09T00:00:00",
          "2023-04-10T00:00:00",
          "2023-04-11T00:00:00",
          "2023-04-12T00:00:00",
          "2023-04-13T00:00:00",
          "2023-04-14T00:00:00",
          "2023-04-15T00:00:00",
          "2023-04-16T00:00:00",
          "2023-04-17T00:00:00",
          "2023-04-18T00:00:00",
          "2023-04-19T00:00:00",
          "2023-04-20T00:00:00",
          "2023-04-21T00:00:00",
          "2023-04-22T00:00:00",
          "2023-04-23T00:00:00",
          "2023-04-24T00:00:00",
          "2023-04-25T00:00:00",
          "2023-04-26T00:00:00",
          "2023-04-27T00:00:00",
          "2023-04-28T00:00:00",
          "2023-04-29T00:00:00",
          "2023-04-30T00:00:00",
          "2023-05-01T00:00:00",
          "2023-05-02T00:00:00",
          "2023-05-03T00:00:00",
          "2023-05-04T00:00:00",
          "2023-05-05T00:00:00",
          "2023-05-06T00:00:00",
          "2023-05-07T00:00:00",
          "2023-05-08T00:00:00",
          "2023-05-09T00:00:00",
          "2023-05-10T00:00:00",
          "2023-05-11T00:00:00",
          "2023-05-12T00:00:00",
          "2023-05-13T00:00:00",
          "2023-05-14T00:00:00",
          "2023-05-15T00:00:00",
          "2023-05-16T00:00:00",
          "2023-05-17T00:00:00",
          "2023-05-18T00:00:00",
          "2023-05-19T00:00:00",
          "2023-05-20T00:00:00",
          "2023-05-21T00:00:00",
          "2023-05-22T00:00:00",
          "2023-05-23T00:00:00",
          "2023-05-24T00:00:00",
          "2023-05-25T00:00:00",
          "2023-05-26T00:00:00",
          "2023-05-27T00:00:00",
          "2023-05-28T00:00:00",
          "2023-05-29T00:00:00",
          "2023-05-30T00:00:00",
          "2023-05-31T00:00:00",
          "2023-06-01T00:00:00",
          "2023-06-02T00:00:00",
          "2023-06-03T00:00:00",
          "2023-06-04T00:00:00",
          "2023-06-05T00:00:00",
          "2023-06-06T00:00:00",
          "2023-06-07T00:00:00",
          "2023-06-08T00:00:00",
          "2023-06-09T00:00:00",
          "2023-06-10T00:00:00",
          "2023-06-11T00:00:00",
          "2023-06-12T00:00:00",
          "2023-06-13T00:00:00",
          "2023-06-14T00:00:00",
          "2023-06-15T00:00:00",
          "2023-06-16T00:00:00",
          "2023-06-17T00:00:00",
          "2023-06-18T00:00:00",
          "2023-06-19T00:00:00",
          "2023-06-20T00:00:00",
          "2023-06-21T00:00:00",
          "2023-06-22T00:00:00",
          "2023-06-23T00:00:00",
          "2023-06-24T00:00:00",
          "2023-06-25T00:00:00",
          "2023-06-26T00:00:00",
          "2023-06-27T00:00:00",
          "2023-06-28T00:00:00",
          "2023-06-29T00:00:00",
          "2023-06-30T00:00:00",
          "2023-07-01T00:00:00",
          "2023-07-02T00:00:00",
          "2023-07-03T00:00:00",
          "2023-07-04T00:00:00",
          "2023-07-05T00:00:00",
          "2023-07-06T00:00:00",
          "2023-07-07T00:00:00",
          "2023-07-08T00:00:00",
          "2023-07-09T00:00:00",
          "2023-07-10T00:00:00",
          "2023-07-11T00:00:00",
          "2023-07-12T00:00:00",
          "2023-07-13T00:00:00",
          "2023-07-14T00:00:00",
          "2023-07-15T00:00:00",
          "2023-07-16T00:00:00",
          "2023-07-17T00:00:00",
          "2023-07-18T00:00:00",
          "2023-07-19T00:00:00",
          "2023-07-20T00:00:00",
          "2023-07-21T00:00:00",
          "2023-07-22T00:00:00",
          "2023-07-23T00:00:00",
          "2023-07-24T00:00:00",
          "2023-07-25T00:00:00",
          "2023-07-26T00:00:00",
          "2023-07-27T00:00:00",
          "2023-07-28T00:00:00",
          "2023-07-29T00:00:00",
          "2023-07-30T00:00:00",
          "2023-07-31T00:00:00",
          "2023-08-01T00:00:00",
          "2023-08-02T00:00:00",
          "2023-08-03T00:00:00",
          "2023-08-04T00:00:00",
          "2023-08-05T00:00:00",
          "2023-08-06T00:00:00",
          "2023-08-07T00:00:00",
          "2023-08-08T00:00:00",
          "2023-08-09T00:00:00",
          "2023-08-10T00:00:00",
          "2023-08-11T00:00:00",
          "2023-08-12T00:00:00",
          "2023-08-13T00:00:00",
          "2023-08-14T00:00:00",
          "2023-08-15T00:00:00",
          "2023-08-16T00:00:00",
          "2023-08-17T00:00:00",
          "2023-08-18T00:00:00",
          "2023-08-19T00:00:00",
          "2023-08-20T00:00:00",
          "2023-08-21T00:00:00",
          "2023-08-22T00:00:00",
          "2023-08-23T00:00:00",
          "2023-08-24T00:00:00",
          "2023-08-25T00:00:00",
          "2023-08-26T00:00:00",
          "2023-08-27T00:00:00",
          "2023-08-28T00:00:00",
          "2023-08-29T00:00:00",
          "2023-08-30T00:00:00",
          "2023-08-31T00:00:00",
          "2023-09-01T00:00:00",
          "2023-09-02T00:00:00",
          "2023-09-03T00:00:00",
          "2023-09-04T00:00:00",
          "2023-09-05T00:00:00",
          "2023-09-06T00:00:00",
          "2023-09-07T00:00:00",
          "2023-09-08T00:00:00",
          "2023-09-09T00:00:00",
          "2023-09-10T00:00:00",
          "2023-09-11T00:00:00",
          "2023-09-12T00:00:00",
          "2023-09-13T00:00:00",
          "2023-09-14T00:00:00",
          "2023-09-15T00:00:00",
          "2023-09-16T00:00:00",
          "2023-09-17T00:00:00",
          "2023-09-18T00:00:00"
         ],
         "xaxis": "x",
         "y": [
          0,
          0,
          0,
          0,
          0,
          0.7093261080133326,
          0.7377000087080476,
          0.7177033586754179,
          0.6277369750714364,
          0.48980143940034443,
          0.5839505031576391,
          0.7784334690453245,
          0.7709112383380808,
          0.23819600500500918,
          0.32627967090948184,
          0.5650212591841492,
          0.33619544552084063,
          0.4050413726636378,
          0.4749253000771818,
          0.24533311093396024,
          0.10891947324875552,
          0.20788840218242993,
          0.7226274053496575,
          0.30304311466339656,
          0.15389758901263953,
          0.11996335636755748,
          0.23531823322663856,
          0.305925975247813,
          0.4167247509044098,
          0.4391176780478377,
          0.3800934440017331,
          0.39206660446466207,
          0.3957176294181897,
          0.45015685571506886,
          0.33584246411972224,
          0,
          0,
          0,
          0,
          0,
          0,
          0,
          0,
          0,
          0,
          0,
          0,
          0,
          0,
          0,
          0,
          0,
          0,
          0,
          0,
          0,
          0,
          0,
          0,
          0,
          0,
          0,
          0,
          0,
          0,
          0,
          0,
          0,
          0,
          0,
          0,
          0,
          0,
          0,
          0,
          0,
          0,
          0,
          0,
          0,
          0,
          0,
          0,
          0,
          0,
          0,
          0,
          0,
          0,
          0,
          0,
          0,
          0,
          0,
          0,
          0,
          0,
          0,
          0,
          0,
          0,
          0,
          0,
          0,
          0,
          0,
          0,
          0,
          0,
          0,
          0,
          0,
          0,
          0,
          0,
          0,
          0,
          0,
          0,
          0,
          0,
          0,
          0,
          0,
          0,
          0,
          0,
          0,
          0,
          0,
          0,
          0,
          0,
          0,
          0,
          0,
          0,
          0,
          0,
          0,
          0,
          0,
          0,
          0,
          0,
          0,
          0,
          0,
          0,
          0,
          0,
          0,
          0,
          0,
          0,
          0,
          0,
          0,
          0,
          0,
          0,
          0,
          0,
          0,
          0,
          0,
          0,
          0,
          0,
          0,
          0,
          0,
          0,
          0,
          0,
          0,
          0,
          0,
          0
         ],
         "yaxis": "y"
        }
       ],
       "layout": {
        "legend": {
         "tracegroupgap": 0
        },
        "template": {
         "data": {
          "bar": [
           {
            "error_x": {
             "color": "#2a3f5f"
            },
            "error_y": {
             "color": "#2a3f5f"
            },
            "marker": {
             "line": {
              "color": "#E5ECF6",
              "width": 0.5
             },
             "pattern": {
              "fillmode": "overlay",
              "size": 10,
              "solidity": 0.2
             }
            },
            "type": "bar"
           }
          ],
          "barpolar": [
           {
            "marker": {
             "line": {
              "color": "#E5ECF6",
              "width": 0.5
             },
             "pattern": {
              "fillmode": "overlay",
              "size": 10,
              "solidity": 0.2
             }
            },
            "type": "barpolar"
           }
          ],
          "carpet": [
           {
            "aaxis": {
             "endlinecolor": "#2a3f5f",
             "gridcolor": "white",
             "linecolor": "white",
             "minorgridcolor": "white",
             "startlinecolor": "#2a3f5f"
            },
            "baxis": {
             "endlinecolor": "#2a3f5f",
             "gridcolor": "white",
             "linecolor": "white",
             "minorgridcolor": "white",
             "startlinecolor": "#2a3f5f"
            },
            "type": "carpet"
           }
          ],
          "choropleth": [
           {
            "colorbar": {
             "outlinewidth": 0,
             "ticks": ""
            },
            "type": "choropleth"
           }
          ],
          "contour": [
           {
            "colorbar": {
             "outlinewidth": 0,
             "ticks": ""
            },
            "colorscale": [
             [
              0,
              "#0d0887"
             ],
             [
              0.1111111111111111,
              "#46039f"
             ],
             [
              0.2222222222222222,
              "#7201a8"
             ],
             [
              0.3333333333333333,
              "#9c179e"
             ],
             [
              0.4444444444444444,
              "#bd3786"
             ],
             [
              0.5555555555555556,
              "#d8576b"
             ],
             [
              0.6666666666666666,
              "#ed7953"
             ],
             [
              0.7777777777777778,
              "#fb9f3a"
             ],
             [
              0.8888888888888888,
              "#fdca26"
             ],
             [
              1,
              "#f0f921"
             ]
            ],
            "type": "contour"
           }
          ],
          "contourcarpet": [
           {
            "colorbar": {
             "outlinewidth": 0,
             "ticks": ""
            },
            "type": "contourcarpet"
           }
          ],
          "heatmap": [
           {
            "colorbar": {
             "outlinewidth": 0,
             "ticks": ""
            },
            "colorscale": [
             [
              0,
              "#0d0887"
             ],
             [
              0.1111111111111111,
              "#46039f"
             ],
             [
              0.2222222222222222,
              "#7201a8"
             ],
             [
              0.3333333333333333,
              "#9c179e"
             ],
             [
              0.4444444444444444,
              "#bd3786"
             ],
             [
              0.5555555555555556,
              "#d8576b"
             ],
             [
              0.6666666666666666,
              "#ed7953"
             ],
             [
              0.7777777777777778,
              "#fb9f3a"
             ],
             [
              0.8888888888888888,
              "#fdca26"
             ],
             [
              1,
              "#f0f921"
             ]
            ],
            "type": "heatmap"
           }
          ],
          "heatmapgl": [
           {
            "colorbar": {
             "outlinewidth": 0,
             "ticks": ""
            },
            "colorscale": [
             [
              0,
              "#0d0887"
             ],
             [
              0.1111111111111111,
              "#46039f"
             ],
             [
              0.2222222222222222,
              "#7201a8"
             ],
             [
              0.3333333333333333,
              "#9c179e"
             ],
             [
              0.4444444444444444,
              "#bd3786"
             ],
             [
              0.5555555555555556,
              "#d8576b"
             ],
             [
              0.6666666666666666,
              "#ed7953"
             ],
             [
              0.7777777777777778,
              "#fb9f3a"
             ],
             [
              0.8888888888888888,
              "#fdca26"
             ],
             [
              1,
              "#f0f921"
             ]
            ],
            "type": "heatmapgl"
           }
          ],
          "histogram": [
           {
            "marker": {
             "pattern": {
              "fillmode": "overlay",
              "size": 10,
              "solidity": 0.2
             }
            },
            "type": "histogram"
           }
          ],
          "histogram2d": [
           {
            "colorbar": {
             "outlinewidth": 0,
             "ticks": ""
            },
            "colorscale": [
             [
              0,
              "#0d0887"
             ],
             [
              0.1111111111111111,
              "#46039f"
             ],
             [
              0.2222222222222222,
              "#7201a8"
             ],
             [
              0.3333333333333333,
              "#9c179e"
             ],
             [
              0.4444444444444444,
              "#bd3786"
             ],
             [
              0.5555555555555556,
              "#d8576b"
             ],
             [
              0.6666666666666666,
              "#ed7953"
             ],
             [
              0.7777777777777778,
              "#fb9f3a"
             ],
             [
              0.8888888888888888,
              "#fdca26"
             ],
             [
              1,
              "#f0f921"
             ]
            ],
            "type": "histogram2d"
           }
          ],
          "histogram2dcontour": [
           {
            "colorbar": {
             "outlinewidth": 0,
             "ticks": ""
            },
            "colorscale": [
             [
              0,
              "#0d0887"
             ],
             [
              0.1111111111111111,
              "#46039f"
             ],
             [
              0.2222222222222222,
              "#7201a8"
             ],
             [
              0.3333333333333333,
              "#9c179e"
             ],
             [
              0.4444444444444444,
              "#bd3786"
             ],
             [
              0.5555555555555556,
              "#d8576b"
             ],
             [
              0.6666666666666666,
              "#ed7953"
             ],
             [
              0.7777777777777778,
              "#fb9f3a"
             ],
             [
              0.8888888888888888,
              "#fdca26"
             ],
             [
              1,
              "#f0f921"
             ]
            ],
            "type": "histogram2dcontour"
           }
          ],
          "mesh3d": [
           {
            "colorbar": {
             "outlinewidth": 0,
             "ticks": ""
            },
            "type": "mesh3d"
           }
          ],
          "parcoords": [
           {
            "line": {
             "colorbar": {
              "outlinewidth": 0,
              "ticks": ""
             }
            },
            "type": "parcoords"
           }
          ],
          "pie": [
           {
            "automargin": true,
            "type": "pie"
           }
          ],
          "scatter": [
           {
            "fillpattern": {
             "fillmode": "overlay",
             "size": 10,
             "solidity": 0.2
            },
            "type": "scatter"
           }
          ],
          "scatter3d": [
           {
            "line": {
             "colorbar": {
              "outlinewidth": 0,
              "ticks": ""
             }
            },
            "marker": {
             "colorbar": {
              "outlinewidth": 0,
              "ticks": ""
             }
            },
            "type": "scatter3d"
           }
          ],
          "scattercarpet": [
           {
            "marker": {
             "colorbar": {
              "outlinewidth": 0,
              "ticks": ""
             }
            },
            "type": "scattercarpet"
           }
          ],
          "scattergeo": [
           {
            "marker": {
             "colorbar": {
              "outlinewidth": 0,
              "ticks": ""
             }
            },
            "type": "scattergeo"
           }
          ],
          "scattergl": [
           {
            "marker": {
             "colorbar": {
              "outlinewidth": 0,
              "ticks": ""
             }
            },
            "type": "scattergl"
           }
          ],
          "scattermapbox": [
           {
            "marker": {
             "colorbar": {
              "outlinewidth": 0,
              "ticks": ""
             }
            },
            "type": "scattermapbox"
           }
          ],
          "scatterpolar": [
           {
            "marker": {
             "colorbar": {
              "outlinewidth": 0,
              "ticks": ""
             }
            },
            "type": "scatterpolar"
           }
          ],
          "scatterpolargl": [
           {
            "marker": {
             "colorbar": {
              "outlinewidth": 0,
              "ticks": ""
             }
            },
            "type": "scatterpolargl"
           }
          ],
          "scatterternary": [
           {
            "marker": {
             "colorbar": {
              "outlinewidth": 0,
              "ticks": ""
             }
            },
            "type": "scatterternary"
           }
          ],
          "surface": [
           {
            "colorbar": {
             "outlinewidth": 0,
             "ticks": ""
            },
            "colorscale": [
             [
              0,
              "#0d0887"
             ],
             [
              0.1111111111111111,
              "#46039f"
             ],
             [
              0.2222222222222222,
              "#7201a8"
             ],
             [
              0.3333333333333333,
              "#9c179e"
             ],
             [
              0.4444444444444444,
              "#bd3786"
             ],
             [
              0.5555555555555556,
              "#d8576b"
             ],
             [
              0.6666666666666666,
              "#ed7953"
             ],
             [
              0.7777777777777778,
              "#fb9f3a"
             ],
             [
              0.8888888888888888,
              "#fdca26"
             ],
             [
              1,
              "#f0f921"
             ]
            ],
            "type": "surface"
           }
          ],
          "table": [
           {
            "cells": {
             "fill": {
              "color": "#EBF0F8"
             },
             "line": {
              "color": "white"
             }
            },
            "header": {
             "fill": {
              "color": "#C8D4E3"
             },
             "line": {
              "color": "white"
             }
            },
            "type": "table"
           }
          ]
         },
         "layout": {
          "annotationdefaults": {
           "arrowcolor": "#2a3f5f",
           "arrowhead": 0,
           "arrowwidth": 1
          },
          "autotypenumbers": "strict",
          "coloraxis": {
           "colorbar": {
            "outlinewidth": 0,
            "ticks": ""
           }
          },
          "colorscale": {
           "diverging": [
            [
             0,
             "#8e0152"
            ],
            [
             0.1,
             "#c51b7d"
            ],
            [
             0.2,
             "#de77ae"
            ],
            [
             0.3,
             "#f1b6da"
            ],
            [
             0.4,
             "#fde0ef"
            ],
            [
             0.5,
             "#f7f7f7"
            ],
            [
             0.6,
             "#e6f5d0"
            ],
            [
             0.7,
             "#b8e186"
            ],
            [
             0.8,
             "#7fbc41"
            ],
            [
             0.9,
             "#4d9221"
            ],
            [
             1,
             "#276419"
            ]
           ],
           "sequential": [
            [
             0,
             "#0d0887"
            ],
            [
             0.1111111111111111,
             "#46039f"
            ],
            [
             0.2222222222222222,
             "#7201a8"
            ],
            [
             0.3333333333333333,
             "#9c179e"
            ],
            [
             0.4444444444444444,
             "#bd3786"
            ],
            [
             0.5555555555555556,
             "#d8576b"
            ],
            [
             0.6666666666666666,
             "#ed7953"
            ],
            [
             0.7777777777777778,
             "#fb9f3a"
            ],
            [
             0.8888888888888888,
             "#fdca26"
            ],
            [
             1,
             "#f0f921"
            ]
           ],
           "sequentialminus": [
            [
             0,
             "#0d0887"
            ],
            [
             0.1111111111111111,
             "#46039f"
            ],
            [
             0.2222222222222222,
             "#7201a8"
            ],
            [
             0.3333333333333333,
             "#9c179e"
            ],
            [
             0.4444444444444444,
             "#bd3786"
            ],
            [
             0.5555555555555556,
             "#d8576b"
            ],
            [
             0.6666666666666666,
             "#ed7953"
            ],
            [
             0.7777777777777778,
             "#fb9f3a"
            ],
            [
             0.8888888888888888,
             "#fdca26"
            ],
            [
             1,
             "#f0f921"
            ]
           ]
          },
          "colorway": [
           "#636efa",
           "#EF553B",
           "#00cc96",
           "#ab63fa",
           "#FFA15A",
           "#19d3f3",
           "#FF6692",
           "#B6E880",
           "#FF97FF",
           "#FECB52"
          ],
          "font": {
           "color": "#2a3f5f"
          },
          "geo": {
           "bgcolor": "white",
           "lakecolor": "white",
           "landcolor": "#E5ECF6",
           "showlakes": true,
           "showland": true,
           "subunitcolor": "white"
          },
          "hoverlabel": {
           "align": "left"
          },
          "hovermode": "closest",
          "mapbox": {
           "style": "light"
          },
          "paper_bgcolor": "white",
          "plot_bgcolor": "#E5ECF6",
          "polar": {
           "angularaxis": {
            "gridcolor": "white",
            "linecolor": "white",
            "ticks": ""
           },
           "bgcolor": "#E5ECF6",
           "radialaxis": {
            "gridcolor": "white",
            "linecolor": "white",
            "ticks": ""
           }
          },
          "scene": {
           "xaxis": {
            "backgroundcolor": "#E5ECF6",
            "gridcolor": "white",
            "gridwidth": 2,
            "linecolor": "white",
            "showbackground": true,
            "ticks": "",
            "zerolinecolor": "white"
           },
           "yaxis": {
            "backgroundcolor": "#E5ECF6",
            "gridcolor": "white",
            "gridwidth": 2,
            "linecolor": "white",
            "showbackground": true,
            "ticks": "",
            "zerolinecolor": "white"
           },
           "zaxis": {
            "backgroundcolor": "#E5ECF6",
            "gridcolor": "white",
            "gridwidth": 2,
            "linecolor": "white",
            "showbackground": true,
            "ticks": "",
            "zerolinecolor": "white"
           }
          },
          "shapedefaults": {
           "line": {
            "color": "#2a3f5f"
           }
          },
          "ternary": {
           "aaxis": {
            "gridcolor": "white",
            "linecolor": "white",
            "ticks": ""
           },
           "baxis": {
            "gridcolor": "white",
            "linecolor": "white",
            "ticks": ""
           },
           "bgcolor": "#E5ECF6",
           "caxis": {
            "gridcolor": "white",
            "linecolor": "white",
            "ticks": ""
           }
          },
          "title": {
           "x": 0.05
          },
          "xaxis": {
           "automargin": true,
           "gridcolor": "white",
           "linecolor": "white",
           "ticks": "",
           "title": {
            "standoff": 15
           },
           "zerolinecolor": "white",
           "zerolinewidth": 2
          },
          "yaxis": {
           "automargin": true,
           "gridcolor": "white",
           "linecolor": "white",
           "ticks": "",
           "title": {
            "standoff": 15
           },
           "zerolinecolor": "white",
           "zerolinewidth": 2
          }
         }
        },
        "title": {
         "text": "Difference between attacked capped index and raw index"
        },
        "xaxis": {
         "anchor": "y",
         "domain": [
          0,
          1
         ],
         "title": {
          "text": "dates.date"
         }
        },
        "yaxis": {
         "anchor": "x",
         "domain": [
          0,
          1
         ],
         "title": {
          "text": "diff_pct"
         }
        }
       }
      }
     },
     "metadata": {},
     "output_type": "display_data"
    }
   ],
   "source": [
    "# Plot difference between capped_ind and att_capped_ind using plotly\n",
    "diff = pd.DataFrame()\n",
    "# rename column index to att_capped_index\n",
    "att_capped_ind = att_capped_ind.rename(columns={'index': 'att_capped_index'})\n",
    "diff = att_capped_ind.merge(ind, on='dates.date', how='inner')\n",
    "diff['diff_pct'] = (diff['att_capped_index'] - diff['index']) * 100/diff['index']\n",
    "px.line(diff, x='dates.date', y='diff_pct', title='Difference between attacked capped index and raw index')"
   ]
  },
  {
   "cell_type": "code",
   "execution_count": 216,
   "metadata": {},
   "outputs": [
    {
     "data": {
      "text/html": [
       "<div>\n",
       "<style scoped>\n",
       "    .dataframe tbody tr th:only-of-type {\n",
       "        vertical-align: middle;\n",
       "    }\n",
       "\n",
       "    .dataframe tbody tr th {\n",
       "        vertical-align: top;\n",
       "    }\n",
       "\n",
       "    .dataframe thead th {\n",
       "        text-align: right;\n",
       "    }\n",
       "</style>\n",
       "<table border=\"1\" class=\"dataframe\">\n",
       "  <thead>\n",
       "    <tr style=\"text-align: right;\">\n",
       "      <th></th>\n",
       "      <th>dates.date</th>\n",
       "      <th>sum_index</th>\n",
       "      <th>sum_lower_cap_index_share</th>\n",
       "      <th>sum_upper_cap_index_share</th>\n",
       "      <th>att_capped_index</th>\n",
       "      <th>attacked_pct_share</th>\n",
       "    </tr>\n",
       "  </thead>\n",
       "  <tbody>\n",
       "    <tr>\n",
       "      <th>0</th>\n",
       "      <td>2023-03-24</td>\n",
       "      <td>9368559.59</td>\n",
       "      <td>0.0</td>\n",
       "      <td>0.000000</td>\n",
       "      <td>9.368560e+06</td>\n",
       "      <td>0.000000</td>\n",
       "    </tr>\n",
       "    <tr>\n",
       "      <th>1</th>\n",
       "      <td>2023-03-25</td>\n",
       "      <td>9459283.72</td>\n",
       "      <td>0.0</td>\n",
       "      <td>0.000000</td>\n",
       "      <td>9.459284e+06</td>\n",
       "      <td>0.000000</td>\n",
       "    </tr>\n",
       "    <tr>\n",
       "      <th>2</th>\n",
       "      <td>2023-03-26</td>\n",
       "      <td>9510401.01</td>\n",
       "      <td>0.0</td>\n",
       "      <td>0.000000</td>\n",
       "      <td>9.510401e+06</td>\n",
       "      <td>0.000000</td>\n",
       "    </tr>\n",
       "    <tr>\n",
       "      <th>3</th>\n",
       "      <td>2023-03-27</td>\n",
       "      <td>10052376.16</td>\n",
       "      <td>0.0</td>\n",
       "      <td>0.000000</td>\n",
       "      <td>1.005238e+07</td>\n",
       "      <td>0.000000</td>\n",
       "    </tr>\n",
       "    <tr>\n",
       "      <th>4</th>\n",
       "      <td>2023-03-28</td>\n",
       "      <td>9915864.80</td>\n",
       "      <td>0.0</td>\n",
       "      <td>0.000000</td>\n",
       "      <td>9.915865e+06</td>\n",
       "      <td>0.000000</td>\n",
       "    </tr>\n",
       "    <tr>\n",
       "      <th>5</th>\n",
       "      <td>2023-03-29</td>\n",
       "      <td>8732379.94</td>\n",
       "      <td>0.0</td>\n",
       "      <td>0.116462</td>\n",
       "      <td>9.883425e+06</td>\n",
       "      <td>11.646212</td>\n",
       "    </tr>\n",
       "    <tr>\n",
       "      <th>6</th>\n",
       "      <td>2023-03-30</td>\n",
       "      <td>8800966.14</td>\n",
       "      <td>0.0</td>\n",
       "      <td>0.116462</td>\n",
       "      <td>9.961051e+06</td>\n",
       "      <td>11.646212</td>\n",
       "    </tr>\n",
       "    <tr>\n",
       "      <th>7</th>\n",
       "      <td>2023-03-31</td>\n",
       "      <td>8915222.58</td>\n",
       "      <td>0.0</td>\n",
       "      <td>0.116462</td>\n",
       "      <td>1.009037e+07</td>\n",
       "      <td>11.646212</td>\n",
       "    </tr>\n",
       "    <tr>\n",
       "      <th>8</th>\n",
       "      <td>2023-04-01</td>\n",
       "      <td>9040730.41</td>\n",
       "      <td>0.0</td>\n",
       "      <td>0.116462</td>\n",
       "      <td>1.023242e+07</td>\n",
       "      <td>11.646212</td>\n",
       "    </tr>\n",
       "    <tr>\n",
       "      <th>9</th>\n",
       "      <td>2023-04-02</td>\n",
       "      <td>9104170.11</td>\n",
       "      <td>0.0</td>\n",
       "      <td>0.116462</td>\n",
       "      <td>1.030422e+07</td>\n",
       "      <td>11.646212</td>\n",
       "    </tr>\n",
       "    <tr>\n",
       "      <th>10</th>\n",
       "      <td>2023-04-03</td>\n",
       "      <td>9191036.17</td>\n",
       "      <td>0.0</td>\n",
       "      <td>0.116462</td>\n",
       "      <td>1.040254e+07</td>\n",
       "      <td>11.646212</td>\n",
       "    </tr>\n",
       "    <tr>\n",
       "      <th>11</th>\n",
       "      <td>2023-04-04</td>\n",
       "      <td>9308526.19</td>\n",
       "      <td>0.0</td>\n",
       "      <td>0.116462</td>\n",
       "      <td>1.053551e+07</td>\n",
       "      <td>11.646212</td>\n",
       "    </tr>\n",
       "    <tr>\n",
       "      <th>12</th>\n",
       "      <td>2023-04-05</td>\n",
       "      <td>9449374.40</td>\n",
       "      <td>0.0</td>\n",
       "      <td>0.116462</td>\n",
       "      <td>1.069493e+07</td>\n",
       "      <td>11.646212</td>\n",
       "    </tr>\n",
       "    <tr>\n",
       "      <th>13</th>\n",
       "      <td>2023-04-06</td>\n",
       "      <td>9769059.72</td>\n",
       "      <td>0.0</td>\n",
       "      <td>0.116462</td>\n",
       "      <td>1.105675e+07</td>\n",
       "      <td>11.646212</td>\n",
       "    </tr>\n",
       "    <tr>\n",
       "      <th>14</th>\n",
       "      <td>2023-04-07</td>\n",
       "      <td>9977107.85</td>\n",
       "      <td>0.0</td>\n",
       "      <td>0.116462</td>\n",
       "      <td>1.129222e+07</td>\n",
       "      <td>11.646212</td>\n",
       "    </tr>\n",
       "    <tr>\n",
       "      <th>15</th>\n",
       "      <td>2023-04-08</td>\n",
       "      <td>9944856.29</td>\n",
       "      <td>0.0</td>\n",
       "      <td>0.116462</td>\n",
       "      <td>1.125572e+07</td>\n",
       "      <td>11.646212</td>\n",
       "    </tr>\n",
       "    <tr>\n",
       "      <th>16</th>\n",
       "      <td>2023-04-09</td>\n",
       "      <td>9983018.21</td>\n",
       "      <td>0.0</td>\n",
       "      <td>0.116462</td>\n",
       "      <td>1.129891e+07</td>\n",
       "      <td>11.646212</td>\n",
       "    </tr>\n",
       "    <tr>\n",
       "      <th>17</th>\n",
       "      <td>2023-04-10</td>\n",
       "      <td>10100271.39</td>\n",
       "      <td>0.0</td>\n",
       "      <td>0.116462</td>\n",
       "      <td>1.143162e+07</td>\n",
       "      <td>11.646212</td>\n",
       "    </tr>\n",
       "    <tr>\n",
       "      <th>18</th>\n",
       "      <td>2023-04-11</td>\n",
       "      <td>10420696.34</td>\n",
       "      <td>0.0</td>\n",
       "      <td>0.116462</td>\n",
       "      <td>1.179428e+07</td>\n",
       "      <td>11.646212</td>\n",
       "    </tr>\n",
       "    <tr>\n",
       "      <th>19</th>\n",
       "      <td>2023-04-12</td>\n",
       "      <td>10812221.84</td>\n",
       "      <td>0.0</td>\n",
       "      <td>0.116462</td>\n",
       "      <td>1.223742e+07</td>\n",
       "      <td>11.646212</td>\n",
       "    </tr>\n",
       "  </tbody>\n",
       "</table>\n",
       "</div>"
      ],
      "text/plain": [
       "   dates.date    sum_index  sum_lower_cap_index_share  \\\n",
       "0  2023-03-24   9368559.59                        0.0   \n",
       "1  2023-03-25   9459283.72                        0.0   \n",
       "2  2023-03-26   9510401.01                        0.0   \n",
       "3  2023-03-27  10052376.16                        0.0   \n",
       "4  2023-03-28   9915864.80                        0.0   \n",
       "5  2023-03-29   8732379.94                        0.0   \n",
       "6  2023-03-30   8800966.14                        0.0   \n",
       "7  2023-03-31   8915222.58                        0.0   \n",
       "8  2023-04-01   9040730.41                        0.0   \n",
       "9  2023-04-02   9104170.11                        0.0   \n",
       "10 2023-04-03   9191036.17                        0.0   \n",
       "11 2023-04-04   9308526.19                        0.0   \n",
       "12 2023-04-05   9449374.40                        0.0   \n",
       "13 2023-04-06   9769059.72                        0.0   \n",
       "14 2023-04-07   9977107.85                        0.0   \n",
       "15 2023-04-08   9944856.29                        0.0   \n",
       "16 2023-04-09   9983018.21                        0.0   \n",
       "17 2023-04-10  10100271.39                        0.0   \n",
       "18 2023-04-11  10420696.34                        0.0   \n",
       "19 2023-04-12  10812221.84                        0.0   \n",
       "\n",
       "    sum_upper_cap_index_share  att_capped_index  attacked_pct_share  \n",
       "0                    0.000000      9.368560e+06            0.000000  \n",
       "1                    0.000000      9.459284e+06            0.000000  \n",
       "2                    0.000000      9.510401e+06            0.000000  \n",
       "3                    0.000000      1.005238e+07            0.000000  \n",
       "4                    0.000000      9.915865e+06            0.000000  \n",
       "5                    0.116462      9.883425e+06           11.646212  \n",
       "6                    0.116462      9.961051e+06           11.646212  \n",
       "7                    0.116462      1.009037e+07           11.646212  \n",
       "8                    0.116462      1.023242e+07           11.646212  \n",
       "9                    0.116462      1.030422e+07           11.646212  \n",
       "10                   0.116462      1.040254e+07           11.646212  \n",
       "11                   0.116462      1.053551e+07           11.646212  \n",
       "12                   0.116462      1.069493e+07           11.646212  \n",
       "13                   0.116462      1.105675e+07           11.646212  \n",
       "14                   0.116462      1.129222e+07           11.646212  \n",
       "15                   0.116462      1.125572e+07           11.646212  \n",
       "16                   0.116462      1.129891e+07           11.646212  \n",
       "17                   0.116462      1.143162e+07           11.646212  \n",
       "18                   0.116462      1.179428e+07           11.646212  \n",
       "19                   0.116462      1.223742e+07           11.646212  "
      ]
     },
     "execution_count": 216,
     "metadata": {},
     "output_type": "execute_result"
    }
   ],
   "source": [
    "att_capped_ind['attacked_pct_share'] = (att_capped_ind['att_capped_index'] - att_capped_ind['sum_index'])*100/att_capped_ind['att_capped_index']\n",
    "att_capped_ind.head(20)"
   ]
  }
 ],
 "metadata": {
  "kernelspec": {
   "display_name": "venv",
   "language": "python",
   "name": "python3"
  },
  "language_info": {
   "codemirror_mode": {
    "name": "ipython",
    "version": 3
   },
   "file_extension": ".py",
   "mimetype": "text/x-python",
   "name": "python",
   "nbconvert_exporter": "python",
   "pygments_lexer": "ipython3",
   "version": "3.9.17"
  },
  "orig_nbformat": 4
 },
 "nbformat": 4,
 "nbformat_minor": 2
}
